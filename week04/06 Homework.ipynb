{
 "cells": [
  {
   "cell_type": "markdown",
   "metadata": {},
   "source": [
    "## Ainsley Works on Problem Sets\n",
    "\n",
    "Ainsley sits down on Sunday night to finish S problem sets, where S is a random variable that is equally likely to be 1, 2, 3, or 4. She learns C concepts from the problem sets and drinks D energy drinks to stay awake, where C and D are random and depend on how many problem sets she does. You know that $p_{C|S}(c|s) = 1/(2s+1)$ for $c \\in \\{ 0,1,\\ldots ,2s\\}.$ For each problem set she completes, regardless of concepts learned, she independently decides to have an energy drink with probability $q.$ That is, the number of energy drinks she has is binomial with parameters $q$ and $S:$\n",
    "\n",
    "$$\\begin{eqnarray}\n",
    "    p_{D\\mid S}(d\\mid s) &= \\begin{cases} {s \\choose d}\\, q^d\\, (1-q)^{s-d} & d \\in \\{0,\\ldots,s\\} \\\\\n",
    "            0 & \\text{otherwise} \\end{cases}\n",
    "\\end{eqnarray}$$\n",
    "\n",
    "where ${n \\choose k} = \\frac{n!}{k!\\, (n-k)!}.$\n",
    "\n",
    "**Question:** Does the conditional entropy $H(C\\mid S=s)$ decrease, stay the same, or increase as $s$ increases from $1$ to $4?$\n",
    "\n",
    "\n",
    "[$\\checkmark$] It decreases.    <br>\n",
    "[$\\checkmark$] It stays the same<br>\n",
    "[$\\checkmark$] It increases.    <br>\n",
    "[$\\checkmark$] unanswered\n",
    "\n",
    "**Question:** The next morning, her roommate notices that Ainsley drank $d$ energy drinks. What is the expected number of concepts that she learned?\n",
    "\n",
    "You should derive a general expression for this although in the answer boxes below we only ask you to evaluate the expression for specific choices of d and q. If you're general expression is correct, your answers to these should also be correct.\n",
    "\n",
    "(Please be precise with at least 3 decimal places, unless of course the answer doesn't need that many decimal places. You could also put a fraction.)\n",
    "\n",
    "1. When $q=0.2, \\mathbb {E}[C | D = 1] =$  \n",
    " unanswered  \n",
    "2. When $q=0.5, \\mathbb {E}[C | D = 2] =$  \n",
    " unanswered  \n",
    "3. When $q=0.7, \\mathbb {E}[C | D = 3] =$  \n",
    " unanswered  \n",
    "\n",
    "**Question:** Is the mutual information $I(C ; D)$ greater than, less than, or equal to zero? You should assume that $q$ lies in the range $0 < q < 1.$\n",
    "\n",
    "\n",
    "[$\\checkmark$] Greater than 0<br>\n",
    "[$\\checkmark$] Less than 0   <br>\n",
    "[$\\checkmark$] Equal to 0    <br>\n",
    "[$\\checkmark$] unanswered"
   ]
  },
  {
   "cell_type": "markdown",
   "metadata": {
    "collapsed": true
   },
   "source": [
    "## Consecutive Sixes\n",
    "\n",
    "**Question:** On average, how many times do you have to roll a fair six-sided die before getting two consecutive sixes?\n",
    "\n",
    "Hint: Use total expectation."
   ]
  },
  {
   "cell_type": "code",
   "execution_count": null,
   "metadata": {
    "collapsed": true
   },
   "outputs": [],
   "source": []
  }
 ],
 "metadata": {
  "kernelspec": {
   "display_name": "Python 3",
   "language": "python",
   "name": "python3"
  },
  "language_info": {
   "codemirror_mode": {
    "name": "ipython",
    "version": 3
   },
   "file_extension": ".py",
   "mimetype": "text/x-python",
   "name": "python",
   "nbconvert_exporter": "python",
   "pygments_lexer": "ipython3",
   "version": "3.4.3"
  }
 },
 "nbformat": 4,
 "nbformat_minor": 0
}
