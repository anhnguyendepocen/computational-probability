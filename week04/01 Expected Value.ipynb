{
 "cells": [
  {
   "cell_type": "markdown",
   "metadata": {
    "extensions": {
     "jupyter_dashboards": {
      "version": 1,
      "views": {
       "grid_default": {
        "col": 0,
        "height": 13,
        "hidden": false,
        "row": 0,
        "width": null
       },
       "report_default": {}
      }
     }
    }
   },
   "source": [
    "## Expected value of random variable\n",
    "\n",
    "Expected value of random variable is generalization of taking average of numbers. It is similar to taking weighted average, where each value of random variable is multiplied by it's probability. \n",
    "\n",
    "$$\\mathbb{E}[X] = \\sum_{x \\in \\mathcal{X}} x \\cdot p_X(x) $$\n",
    "\n",
    "Also in terms of conditional probability,\n",
    "$$\\mathbb{E}[X \\mid Y=y] = \\sum_{x \\in \\mathcal{X}} x \\cdot p_{X\\mid Y}(x\\mid y)$$\n",
    "\n",
    "In general, let $f$ any function from $\\mathbb{R}$ to $\\mathbb{R}$, then \n",
    "\n",
    "$$ \\mathbb{E}[f(X)] = \\sum_{x \\in \\mathcal{X}} f(x) \\cdot p_X(x) $$\n",
    "\n",
    "Thus expectection gives a single number associated with a probability table."
   ]
  },
  {
   "cell_type": "markdown",
   "metadata": {},
   "source": [
    "### Exercise: Expected Value\n",
    "\n",
    "Suppose that a student's score on a test will be $100$ if she studies the week before, and $75$ if she does not. Suppose also that the student's probability of studying the week before is $0.8$. What is her expected score? (Please provide an exact answer.)"
   ]
  },
  {
   "cell_type": "code",
   "execution_count": 1,
   "metadata": {
    "collapsed": false
   },
   "outputs": [
    {
     "data": {
      "text/plain": [
       "95.0"
      ]
     },
     "execution_count": 1,
     "metadata": {},
     "output_type": "execute_result"
    }
   ],
   "source": [
    "X = {'S': 100, 'N':75}; p_X = {'S': 0.80, 'N': 0.20}\n",
    "E_X = sum([X[i] * p_X[i] for i in X]); E_X"
   ]
  },
  {
   "cell_type": "markdown",
   "metadata": {},
   "source": [
    "Let's look at why the expected value of a random variable is in some sense a “good\" average value. Let $X$ be the result of a single fair six-sided die with faces $1$ up through $6$.\n",
    "\n",
    "Simulate 10,000 rolls of the die roll in Python and take the average of the faces that appeared. What do you get? (Just make a note of it. There's no answer box to enter this in.)\n",
    "\n",
    "What is $\\mathbb{E}[X]$? (Please provide an exact answer.)"
   ]
  },
  {
   "cell_type": "code",
   "execution_count": 2,
   "metadata": {
    "collapsed": false
   },
   "outputs": [
    {
     "data": {
      "text/plain": [
       "3.5"
      ]
     },
     "execution_count": 2,
     "metadata": {},
     "output_type": "execute_result"
    }
   ],
   "source": [
    "E_X = sum([i * 1/6 for i in range(1,7)]); E_X"
   ]
  },
  {
   "cell_type": "markdown",
   "metadata": {},
   "source": [
    "You should notice that the average you get in simulation should be very close to E[X], and in fact, if you increase the number of rolls, it will tend to get closer (it doesn't necessarily have to get closer when you do each additional roll but the trend is there as you just keep increasing the number of rolls)."
   ]
  },
  {
   "cell_type": "code",
   "execution_count": 3,
   "metadata": {
    "collapsed": false
   },
   "outputs": [
    {
     "name": "stdout",
     "output_type": "stream",
     "text": [
      "3.497\n"
     ]
    }
   ],
   "source": [
    "import sys\n",
    "import numpy as np\n",
    "sys.path.append('../comp_prob_inference')\n",
    "import comp_prob_inference\n",
    "p_X = {i: 1/6 for i in range(1, 7)}\n",
    "num_samples = 10000\n",
    "print(np.mean([comp_prob_inference.sample_from_finite_probability_space(p_X) for n in range(num_samples)]))"
   ]
  },
  {
   "cell_type": "code",
   "execution_count": 4,
   "metadata": {
    "collapsed": false
   },
   "outputs": [
    {
     "data": {
      "image/png": "[encoded data removed]",
      "text/plain": [
       "<matplotlib.figure.Figure at 0x531f320>"
      ]
     },
     "metadata": {},
     "output_type": "display_data"
    }
   ],
   "source": [
    "import matplotlib.pyplot as plt\n",
    "plt.figure(figsize=(8, 4))\n",
    "\n",
    "n = 5000\n",
    "x = list(range(1, n+1))\n",
    "y = []\n",
    "for i in x:\n",
    "    if i == 1:\n",
    "        y.append(comp_prob_inference.sample_from_finite_probability_space(p_X))\n",
    "    if i > 1:\n",
    "        y.append((y[i-2] * (i-1) + comp_prob_inference.sample_from_finite_probability_space(p_X)) / i)\n",
    "       \n",
    "plt.xlabel('No of dice rolled')\n",
    "plt.ylabel('Expected value')\n",
    "plt.plot(x,y)\n",
    "plt.show()"
   ]
  },
  {
   "cell_type": "markdown",
   "metadata": {},
   "source": [
    "We can observe that as the no of dice roll increases the become closer to $3.5$."
   ]
  },
  {
   "cell_type": "markdown",
   "metadata": {},
   "source": [
    "## Variance \n",
    "\n",
    "This exercise explores the important concept of variance, which measures how much a random variable deviates from its expectation. This can be thought of as a measure of uncertainty. Higher variance means more uncertainty.\n",
    "\n",
    "The variance of a real-valued random variable $X$ is defined as\n",
    "\n",
    "$$\\text {var}(X) \\triangleq \\mathbb {E}[ (X - \\mathbb {E}[X])^2 ].$$\n",
    " \n",
    "Note that as we saw previously, $\\mathbb{E}[X]$ is just a single number. To keep the variance of $X$, what you could do is first compute the expectation of $X$.\n",
    "\n",
    "For example, if $X$ takes on each of the values $3$, $5$, and $10$ with equal probability $1/3$, then first we compute $\\mathbb{E}[X]$ to get $6$, and then we compute $\\mathbb{E}[(X−6)^2]$, where we remember to use the result that for a function $f$, if $f(X)$ is a real-valued random variable, then $\\mathbb{E}[f(X)]=\\sum_x xf(x)pX(x)$. Here, $f$ is given by $f(x)=(x−6)^2$. So\n",
    "\n",
    "$$\\text {var}(X) = (3 - 6)^2 \\cdot \\frac13 + (5 - 6)^2 \\cdot \\frac13 + (10 - 6)^2 \\cdot \\frac13 = \\frac{26}{3}.$$"
   ]
  },
  {
   "cell_type": "code",
   "execution_count": 5,
   "metadata": {
    "collapsed": false
   },
   "outputs": [],
   "source": [
    "def E(p_X):\n",
    "    return sum([key * value for key, value in p_X.items()])  \n",
    "    \n",
    "\n",
    "def VAR(p_X):\n",
    "    avg  = E(p_X)\n",
    "    p_Xt = {(key - avg)**2 : value for key, value in p_X.items()}\n",
    "    return E(p_Xt)"
   ]
  },
  {
   "cell_type": "markdown",
   "metadata": {},
   "source": [
    "### Exercise \n",
    "\n",
    "Let's return to the three lotteries from earlier. Here, random variables $L_1$, $L_2$, and $L_3$ represent the amount won (accounting for having to pay \\$1):\n",
    "\n",
    "|$L_1$      |            $p$           |        $L_2$ |            $p$           |   $L_3$ |       $p$      |\n",
    "|----------:|:------------------------:|-------------:|:------------------------:|--------:|:--------------:|\n",
    "|        -1 | $\\frac{999999}{1000000}$ |           -1 | $\\frac{999999}{1000000}$ |      -1 | $\\frac{9}{10}$ |\n",
    "|   -1+1000 |    $\\frac{1}{1000000}$   |   -1+1000000 |    $\\frac{1}{1000000}$   |   -1+10 | $\\frac{1}{10}$ |\n",
    "\n",
    "\n",
    "Compute the variance for each of these three random variables. (Please provide the exact answer for each of these.)"
   ]
  },
  {
   "cell_type": "markdown",
   "metadata": {
    "variables": {
     "V_1": "0.999999",
     "V_2": "999999.0",
     "V_3": "9.0"
    }
   },
   "source": [
    "- var($L_1$)= {{V_1}} \n",
    "- var($L_2$)= {{V_2}} \n",
    "- var($L_3$)= {{V_3}} "
   ]
  },
  {
   "cell_type": "code",
   "execution_count": 6,
   "metadata": {
    "collapsed": true
   },
   "outputs": [],
   "source": [
    "p_L1 = {-1: 999999/1000000, 999   : 1/1000000}\n",
    "p_L2 = {-1: 999999/1000000, 999999: 1/1000000}\n",
    "p_L3 = {-1:      9/10     , 9     : 1/10     }\n",
    "\n",
    "V_1 = VAR(p_L1)\n",
    "V_2 = VAR(p_L2)\n",
    "V_3 = VAR(p_L3)"
   ]
  },
  {
   "cell_type": "markdown",
   "metadata": {},
   "source": [
    "What units is variance in? Notice that we started with dollars, and then variance is looking at the expectation of a dollar amount squared. Thus, specifically for the lottery example $\\text {var}(L_1)$, $\\text {var}(L_2)$, and $\\text {var}(L_3)$ are each in squared dollars."
   ]
  },
  {
   "cell_type": "markdown",
   "metadata": {},
   "source": [
    "## Standard Deviation\n",
    "\n",
    "Some times, people prefer keeping the units the same as the original units (i.e., without squaring), which you can get by computing what's called the standard deviation of a real-valued random variable $X$:\n",
    "\n",
    "$$\\text {std}(X) \\triangleq \\sqrt {\\text {var}(X)}.$$"
   ]
  },
  {
   "cell_type": "code",
   "execution_count": 7,
   "metadata": {
    "collapsed": false
   },
   "outputs": [],
   "source": [
    "def STD(p_X):\n",
    "    from sympy import sqrt \n",
    "    return sqrt(VAR(p_X))"
   ]
  },
  {
   "cell_type": "markdown",
   "metadata": {
    "variables": {
     "print(S_1)": "0.999999499999875",
     "print(S_2)": "999.999499999875",
     "print(S_3)": "3.00000000000000"
    }
   },
   "source": [
    "### Exercise \n",
    "\n",
    "Compute the following standard deviations, which are in units of dollars. (Please be precise with at least 3 decimal places, unless of course the answer doesn't need that many decimal places. You could also put a fraction.)\n",
    "\n",
    "- std($L_1$) =  {{print(S_1)}}\n",
    "- std($L_2$) =  {{print(S_2)}}\n",
    "- std($L_3$) =  {{print(S_3)}}"
   ]
  },
  {
   "cell_type": "code",
   "execution_count": 8,
   "metadata": {
    "collapsed": true
   },
   "outputs": [],
   "source": [
    "S_1 = STD(p_L1)\n",
    "S_2 = STD(p_L2)\n",
    "S_3 = STD(p_L3) "
   ]
  },
  {
   "cell_type": "markdown",
   "metadata": {
    "collapsed": true,
    "extensions": {
     "jupyter_dashboards": {
      "version": 1,
      "views": {
       "grid_default": {
        "hidden": true
       },
       "report_default": {}
      }
     }
    }
   },
   "source": [
    "!Note \n",
    "    When we first introduced the three lotteries and computed average winnings, we didn't account for the uncertainty in the average winnings. Here, it's clear that the third lottery has far smaller standard deviation and variance than the second lottery.<br>\n",
    "    As a remark, often in financial applications (e.g., choosing a portfolio of stocks to invest in), accounting for uncertainty is extremely important. For example, you may want to maximize profit while ensuring that the amount of uncertainty is not too high as to not be reckless in investing.\n",
    "\n",
    "In the case of the three lotteries, to decide between them, you could for example use a score that is of the form\n",
    "\n",
    "$$\\mathbb {E}[L_ i] - \\lambda \\cdot \\text {std}(L_ i) \\qquad \\text {for }i = 1,2,3,$$\n",
    " \n",
    "where $λ≥0$ is some parameter that you choose for how much you want to penalize uncertainty in the lottery outcome. Then you could choose the lottery with the highest score.\n",
    "\n",
    "Finally, a quick sanity check (this is more for you to think about the definition of variance rather than to compute anything out):\n",
    "\n",
    "**Question:** Can variance be negative? If yes, give a specific distribution as a Python dictionary for which the variance is negative. If no, enter the text \"no\" (all lowercase, one word, no spaces).\n",
    "\n",
    "**Answer:** NO"
   ]
  },
  {
   "cell_type": "markdown",
   "metadata": {
    "collapsed": true
   },
   "source": [
    "## The Law of Total Expectation\n",
    "\n",
    "Remember the law of total probability? For a set of events $\\mathcal{B}_{1},\\dots ,\\mathcal{B}_{n}$ that partition the sample space $Ω$ (so the Bi's don't overlap and together they fully cover the full space of possible outcomes),\n",
    "\n",
    "$$\\mathbb {P}(\\mathcal{A})=\\sum _{i=1}^{n}\\mathbb {P}(\\mathcal{A}\\cap \\mathcal{B}_{i})=\\sum _{i=1}^{n}\\mathbb {P}(\\mathcal{A}\\mid \\mathcal{B}_{i})\\mathbb {P}(\\mathcal{B}_{i}),$$\n",
    " \n",
    "where the second equality uses the product rule.\n",
    "\n",
    "A similar statement is true for the expected value of a random variable, called the law of total expectation: for a random variable $X$ (with alphabet $\\mathcal{X}$) and a partition $\\mathcal{B}_1,\\dots ,\\mathcal{B}_ n$ of the sample space,\n",
    "\n",
    "$$\\mathbb {E}[X]=\\sum _{i=1}^{n}\\mathbb {E}[X\\mid \\mathcal{B}_{i}]\\mathbb {P}(\\mathcal{B}_{i}),$$\n",
    " \n",
    "where\n",
    "\n",
    "$$\\mathbb {E}[X\\mid \\mathcal{B}_{i}] = \\sum _{x\\in \\mathcal{X}}xp_{X\\mid \\mathcal{B}_{i}}(x) = \\sum _{x\\in \\mathcal{X}}x\\frac{\\mathbb {P}(X=x,\\mathcal{B}_{i})}{\\mathbb {P}(\\mathcal{B}_{i})}.$$\n",
    " \n",
    "We will be using this result in the section “Towards Infinity in Modeling Uncertainty\".\n",
    "\n",
    "Show that the law of total expectation is true."
   ]
  },
  {
   "cell_type": "markdown",
   "metadata": {
    "collapsed": true
   },
   "source": [
    "**Solution:** There are different ways to prove the law of total expectation. We take a fairly direct approach here, first writing everything in terms of outcomes in the sample space.\n",
    "\n",
    "The main technical hurdle is that the events $\\mathcal{B}_1, \\dots , \\mathcal{B}_ n$ are specified directly in the sample space, whereas working with values that $X$ takes on requires mapping from the sample space to the alphabet of $X$.\n",
    "\n",
    "We will derive the law of total expectation starting from the right-hand side of the equation above, i.e., $\\sum _{i=1}^{n}\\mathbb {E}[X\\mid \\mathcal{B}_{i}]\\mathbb {P}(\\mathcal{B}_{i})$.\n",
    "\n",
    "We first write $\\mathbb {E}[X\\mid \\mathcal{B}_{i}]$ in terms of a summation over outcomes in $\\Omega$:\n",
    "\n",
    "$$\\begin{align}\n",
    "\\mathbb {E}[X\\mid \\mathcal{B}_{i}]\t=& \\sum _{x\\in \\mathcal{X}}x\\frac{\\mathbb {P}(X=x,\\mathcal{B}_{i})}{\\mathbb {P}(\\mathcal{B}_{i})}\\\\ \t \n",
    "=& \\sum _{x\\in \\mathcal{X}}x\\frac{\\mathbb {P}(\\{ \\omega \\in \\Omega \\; :\\; X(\\omega )=x\\} \\cap \\mathcal{B}_{i})}{\\mathbb {P}(\\mathcal{B}_{i})}\\\\ \t \n",
    "=& \\sum _{x\\in \\mathcal{X}}x\\frac{\\mathbb {P}(\\{ \\omega \\in \\Omega \\; :\\; X(\\omega )=x\\text { and }\\omega \\in \\mathcal{B}_{i}\\} )}{\\mathbb {P}(\\mathcal{B}_{i})}\\\\ \t \n",
    "=& \\sum _{x\\in \\mathcal{X}}x\\frac{\\mathbb {P}(\\{ \\omega \\in \\mathcal{B}_{i}\\; :\\; X(\\omega )=x\\} )}{\\mathbb {P}(\\mathcal{B}_{i})}\\\\\t \t \n",
    "=& \\sum _{x\\in \\mathcal{X}}x\\cdot \\frac{\\sum _{\\omega \\in \\mathcal{B}_{i}\\text { such that }X(\\omega )=x}\\mathbb {P}(\\{ \\omega \\} )}{\\mathbb {P}(\\mathcal{B}_{i})}\t\\\\ \t \n",
    "=& \\frac{1}{\\mathbb {P}(\\mathcal{B}_{i})}\\sum _{x\\in \\mathcal{X}}x\\sum _{\\omega \\in \\mathcal{B}_{i}\\text { such that }X(\\omega )=x}\\mathbb {P}(\\{ \\omega \\} )\\\\ \t \n",
    "=& \\frac{1}{\\mathbb {P}(\\mathcal{B}_{i})}\\sum _{\\omega \\in \\mathcal{B}_{i}}X(\\omega )\\mathbb {P}(\\{ \\omega \\} ).\n",
    "\\end{align}$$\n",
    "\n",
    "Thus,\n",
    "\n",
    "$$\\begin{align}\n",
    "\\sum _{i=1}^{n}\\mathbb {E}[X\\mid \\mathcal{B}_{i}]\\mathbb {P}(\\mathcal{B}_{i})=& \\sum _{i=1}^{n}\\bigg(\\frac{1}{\\mathbb {P}(\\mathcal{B}_{i})}\\sum _{\\omega \\in \\mathcal{B}_{i}}X(\\omega )\\mathbb {P}(\\{ \\omega \\} )\\bigg)\\mathbb {P}(\\mathcal{B}_{i})\\\\\t \t \n",
    "=& \\sum _{i=1}^{n}\\sum _{\\omega \\in \\mathcal{B}_{i}}X(\\omega )\\mathbb {P}(\\{ \\omega \\} )\\\\\n",
    "=& \\sum _{\\omega \\in \\Omega }X(\\omega )\\mathbb {P}(\\{ w\\} )\\\\\n",
    "=& \\sum _{x\\in \\mathcal{X}}x\\mathbb {P}(\\{ \\omega \\in \\Omega \\text { such that }X(\\omega )=x\\} )\\\\\t \t \n",
    "=& \\sum _{x\\in \\mathcal{X}}xp_{X}(x)\\\\\t \t \n",
    "=&\\mathbb {E}[X].\n",
    "\\end{align}$$"
   ]
  },
  {
   "cell_type": "code",
   "execution_count": null,
   "metadata": {
    "collapsed": true
   },
   "outputs": [],
   "source": []
  }
 ],
 "metadata": {
  "extensions": {
   "jupyter_dashboards": {
    "activeView": "grid_default",
    "version": 1,
    "views": {
     "grid_default": {
      "cellMargin": 10,
      "defaultCellHeight": 20,
      "maxColumns": 12,
      "name": "grid",
      "type": "grid"
     },
     "report_default": {
      "name": "report",
      "type": "report"
     }
    }
   }
  },
  "kernelspec": {
   "display_name": "Python 3",
   "language": "python",
   "name": "python3"
  },
  "language_info": {
   "codemirror_mode": {
    "name": "ipython",
    "version": 3
   },
   "file_extension": ".py",
   "mimetype": "text/x-python",
   "name": "python",
   "nbconvert_exporter": "python",
   "pygments_lexer": "ipython3",
   "version": "3.4.3"
  }
 },
 "nbformat": 4,
 "nbformat_minor": 0
}
