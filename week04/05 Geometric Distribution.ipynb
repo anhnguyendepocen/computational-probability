{
 "cells": [
  {
   "cell_type": "markdown",
   "metadata": {},
   "source": [
    "## Geometric Distribution\n",
    "\n",
    "Suppose we have a biased coin with $\\mathbb{P}(H) = p$ and we toss it repeatedly, then the sample space will look like \n",
    "\n",
    "$$\\Omega = \\{H, TH, TTH, \\ldots \\}$$\n",
    "Then \n",
    "$$\\mathbb{P}(TH) = \\mathbb{P}(T)\\cdot \\mathbb{P}(H) = (1-p)p$$\n",
    "\n",
    "Let $X$ is the random variable defined as \n",
    "\n",
    "$$X = \\#\\text{ tosses untill first heads }$$\n",
    "Then \n",
    "$$\\begin{align}\\mathbb{P}(X=x) &= \\mathbb{P}(x-1 \\text{ tails followed by heads}) \\\\\n",
    "&= (1-p)^{x-1}p \\end{align}\n",
    "$$\n",
    "This is probability mass function of random variable $X$. If we normalize we will get the probability distribution."
   ]
  },
  {
   "cell_type": "markdown",
   "metadata": {
    "collapsed": true
   },
   "source": [
    "### Practice Problem: The Geometric Distribution\n",
    "\n",
    "Let $X \\sim \\text {Geo}(p)$ so that\n",
    "\n",
    "$$p_ X(x) = (1-p)^{x-1} p\\qquad \\text {for }x=1, 2, \\dots $$\n",
    " \n",
    "**Question:** Show that each of the table entries $p_ X(x)$ is nonnegative for $x = 1, 2, \\dots.$\n",
    "\n",
    "**Solution:** Since $p$ is a probabiltiy hence $p \\in [0,1]$ then $1-p \\in [0,1]$, also $x-1 \\geq 0$. Hence \n",
    "\n",
    "$$p_X(x) = \\underbrace{(1-p)^{x-1}}_{\\geq 0}\\cdot \\underbrace{p}_{\\geq 0} \\geq 0.$$ \n",
    "\n",
    "**Question:**Show that the sum of all the table entries is 1, i.e., $\\sum _{x=1}^\\infty p_ X(x) = 1.$\n",
    "\n",
    "**Hint:** You may find the following result from calculus helpful: For $r\\in (-1,1),$\n",
    "\n",
    "$$\\sum _{i=0}^{\\infty }r^{i}=\\frac{1}{1-r}.$$\n",
    "\n",
    "Solution: For $p\\in (0,1),$\n",
    "\n",
    "$$\\begin{align}\n",
    "\\sum _{x=1}^{\\infty }p_{X}(x)&=\\sum _{x=1}^{\\infty }(1-p)^{x-1}p &\\\\\n",
    "&= p \\cdot \\sum _{i=0}^{\\infty }(1-p)^{i}&\\text{where } i = x-1\\\\\n",
    "&= p \\cdot \\frac{1}{1-(1-p)}&\\\\\n",
    "&= p \\cdot \\frac{1}{p}=1.&\n",
    "\\end{align}.$$"
   ]
  },
  {
   "cell_type": "markdown",
   "metadata": {},
   "source": [
    "### Exercise: The Expectation of a Geometric Distribution\n",
    "\n",
    "In this exercise, we use the law of total expectation to find the expected value of a geometric random variable. The law of total expectation says that for a random variable $X$ (with alphabet $\\mathcal{X}$) and a partition $\\mathcal{B}_1,\\dots ,\\mathcal{B}_ n$ of the sample space,\n",
    "\n",
    "$$\\mathbb {E}[X]=\\sum _{i=1}^{n}\\mathbb {E}[X\\mid \\mathcal{B}_{i}]\\mathbb {P}(\\mathcal{B}_{i}),$$\n",
    " \n",
    "where\n",
    "\n",
    "$$\\mathbb {E}[X\\mid \\mathcal{B}_{i}] = \\sum _{x\\in \\mathcal{X}}xp_{X\\mid \\mathcal{B}_{i}}(x) = \\sum _{x\\in \\mathcal{X}}x\\frac{\\mathbb {P}(X=x,\\mathcal{B}_{i})}{\\mathbb {P}(\\mathcal{B}_{i})}.$$\n",
    " \n",
    "Let $X \\sim \\text {Geo}(p)$ be the number of tosses until we get heads for the first time, where the probability of heads is $p$. Let $\\mathcal{B}$ be the event that we get heads in 1 try. Let $\\mathcal{B}^c$ be the event that we get heads in more than 1 try. Note that $\\mathcal{B}$ and $\\mathcal{B}^c$ form a partition of the sample space.\n",
    "\n",
    "**Question:** What is $\\mathbb {P}(\\mathcal{B})?$\n",
    "\n",
    "**Solution:** $\\mathcal{B}$ is the event of getting \"head\" in one coin toss. Hence, $\\mathbb {P}(\\mathcal{B})=p.$\n",
    "\n",
    "**Question:** What is $\\mathbb {E}[X \\mid \\mathcal{B}]?$"
   ]
  },
  {
   "cell_type": "markdown",
   "metadata": {},
   "source": [
    "**Solution:** \n",
    "\n",
    "$$\\begin{align}\\require{cancel}\n",
    "\\mathbb{E}[X\\mid \\mathcal{B}] &= \\sum_{x=1}^{\\infty} xp_{X\\mid \\mathcal{B}}(x)\\\\\n",
    "&= \\sum_{x=1}^{\\infty} x\\frac{\\mathbb {P}(X=x,\\mathcal{B})}{\\mathbb{P}(\\mathcal{B})}\\\\\n",
    "&= 1\\times \\frac{\\cancelto{\\mathbb{P}(\\mathcal{B})}{\\mathbb {P}(X=1,\\mathcal{B})}}{\\mathbb{P}(\\mathcal{B})} + \\sum_{x=2}^{\\infty} x\\frac{\\cancelto{0}{\\mathbb {P}(X=x,\\mathcal{B})}}{\\mathbb{P}(\\mathcal{B})}\\\\\n",
    "&= 1.\n",
    "\\end{align}$$"
   ]
  },
  {
   "cell_type": "markdown",
   "metadata": {},
   "source": [
    "**Question:** What is $\\mathbb{E}[X \\mid \\mathcal{B}^c]?$ Write your answer in terms of $m \\triangleq \\mathbb {E}[X].$ Note that we do not know $\\mathbb {E}[X]$ for right now, but we can still relate $\\mathbb {E}[X \\mid \\mathcal{B}^ c]$ to $\\mathbb {E}[X].$\n",
    "\n",
    "Hint: If you do not get heads the first time, then starting from the second toss, the distribution for the number of tosses remaining is still geometric!"
   ]
  },
  {
   "cell_type": "markdown",
   "metadata": {},
   "source": [
    "**Solution:** So we tossed the coin and it was tails, so this took up 1 toss. The number of tosses that remains is just another $\\text {Geo}(p)$ random variable (remember: the tosses are all independent so that initial toss doesn't affect any of the future tosses)!\n",
    "\n",
    "Thus, the expectation of $X$ given that the first toss was tails (i.e., it takes more than 1 try) is\n",
    "\n",
    "$$\\mathbb {E}[X \\mid \\mathcal{B}^ c] = 1 + \\mathbb {E}[X].$$\n",
    " \n",
    "The 1 appears because that's the first toss where we got tails."
   ]
  },
  {
   "cell_type": "markdown",
   "metadata": {
    "collapsed": true
   },
   "source": [
    "Using the law of total expectation,\n",
    "\n",
    "$$\\mathbb {E}[X] = \\mathbb {E}[X \\mid \\mathcal{B}]\\mathbb {P}(\\mathcal{B}) + \\mathbb {E}[X \\mid \\mathcal{B}^ c](1 - \\mathbb {P}(\\mathcal{B})).$$\n",
    " \n",
    "Using your answers to the previous part, you should now have a recursive equation, meaning that the unknown quantity $\\mathbb {E}[X]$ appears on both sides of the equation, and so you can solve for it.\n",
    "\n",
    "**Question:** What is $\\mathbb {E}[X]?$\n",
    "\n",
    "In this part, please provide your answer as a mathematical formula (and not as Python code). Use ^ for exponentiation, e.g., x^2 denotes x^2. Explicitly include multiplication using *, e.g. x*y is xy."
   ]
  },
  {
   "cell_type": "markdown",
   "metadata": {},
   "source": [
    "**Solution:** Putting together the pieces from the previous parts,\n",
    "\n",
    "$$\\begin{align}\\mathbb {E}[X] &= 1 \\cdot p + (1 + \\mathbb {E}[X]) \\cdot (1 - p)\\\\\t \t \n",
    "&= p + 1 - p + \\mathbb {E}[X] - \\mathbb {E}[X] p\\\\\t \t \n",
    "&= 1 + \\mathbb {E}[X] - \\mathbb {E}[X] p.\\end{align}$$\n",
    "\n",
    "Rearranging terms yields\n",
    "\n",
    "$$\\mathbb {E}[X] = \\boxed {\\frac1p}.$$"
   ]
  },
  {
   "cell_type": "code",
   "execution_count": null,
   "metadata": {
    "collapsed": true
   },
   "outputs": [],
   "source": []
  }
 ],
 "metadata": {
  "kernelspec": {
   "display_name": "Python 3",
   "language": "python",
   "name": "python3"
  },
  "language_info": {
   "codemirror_mode": {
    "name": "ipython",
    "version": 3
   },
   "file_extension": ".py",
   "mimetype": "text/x-python",
   "name": "python",
   "nbconvert_exporter": "python",
   "pygments_lexer": "ipython3",
   "version": "3.4.3"
  }
 },
 "nbformat": 4,
 "nbformat_minor": 0
}
