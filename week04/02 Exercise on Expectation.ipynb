{
 "cells": [
  {
   "cell_type": "markdown",
   "metadata": {},
   "source": [
    "## Medical Diagnosis with Costs\n",
    "\n",
    "In this exercise, we continue off our running medical diagnosis example, now looking at a decision variant of it where we need to decide whether to treat a patient, and there are associated costs.\n",
    "\n",
    "We will be using both conditional expectation and the expectation of the function of a random variable. In fact, we need to combine the two! For random variables $X$ and $Y$ for which we know (or have computed) the conditional distribution $p_{X\\mid Y}(\\cdot \\mid y)$, and for any function f such that $f(x)$ is a real number for every $x$ in the alphabet of $X$, then\n",
    "\n",
    "$$\\mathbb {E}[f(X)\\mid Y=y] = \\sum _ x f(x) p_{X\\mid Y}(x\\mid y).$$\n",
    " \n",
    "(See if you can figure out why this is true from our earlier coverage of expectation!)\n",
    "\n",
    "We previously computed the probability that someone has a infection given that a test for the infection turned out positive. But how do we translate this into a decision of whether or not we should treat the person? Ideally, we should always choose to treat people who, in truth, have the infection and choose “don't treat\" for people without the infection. However, it is possible that we may treat actually healthy people, a false positive that leads to unnecessary medical costs. As well, we may fail to treat people with the infection, a false negative that could require more expensive treatment later on.\n",
    "\n",
    "We can encode these costs into the following “cost table\" (or cost function) $C(\\cdot , \\cdot )$, where $C(x,d)$ is the cost when the patient's true infection state is $x$ (“healthy\" or “infected\"), and we make decision $d$ (“treat\" or “don't treat\"). For our problem, here is the cost function:\n",
    "\n",
    "<img src=\"images/images_sec-medical-diagnosis-cost.png\" rel=\"drawing\" width=350>\n",
    "\n",
    "This cost table corresponds to a situation where the treatment costs \\$20000, regardless of whether the patient's true state is healthy or infected. If the “don't treat\" choice is made, then there are two potential costs: \\$0 if the patient is indeed healthy, or \\$50000 if the patient actually has the infection, perhaps corresponding to a more expensive future medical procedure needed if the infection is not treated now.\n",
    "\n",
    "Recall the medical diagnosis setup from before, summarized in these tables:\n",
    "\n",
    "<img src=\"images/images_sec-product-rule-rv-prior.png\" rel=\"drawing\" width=300>\n",
    "\n",
    "<img src=\"images/images_sec-bayes-theorem-rv-cpt.png\" rel=\"drawing\" width=300>\n",
    "\n",
    "Let's suppose we've observed $Y=\\text {positive}$. To use the cost table to help us make a decision, note that there are two possible realizations of the world given that $Y=\\text {positive}$:\n",
    "\n",
    "First, it could be that $X=\\text{infected}$ given $Y=\\text {positive}$. This realization has probability $p_{X\\mid Y}(\\text {infected}\\mid \\text {positive})$. Under this realization of the world, by looking at the last two rows in the above cost table:\n",
    "\n",
    "If we decide $d=\\text{treat}$, the cost is \\$20000\n",
    "\n",
    "If we decide $d=\\text{don't treat}$, the cost is \\$50000\n",
    "\n",
    "Second, it could be that $X=\\text {healthy}$ given $Y=\\text {positive}$. This realization has probability $p_{X\\mid Y}(\\text {healthy}\\mid \\text {positive})=1-p_{X\\mid Y}(\\text {infected}\\mid \\text {positive})$. Under this realization of the world, by looking at the two first rows in the cost table:\n",
    "\n",
    "If we decide $d=\\text{treat}$, the cost is \\$20000\n",
    "\n",
    "If we decide $d=\\text{don't treat}$, the cost is \\$0\n",
    "\n",
    "Thus, putting together the pieces:\n",
    "\n",
    "If we decide $d=\\text{don't treat}$, then the cost is a random variable and is given by the probability table $p_{C(X, \\text {don't treat}) \\mid Y}(\\cdot | \\text {positive})$ below:\n",
    "\n",
    "<img src=\"images/images_sec-medical-diagnosis-cost-conditional1.png\" rel=\"drawing\" width=300>\n",
    "\n",
    "What is $\\mathbb {E}[C(X, \\text {don't treat}) \\mid Y = \\text {positive}]$?\n",
    "\n",
    "Express your answer as a function of $a \\triangleq p_{X\\mid Y}(\\text {infected}\\mid \\text {positive})$ (unless a does not appear in the answer). Do not plug in the numerical value for a that you determined in a previous exercise, and also do not put a dollar sign in your answer."
   ]
  },
  {
   "cell_type": "markdown",
   "metadata": {
    "variables": {
     "t": "0"
    }
   },
   "source": [
    "If we decide $d=\\text {treat}$, then the cost is a random variable and is given by the probability table $p_{C(X, \\text {treat}) \\mid Y}(\\cdot | \\text {positive})$.\n",
    "\n",
    "What is $\\mathbb {E}[C(X, \\text {treat}) \\mid Y = \\text {positive}]$? (Hint: Figure out what the probability table $p_{C(X, \\text {treat}) \\mid Y}(\\cdot | \\text {positive})$ is first. See if you can figure out how we obtained the probability table $p_{C(X, \\text {don't treat}) \\mid Y}(\\cdot | \\text {positive})$ in the previous part.)\n",
    "\n",
    "Express your answer as a function of $a \\triangleq p_{X\\mid Y}(\\text {infected}\\mid \\text {positive})$ (unless a does not appear in the answer). Do not plug in the numerical value for a that you determined in a previous exercise. Express your answer as a function of $a$, where $a \\triangleq p_{X\\mid Y}(\\text {infected}\\mid \\text {positive})$. \n",
    "\n",
    "Given that $Y=\\text {positive}$, to choose between which of the two decisions $d=\\text {treat}$ and $d=\\text {don't treat}$ to make, we can choose whichever decision $d$ that has the lower expected cost $\\mathbb {E}[C(X,d)\\mid Y=\\text {positive}]$ (note that it could be that the expected costs are the same, in which case we could just break the tie arbitrarily).\n",
    "\n",
    "Look at your answers to the previous two parts. You should notice that “don't treat\" has the lowest possible cost when a is at most some threshold $t$, which you will now determine.\n",
    "\n",
    "Phrased in terms of an equation, with variable a defined as before $a \\triangleq p_{X\\mid Y}(\\text {infected}\\mid \\text {positive})$, there is a threshold $t$ for which\n",
    "\n",
    "$$\\begin{eqnarray}\n",
    "\\arg\\min_{d \\in \\{\\text{treat}, \\text{don't treat}\\}}\n",
    "  \\mathbb{E}[C(X, d) \\mid Y = \\text{positive}]\n",
    "&=&\n",
    "\\begin{cases}\n",
    "\\text{don't treat} & \\text{if } a \\le t, \\\\\n",
    "\\text{treat} & \\text{if } a > t,\n",
    "\\end{cases}\n",
    "\\end{eqnarray}$$\n",
    "\n",
    "where we are breaking the tie in favor of not treating when $a=t$.\n",
    "\n",
    "Determine what the threshold $t$ is. (Please provide an exact answer.)\n",
    "\n",
    "$t$= {{t}} "
   ]
  },
  {
   "cell_type": "code",
   "execution_count": 1,
   "metadata": {
    "collapsed": true
   },
   "outputs": [],
   "source": [
    "t=0"
   ]
  },
  {
   "cell_type": "markdown",
   "metadata": {
    "variables": {
     "b": "0"
    }
   },
   "source": [
    "Let's look at what happens if instead we had observed $y = \\text {negative}$.\n",
    "\n",
    "Determine what variable $b$ and threshold $s$ should be in the below equation:\n",
    "\n",
    "$$\\begin{eqnarray}\n",
    "\\arg\\min_{d \\in \\{\\text{treat}, \\text{don't treat}\\}}\n",
    "  \\mathbb{E}[C(X, d) \\mid Y = \\text{negative}]\n",
    "&=&\n",
    "\\begin{cases}\n",
    "\\text{don't treat} & \\text{if } b \\le s, \\\\\n",
    "\\text{treat} & \\text{if } b > s.\n",
    "\\end{cases}\n",
    "\\end{eqnarray}$$\n",
    "\n",
    "$b$= {{b}}\n",
    "\n",
    "$[\\checkmark ]$ pX∣Y(healthy∣positive) <br>\n",
    "$[\\checkmark ]$ pX∣Y(infected∣positive)<br>\n",
    "$[\\checkmark ]$ pX∣Y(healthy∣negative) <br>\n",
    "$[\\checkmark ]$ pX∣Y(infected∣negative) "
   ]
  },
  {
   "cell_type": "code",
   "execution_count": 2,
   "metadata": {
    "collapsed": true
   },
   "outputs": [],
   "source": [
    "b = 0"
   ]
  },
  {
   "cell_type": "markdown",
   "metadata": {
    "variables": {
     "s": "0"
    }
   },
   "source": [
    "$s$= {{s}}"
   ]
  },
  {
   "cell_type": "code",
   "execution_count": 3,
   "metadata": {
    "collapsed": true
   },
   "outputs": [],
   "source": [
    "s = 0"
   ]
  },
  {
   "cell_type": "markdown",
   "metadata": {},
   "source": [
    "Putting together the pieces, the decision rule that achieves the lowest cost can be written as:\n",
    "\n",
    "$$\\begin{eqnarray}\n",
    "\\widehat{x}(y)\n",
    "&=&\\begin{cases}\n",
    "\\text{don't treat} & y=\\text{positive}\\text{ and }a \\le t,\\\\\n",
    "\\text{treat} & y=\\text{positive}\\text{ and }a > t,\\\\\n",
    "\\text{don't treat} & y=\\text{negative}\\text{ and }b \\le s,\\\\\n",
    "\\text{treat} & y=\\text{negative}\\text{ and }b > s,\n",
    "\\end{cases}\n",
    "\\end{eqnarray}$$\n",
    "\n",
    "where $a, b, t$, and $s$ are from the previous parts.\n",
    "\n",
    "Now finally consider when $a=0.09016$ and $b=0.00001$ (these correspond to values from the previous exercises on this medical diagnosis problem setup). What is the optimal treatment plan given the cost table that we have introduced?\n",
    "\n",
    "If we observe that $Y=\\text{positive}$, then the decision with lowest expected cost is:\n",
    "\n",
    "\n",
    "treat\n",
    "don't treat\n",
    "unanswered\n",
    "If we observe that $Y=\\text{negative}$, then the decision with lowest expected cost is:\n",
    "\n",
    "\n",
    "treat\n",
    "don't treat\n",
    "unanswered\n",
    "Of course, if $a$ and $b$ had been different, then the decisions we would make to minimize expected cost could change! In fact, this problem shows just how good the medical test needs to be designed before we can even justify treating the patient. A bad test would be one where the optimal decision for minimizing expected cost does not use the result of the test at all — we might as well not do the test!"
   ]
  },
  {
   "cell_type": "code",
   "execution_count": null,
   "metadata": {
    "collapsed": true
   },
   "outputs": [],
   "source": []
  }
 ],
 "metadata": {
  "kernelspec": {
   "display_name": "Python 3",
   "language": "python",
   "name": "python3"
  },
  "language_info": {
   "codemirror_mode": {
    "name": "ipython",
    "version": 3
   },
   "file_extension": ".py",
   "mimetype": "text/x-python",
   "name": "python",
   "nbconvert_exporter": "python",
   "pygments_lexer": "ipython3",
   "version": "3.4.3"
  }
 },
 "nbformat": 4,
 "nbformat_minor": 0
}
