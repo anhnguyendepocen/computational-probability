{
 "cells": [
  {
   "cell_type": "markdown",
   "metadata": {},
   "source": [
    "RANDOM VARIABLES (COURSE NOTES)\n",
    "\n",
    "To mathematically reason about a random variable, we need to somehow keep track of the full range of possibilities for what the random variable's value could be, and how probable different instantiations of the random variable are. The resulting formalism may at first seem a bit odd but as we progress through the course, it will become more apparent how this formalism helps us study real-world problems and address these problems with powerful solutions.\n",
    "\n",
    "To build up to the formalism, first note, computationally, what happened in the code in the previous part.\n",
    "\n",
    "1. First, there is an underlying probability space $(Ω,P)$, where $\\Omega = \\{ \\text {sunny}, \\text {rainy}, \\text {snowy}\\}$, and\n",
    "\n",
    "$$\\begin{eqnarray}\n",
    "\\mathbb{P}(\\text{sunny}) &=& 1/2, \\\\\n",
    "\\mathbb{P}(\\text{rainy}) &=& 1/6, \\\\\n",
    "\\mathbb{P}(\\text{snowy}) &=& 1/3.\n",
    "\\end{eqnarray}$$\n",
    "\n",
    "2. A random outcome $ω∈Ω$ is sampled using the probabilities given by the probability space (Ω,P). This step corresponds to an underlying experiment happening.\n",
    "\n",
    "3. Two random variables are generated:\n",
    "    - W is set to be equal to ω. As an equation:\n",
    "    $$\\begin{eqnarray}\n",
    "    W(\\omega) &=&\\omega\\quad\\text{for }\\omega\\in\\{\\text{sunny},\\text{rainy},\\text{snowy}\\}.\n",
    "    \\end{eqnarray}$$\n",
    "    This step perhaps seems entirely unnecessary, as you might wonder “Why not just call the random outcome $W$ instead of $ω$?\" Indeed, this step isn't actually necessary for this particular example, but the formalism for random variables has this step to deal with what happens when we encounter a random variable like $I$.\n",
    "\n",
    "    - $I$ is set to $1$ if $ω=\\text{sunny}$, and $0$ otherwise. As an equation:\n",
    "    $$\\begin{eqnarray}\n",
    "    I(\\omega)\n",
    "    &=&\n",
    "    \\begin{cases}\n",
    "      1 & \\text{if }\\omega=\\text{sunny}, \\\\\n",
    "      0 & \\text{if }\\omega\\in\\{\\text{rainy},\\text{snowy}\\}.\n",
    "    \\end{cases}\n",
    "    \\end{eqnarray}$$\n",
    "    Importantly, multiple possible outcomes (rainy or snowy) get mapped to the same value $0$ that $I$ can take on.\n",
    "\n",
    "We see that random variable $W$ maps the sample space $\\Omega =\\{ \\text {sunny},\\text {rainy},\\text {snowy}\\}$ to the same set $\\{ \\text {sunny},\\text {rainy},\\text {snowy}\\}$. Meanwhile, random variable I maps the sample space $\\Omega =\\{ \\text {sunny},\\text {rainy},\\text {snowy}\\}$ to the set $\\{0,1\\}$.\n",
    "\n",
    "In general:\n",
    "\n",
    "**Definition of a “finite random variable\" (in this course, we will just call this a “random variable\"):** Given a finite probability space $(Ω,P)$, a finite random variable $X$ is a mapping from the sample space Ω to a set of values $X$ that random variable $X$ can take on. (We will often call $X$ the “alphabet\" of random variable $X$.)\n",
    "\n",
    "For example, random variable $W$ takes on values in the alphabet $\\{ \\text {sunny},\\text {rainy},\\text {snowy}\\}$, and random variable I takes on values in the alphabet $\\{0,1\\}$.\n",
    "\n",
    "**Quick summary:** There's an underlying experiment corresponding to probability space $(Ω,P)$. Once the experiment is run, let $ω∈Ω$ denote the outcome of the experiment. Then the random variable takes on the specific value of $X(ω)∈X$.\n",
    "\n",
    "**Explanation using a picture:** Continuing with the weather example, we can pictorially see what's going on by looking at the probability tables for: the original probability space, the random variable $W$, and the random variable $I$:\n",
    "\n",
    "![img](../images/images_sec-random-variables-main.png)\n",
    "\n",
    "These tables make it clear that a “random variable\" really is just reassigning/relabeling what the values are for the possible outcomes in the underlying probability space (given by the top left table):\n",
    "\n",
    "- In the top right table, random variable $W$ does not do any sort of relabeling so its probability table looks the same as that of the underlying probability space.\n",
    "\n",
    "- In the bottom left table, the random variable $I$ relabels/reassigns “sunny\" to 1, and both “rainy\" and “snowy\" to $0$. Intuitively, since two of the rows now have the same label $0$, it makes sense to just combine these two rows, adding their probabilities $(16+13=12)$. This results in the bottom right table.\n",
    "\n",
    "**Technical note:** Even though the formal definition of a finite random variable doesn't actually make use of the probability assignment P, the probability assignment will become essential as soon as we talk about how probability works with random variables."
   ]
  },
  {
   "cell_type": "markdown",
   "metadata": {},
   "source": [
    "## Two Ways to Specify a Random Variable in Code"
   ]
  },
  {
   "cell_type": "code",
   "execution_count": null,
   "metadata": {
    "collapsed": true
   },
   "outputs": [],
   "source": []
  }
 ],
 "metadata": {
  "kernelspec": {
   "display_name": "Python 3",
   "language": "python",
   "name": "python3"
  },
  "language_info": {
   "codemirror_mode": {
    "name": "ipython",
    "version": 3
   },
   "file_extension": ".py",
   "mimetype": "text/x-python",
   "name": "python",
   "nbconvert_exporter": "python",
   "pygments_lexer": "ipython3",
   "version": "3.4.3"
  }
 },
 "nbformat": 4,
 "nbformat_minor": 0
}
