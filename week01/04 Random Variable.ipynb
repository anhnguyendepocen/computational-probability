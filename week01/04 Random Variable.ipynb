{
 "cells": [
  {
   "cell_type": "markdown",
   "metadata": {},
   "source": [
    "## Random Variable\n",
    "\n",
    "To mathematically reason about a random variable, we need to somehow keep track of the full range of possibilities for what the random variable's value could be, and how probable different instantiations of the random variable are. The resulting formalism may at first seem a bit odd but as we progress through the course, it will become more apparent how this formalism helps us study real-world problems and address these problems with powerful solutions.\n",
    "\n",
    "To build up to the formalism, first note, computationally, what happened in the code in the previous part.\n",
    "\n",
    "1. First, there is an underlying probability space $(Ω,P)$, where $\\Omega = \\{ \\text {sunny}, \\text {rainy}, \\text {snowy}\\}$, and\n",
    "\n",
    "$$\\begin{eqnarray}\n",
    "\\mathbb{P}(\\text{sunny}) &=& 1/2, \\\\\n",
    "\\mathbb{P}(\\text{rainy}) &=& 1/6, \\\\\n",
    "\\mathbb{P}(\\text{snowy}) &=& 1/3.\n",
    "\\end{eqnarray}$$\n",
    "\n",
    "2. A random outcome $ω∈Ω$ is sampled using the probabilities given by the probability space (Ω,P). This step corresponds to an underlying experiment happening.\n",
    "\n",
    "3. Two random variables are generated:\n",
    "    - W is set to be equal to ω. As an equation:\n",
    "    $$\\begin{eqnarray}\n",
    "    W(\\omega) &=&\\omega\\quad\\text{for }\\omega\\in\\{\\text{sunny},\\text{rainy},\\text{snowy}\\}.\n",
    "    \\end{eqnarray}$$\n",
    "    This step perhaps seems entirely unnecessary, as you might wonder “Why not just call the random outcome $W$ instead of $ω$?\" Indeed, this step isn't actually necessary for this particular example, but the formalism for random variables has this step to deal with what happens when we encounter a random variable like $I$.\n",
    "\n",
    "    - $I$ is set to $1$ if $ω=\\text{sunny}$, and $0$ otherwise. As an equation:\n",
    "    $$\\begin{eqnarray}\n",
    "    I(\\omega)\n",
    "    &=&\n",
    "    \\begin{cases}\n",
    "      1 & \\text{if }\\omega=\\text{sunny}, \\\\\n",
    "      0 & \\text{if }\\omega\\in\\{\\text{rainy},\\text{snowy}\\}.\n",
    "    \\end{cases}\n",
    "    \\end{eqnarray}$$\n",
    "    Importantly, multiple possible outcomes (rainy or snowy) get mapped to the same value $0$ that $I$ can take on.\n",
    "\n",
    "We see that random variable $W$ maps the sample space $\\Omega =\\{ \\text {sunny},\\text {rainy},\\text {snowy}\\}$ to the same set $\\{ \\text {sunny},\\text {rainy},\\text {snowy}\\}$. Meanwhile, random variable I maps the sample space $\\Omega =\\{ \\text {sunny},\\text {rainy},\\text {snowy}\\}$ to the set $\\{0,1\\}$.\n",
    "\n",
    "In general:\n",
    "\n",
    "**Definition of a “finite random variable\" (in this course, we will just call this a “random variable\"):** Given a finite probability space $(Ω,P)$, a finite random variable $X$ is a mapping from the sample space Ω to a set of values $X$ that random variable $X$ can take on. (We will often call $X$ the “alphabet\" of random variable $X$.)\n",
    "\n",
    "For example, random variable $W$ takes on values in the alphabet $\\{ \\text {sunny},\\text {rainy},\\text {snowy}\\}$, and random variable I takes on values in the alphabet $\\{0,1\\}$.\n",
    "\n",
    "**Quick summary:** There's an underlying experiment corresponding to probability space $(Ω,P)$. Once the experiment is run, let $ω∈Ω$ denote the outcome of the experiment. Then the random variable takes on the specific value of $X(ω)∈X$.\n",
    "\n",
    "**Explanation using a picture:** Continuing with the weather example, we can pictorially see what's going on by looking at the probability tables for: the original probability space, the random variable $W$, and the random variable $I$:\n",
    "\n",
    "<img src=\"../images/images_sec-random-variables-main.png\" rel=\"drawing\" width=450>\n",
    "\n",
    "These tables make it clear that a “random variable\" really is just reassigning/relabeling what the values are for the possible outcomes in the underlying probability space (given by the top left table):\n",
    "\n",
    "- In the top right table, random variable $W$ does not do any sort of relabeling so its probability table looks the same as that of the underlying probability space.\n",
    "\n",
    "- In the bottom left table, the random variable $I$ relabels/reassigns “sunny\" to 1, and both “rainy\" and “snowy\" to $0$. Intuitively, since two of the rows now have the same label $0$, it makes sense to just combine these two rows, adding their probabilities $(16+13=12)$. This results in the bottom right table.\n",
    "\n",
    "**Technical note:** Even though the formal definition of a finite random variable doesn't actually make use of the probability assignment P, the probability assignment will become essential as soon as we talk about how probability works with random variables."
   ]
  },
  {
   "cell_type": "markdown",
   "metadata": {},
   "source": [
    "### Two Ways to Specify a Random Variable in Code\n",
    "\n",
    "**Approach 1.** Go with the mathematical definition of a random variable. First, specify what the underlying probability space is:"
   ]
  },
  {
   "cell_type": "code",
   "execution_count": 1,
   "metadata": {
    "collapsed": true
   },
   "outputs": [],
   "source": [
    "import sys\n",
    "sys.path.append('../comp_prob_inference')\n",
    "from comp_prob_inference import *"
   ]
  },
  {
   "cell_type": "code",
   "execution_count": 2,
   "metadata": {
    "collapsed": true
   },
   "outputs": [],
   "source": [
    "prob_space = {'sunny': 1/2, 'rainy': 1/6, 'snowy': 1/3}"
   ]
  },
  {
   "cell_type": "code",
   "execution_count": 3,
   "metadata": {
    "collapsed": true
   },
   "outputs": [],
   "source": [
    "W_mapping = {'sunny': 'sunny', 'rainy': 'rainy', 'snowy': 'snowy'}\n",
    "I_mapping = {'sunny': 1, 'rainy': 0, 'snowy': 0}"
   ]
  },
  {
   "cell_type": "code",
   "execution_count": 4,
   "metadata": {
    "collapsed": true
   },
   "outputs": [],
   "source": [
    "random_outcome = sample_from_finite_probability_space(prob_space)\n",
    "W = W_mapping[random_outcome]\n",
    "I = I_mapping[random_outcome]"
   ]
  },
  {
   "cell_type": "code",
   "execution_count": 5,
   "metadata": {
    "collapsed": false
   },
   "outputs": [
    {
     "data": {
      "text/plain": [
       "'rainy'"
      ]
     },
     "execution_count": 5,
     "metadata": {},
     "output_type": "execute_result"
    }
   ],
   "source": [
    "W"
   ]
  },
  {
   "cell_type": "markdown",
   "metadata": {},
   "source": [
    "**Approach 2.** Remember how we wrote out probability tables for random variables W and I? Let's directly store these probability tables:"
   ]
  },
  {
   "cell_type": "code",
   "execution_count": 6,
   "metadata": {
    "collapsed": true
   },
   "outputs": [],
   "source": [
    "W_table = {'sunny': 1/2, 'rainy': 1/6, 'snowy': 1/3}\n",
    "I_table = {0: 1/2, 1: 1/2}"
   ]
  },
  {
   "cell_type": "code",
   "execution_count": 7,
   "metadata": {
    "collapsed": false
   },
   "outputs": [],
   "source": [
    "W = sample_from_finite_probability_space(W_table)\n",
    "I = sample_from_finite_probability_space(I_table)"
   ]
  },
  {
   "cell_type": "markdown",
   "metadata": {
    "collapsed": true
   },
   "source": [
    "## Random Variables Notation and Terminology"
   ]
  },
  {
   "cell_type": "markdown",
   "metadata": {},
   "source": [
    "In this course, we denote random variables with capital/uppercase letters, such as $X$, $W$, $I$, etc. We use the phrases “probability table\", “probability mass function\" (abbreviated as PMF), and “probability distribution\" (often simply called a distribution) to mean the same thing, and in particular we denote the probability table for $X$ to be $p_X$ or $p_X(⋅)$.\n",
    "\n",
    "We write $p_X(x)$ to denote the entry of the probability table that has label $x∈X$ where $X$ is the set of values that random variable $X$ takes on. Note that we use lowercase letters like $x$ to denote variables storing nonrandom values. We can also look up values in a probability table using specific outcomes, e.g., from earlier, we have $p_W(\\text{rainy})=1/6$ and $p_I(1)=1/2$.\n",
    "\n",
    "Note that we use the same notation as in math where a function f might also be written as $f(⋅)$ to explicitly indicate that it is the function of one variable. Both $f$ and $f(⋅)$ refer to a function whereas $f(x)$ refers to the value of the function $f$ evaluated at the point $x$.\n",
    "\n",
    "As an example of how to use all this notation, recall that a probability table consists of nonnegative entries that add up to $1$. In fact, each of the entries is at most $1$ (otherwise the numbers would add to more than $1$). For a random variable $X$ taking on values in $X$, we can write out these constraints as:\n",
    "\n",
    "$$0 \\le p_ X(x) \\le 1\\quad \\text {for all }x\\in \\mathcal{X}, \\qquad \\sum _{x \\in \\mathcal{X}} p_ X(x) = 1.$$\n",
    " \n",
    "Often in the course, if we are making statements about all possible outcomes of $X$, we will omit writing out the alphabet $X$ explicitly. For example, instead of the above, we might write the following equivalent statement:\n",
    "\n",
    "$$0 \\le p_ X(x) \\le 1\\quad \\text {for all }x, \\qquad \\sum _ x p_ X(x) = 1.$$\n"
   ]
  },
  {
   "cell_type": "markdown",
   "metadata": {},
   "source": [
    "### Exercise\n",
    "\n",
    "Consider the following probability space:\n",
    "```python\n",
    "prob_space = {'cat': 0.2, 'dog':0.7, 'shark':0.1}\n",
    "```\n",
    "Let's define a random variable $X$ that maps 'cat' and 'dog' both to $5$, and 'shark' to $7$.\n",
    "\n",
    "What is the set of values that X can take on? Express your answer as a Python set."
   ]
  },
  {
   "cell_type": "code",
   "execution_count": 8,
   "metadata": {
    "collapsed": false
   },
   "outputs": [],
   "source": [
    "model = {'cat': 0.2, 'dog':0.7, 'shark':0.1}\n",
    "mapping = {'cat': 5, 'dog': 5, 'shark':7}"
   ]
  },
  {
   "cell_type": "code",
   "execution_count": 9,
   "metadata": {
    "collapsed": false
   },
   "outputs": [],
   "source": [
    "def PMF(mapping, model):\n",
    "    \"\"\"Returns to prob. dist. function for given probabiliy model and random variable\n",
    "    \n",
    "    >>> model = {'cat': 0.2, 'dog':0.7, 'shark':0.1}\n",
    "    >>> mapping = {'cat': 5, 'dog':5, 'shark':7}\n",
    "    >>> PMF(mapping, model)\n",
    "    {5: 0.8999999999999999, 7: 0.1}\n",
    "    \"\"\"\n",
    "\n",
    "    new_model = dict()\n",
    "    for key, value in mapping.items():\n",
    "        if value in new_model:\n",
    "            new_model[value] += model[key]\n",
    "\n",
    "        else:\n",
    "            new_model[value] = model[key]\n",
    "\n",
    "    return new_model\n",
    "\n",
    "if __name__ == \"__main__\":\n",
    "    import doctest\n",
    "    doctest.testmod()"
   ]
  },
  {
   "cell_type": "code",
   "execution_count": 10,
   "metadata": {
    "collapsed": false
   },
   "outputs": [
    {
     "data": {
      "text/plain": [
       "{5: 0.8999999999999999, 7: 0.1}"
      ]
     },
     "execution_count": 10,
     "metadata": {},
     "output_type": "execute_result"
    }
   ],
   "source": [
    "new_model = PMF(mapping, model)\n",
    "new_model"
   ]
  },
  {
   "cell_type": "code",
   "execution_count": 11,
   "metadata": {
    "collapsed": false
   },
   "outputs": [
    {
     "data": {
      "text/plain": [
       "{5, 7}"
      ]
     },
     "execution_count": 11,
     "metadata": {},
     "output_type": "execute_result"
    }
   ],
   "source": [
    "X = set(new_model.keys())\n",
    "X"
   ]
  },
  {
   "cell_type": "markdown",
   "metadata": {},
   "source": [
    "### Exercise: Probability with Dice\n",
    "\n",
    "Let random variable $X$ be the sum of rolls of two fair six-sided dice with faces numbered $1$ through $6$.\n",
    "\n",
    "How many different values can $X$ can take on?"
   ]
  },
  {
   "cell_type": "code",
   "execution_count": 12,
   "metadata": {
    "collapsed": true
   },
   "outputs": [],
   "source": [
    "two_dice = {(i+1, j+1): 1/36 for i in range(6) for j in range(6)}"
   ]
  },
  {
   "cell_type": "code",
   "execution_count": 13,
   "metadata": {
    "collapsed": false
   },
   "outputs": [],
   "source": [
    "mapping = {key: sum(key) for key, value in two_dice.items()}"
   ]
  },
  {
   "cell_type": "code",
   "execution_count": 14,
   "metadata": {
    "collapsed": false
   },
   "outputs": [
    {
     "data": {
      "text/plain": [
       "{2: 0.027777777777777776,\n",
       " 3: 0.05555555555555555,\n",
       " 4: 0.08333333333333333,\n",
       " 5: 0.1111111111111111,\n",
       " 6: 0.1388888888888889,\n",
       " 7: 0.16666666666666669,\n",
       " 8: 0.1388888888888889,\n",
       " 9: 0.1111111111111111,\n",
       " 10: 0.08333333333333333,\n",
       " 11: 0.05555555555555555,\n",
       " 12: 0.027777777777777776}"
      ]
     },
     "execution_count": 14,
     "metadata": {},
     "output_type": "execute_result"
    }
   ],
   "source": [
    "X_sum = PMF(mapping, two_dice)\n",
    "X_sum"
   ]
  },
  {
   "cell_type": "markdown",
   "metadata": {},
   "source": [
    "What is the probability that $X=7$? (Hint: An earlier exercise asked you for the event that the two faces sum to $7$.)"
   ]
  },
  {
   "cell_type": "code",
   "execution_count": 15,
   "metadata": {
    "collapsed": false
   },
   "outputs": [
    {
     "data": {
      "text/plain": [
       "0.16666666666666669"
      ]
     },
     "execution_count": 15,
     "metadata": {},
     "output_type": "execute_result"
    }
   ],
   "source": [
    "X_sum[7]"
   ]
  },
  {
   "cell_type": "markdown",
   "metadata": {},
   "source": [
    "### Exercise: Functions of Random Variables\n",
    "\n",
    "Consider the random variable $W$ that we have seen before, where $W=\\text{sunny}$ with probability $1/2$, $W=\\text{rainy}$ with probability $1/6$, and $W=\\text{snowy}$ with probability $1/3$. Consider a function $f$ that maps 'sunny' and 'rainy' to $3$, and 'snowy' to $42$."
   ]
  },
  {
   "cell_type": "code",
   "execution_count": 16,
   "metadata": {
    "collapsed": true
   },
   "outputs": [],
   "source": [
    "model   = {'sunny': 1/2, 'rainy': 1/6, 'snowy': 1/3}\n",
    "mapping = {'sunny': 3, 'rainy': 3, 'snowy': 42}"
   ]
  },
  {
   "cell_type": "markdown",
   "metadata": {},
   "source": [
    "$f(W)$ is also a random variable. Express the probability table for $f(W)$ as a Python dictionary. (Your answer should be the Python dictionary itself, and not the dictionary assigned to a variable, so please do not include, for instance, “prob_table =\" before specifying your answer. You can use fractions. If you use decimals instead, please be accurate and use at least 5 decimal places.)"
   ]
  },
  {
   "cell_type": "code",
   "execution_count": 17,
   "metadata": {
    "collapsed": false
   },
   "outputs": [
    {
     "data": {
      "text/plain": [
       "{3: 0.6666666666666666, 42: 0.3333333333333333}"
      ]
     },
     "execution_count": 17,
     "metadata": {},
     "output_type": "execute_result"
    }
   ],
   "source": [
    "new_model = PMF(mapping, model)\n",
    "new_model"
   ]
  },
  {
   "cell_type": "markdown",
   "metadata": {},
   "source": [
    "Is $(f(W))^2$ also a random variable? If yes, provide the probability table for $(f(W))^2$ as a Python dictionary."
   ]
  },
  {
   "cell_type": "code",
   "execution_count": 18,
   "metadata": {
    "collapsed": true
   },
   "outputs": [],
   "source": [
    "model_square = {key: value**2 for key, value in new_model.items()}"
   ]
  },
  {
   "cell_type": "code",
   "execution_count": 19,
   "metadata": {
    "collapsed": true
   },
   "outputs": [],
   "source": [
    "def is_valid_model(model):\n",
    "    \"\"\"\n",
    "    Return true if the model is valid probabilistic model else retrun false.\n",
    "    \n",
    "    >>> is_valid_model({'hearts': 0, 'clubs': 0.4, 'diamonds': 0.7, 'spades': 0.2})\n",
    "    False\n",
    "    \n",
    "    >>> is_valid_model({'apple': 0.5, 'orange': 0.4, 'pear': 0.2, 'banana': -0.1})\n",
    "    False\n",
    "    \n",
    "    >>> is_valid_model({1: 0.4, 2: 0.3, 'cat': 0.3})\n",
    "    True\n",
    "    \"\"\"\n",
    "    sum_of_values = 0\n",
    "    for key, value in model.items():\n",
    "        if value < 0:\n",
    "            return False \n",
    "            \n",
    "        else:\n",
    "            sum_of_values += value\n",
    "            \n",
    "    if abs(sum_of_values - 1) < 0.00001: \n",
    "        return True\n",
    "    \n",
    "    else:\n",
    "        return False\n",
    "        print(sum_of_values)\n",
    "\n",
    "if __name__ == \"__main__\":\n",
    "    import doctest\n",
    "    doctest.testmod()"
   ]
  },
  {
   "cell_type": "code",
   "execution_count": 20,
   "metadata": {
    "collapsed": false
   },
   "outputs": [
    {
     "data": {
      "text/plain": [
       "False"
      ]
     },
     "execution_count": 20,
     "metadata": {},
     "output_type": "execute_result"
    }
   ],
   "source": [
    "is_valid_model(model_square)"
   ]
  },
  {
   "cell_type": "code",
   "execution_count": null,
   "metadata": {
    "collapsed": true
   },
   "outputs": [],
   "source": []
  }
 ],
 "metadata": {
  "kernelspec": {
   "display_name": "Python 3",
   "language": "python",
   "name": "python3"
  },
  "language_info": {
   "codemirror_mode": {
    "name": "ipython",
    "version": 3
   },
   "file_extension": ".py",
   "mimetype": "text/x-python",
   "name": "python",
   "nbconvert_exporter": "python",
   "pygments_lexer": "ipython3",
   "version": "3.4.3"
  }
 },
 "nbformat": 4,
 "nbformat_minor": 0
}
