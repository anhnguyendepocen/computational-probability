{
 "cells": [
  {
   "cell_type": "code",
   "execution_count": 1,
   "metadata": {
    "collapsed": true
   },
   "outputs": [],
   "source": [
    "model = {'heads': 1/2, 'tails': 1/2}"
   ]
  },
  {
   "cell_type": "code",
   "execution_count": 2,
   "metadata": {
    "collapsed": true
   },
   "outputs": [],
   "source": [
    "Ω = set(model.keys())"
   ]
  },
  {
   "cell_type": "code",
   "execution_count": 3,
   "metadata": {
    "collapsed": false
   },
   "outputs": [
    {
     "data": {
      "text/plain": [
       "{'heads', 'tails'}"
      ]
     },
     "execution_count": 3,
     "metadata": {},
     "output_type": "execute_result"
    }
   ],
   "source": [
    "Ω"
   ]
  },
  {
   "cell_type": "markdown",
   "metadata": {
    "collapsed": true
   },
   "source": [
    "## Exercise\n",
    "\n",
    "We have a probabilistic model coded in Python as the following dictionary:\n",
    "\n",
    "```python\n",
    "{1: 0.4, 2: 0.3, 'cat': 0.3}\n",
    "```\n",
    "\n",
    "What is the sample space? (Express your answer as a Python set. For example, the set {spam, eggs} is expressed in Python as {'spam', 'eggs'}.)"
   ]
  },
  {
   "cell_type": "code",
   "execution_count": 4,
   "metadata": {
    "collapsed": true
   },
   "outputs": [],
   "source": [
    "model = {1: 0.4, 2: 0.3, 'cat': 0.3}"
   ]
  },
  {
   "cell_type": "code",
   "execution_count": 6,
   "metadata": {
    "collapsed": false
   },
   "outputs": [
    {
     "data": {
      "text/plain": [
       "{1, 2, 'cat'}"
      ]
     },
     "execution_count": 6,
     "metadata": {},
     "output_type": "execute_result"
    }
   ],
   "source": [
    "Ω = set(model.keys())\n",
    "Ω"
   ]
  },
  {
   "cell_type": "markdown",
   "metadata": {},
   "source": [
    "### Valid probabilistic model"
   ]
  },
  {
   "cell_type": "code",
   "execution_count": 38,
   "metadata": {
    "collapsed": false
   },
   "outputs": [],
   "source": [
    "def is_valid_model(model):\n",
    "    \"\"\"\n",
    "    Return true if the model is valid probabilistic model else retrun false.\n",
    "    \n",
    "    >>> is_valid_model({'hearts': 0, 'clubs': 0.4, 'diamonds': 0.7, 'spades': 0.2})\n",
    "    False\n",
    "    \n",
    "    >>> is_valid_model({'apple': 0.5, 'orange': 0.4, 'pear': 0.2, 'banana': -0.1})\n",
    "    False\n",
    "    \n",
    "    >>> is_valid_model({1: 0.4, 2: 0.3, 'cat': 0.3})\n",
    "    True\n",
    "    \"\"\"\n",
    "    sum_of_values = 0\n",
    "    for key, value in model.items():\n",
    "        if value < 0:\n",
    "            return False \n",
    "            \n",
    "        else:\n",
    "            sum_of_values += value\n",
    "            \n",
    "    if abs(sum_of_values - 1) < 0.00001: \n",
    "        return True\n",
    "    \n",
    "    else:\n",
    "        return False\n",
    "        print(sum_of_values)\n",
    "\n",
    "if __name__ == \"__main__\":\n",
    "    import doctest\n",
    "    doctest.testmod()"
   ]
  },
  {
   "cell_type": "code",
   "execution_count": 39,
   "metadata": {
    "collapsed": false
   },
   "outputs": [
    {
     "data": {
      "text/plain": [
       "False"
      ]
     },
     "execution_count": 39,
     "metadata": {},
     "output_type": "execute_result"
    }
   ],
   "source": [
    "model = {'hearts': 0, 'clubs': 0.4, 'diamonds': 0.7, 'spades': 0.2}\n",
    "is_valid_model(model)"
   ]
  },
  {
   "cell_type": "code",
   "execution_count": 40,
   "metadata": {
    "collapsed": false
   },
   "outputs": [
    {
     "data": {
      "text/plain": [
       "False"
      ]
     },
     "execution_count": 40,
     "metadata": {},
     "output_type": "execute_result"
    }
   ],
   "source": [
    "model = {'apple': 0.5, 'orange': 0.4, 'pear': 0.2, 'banana': -0.1}\n",
    "is_valid_model(model)"
   ]
  },
  {
   "cell_type": "markdown",
   "metadata": {},
   "source": [
    "### Rolling A Fair Dice"
   ]
  },
  {
   "cell_type": "code",
   "execution_count": 41,
   "metadata": {
    "collapsed": true
   },
   "outputs": [],
   "source": [
    "dice = {}\n",
    "for i in range(6):\n",
    "    dice[i+1] = 1/6"
   ]
  },
  {
   "cell_type": "code",
   "execution_count": 42,
   "metadata": {
    "collapsed": false
   },
   "outputs": [
    {
     "data": {
      "text/plain": [
       "True"
      ]
     },
     "execution_count": 42,
     "metadata": {},
     "output_type": "execute_result"
    }
   ],
   "source": [
    "is_valid_model(dice)"
   ]
  },
  {
   "cell_type": "markdown",
   "metadata": {},
   "source": [
    "### Rolling Tow Fair Dice"
   ]
  },
  {
   "cell_type": "code",
   "execution_count": 46,
   "metadata": {
    "collapsed": true
   },
   "outputs": [],
   "source": [
    "two_dice = {}\n",
    "for i in range(6):\n",
    "    for j in range(6):\n",
    "        two_dice[(i+1, j+1)] = 1/36"
   ]
  },
  {
   "cell_type": "code",
   "execution_count": 47,
   "metadata": {
    "collapsed": false
   },
   "outputs": [
    {
     "data": {
      "text/plain": [
       "{(1, 1): 0.027777777777777776,\n",
       " (1, 2): 0.027777777777777776,\n",
       " (1, 3): 0.027777777777777776,\n",
       " (1, 4): 0.027777777777777776,\n",
       " (1, 5): 0.027777777777777776,\n",
       " (1, 6): 0.027777777777777776,\n",
       " (2, 1): 0.027777777777777776,\n",
       " (2, 2): 0.027777777777777776,\n",
       " (2, 3): 0.027777777777777776,\n",
       " (2, 4): 0.027777777777777776,\n",
       " (2, 5): 0.027777777777777776,\n",
       " (2, 6): 0.027777777777777776,\n",
       " (3, 1): 0.027777777777777776,\n",
       " (3, 2): 0.027777777777777776,\n",
       " (3, 3): 0.027777777777777776,\n",
       " (3, 4): 0.027777777777777776,\n",
       " (3, 5): 0.027777777777777776,\n",
       " (3, 6): 0.027777777777777776,\n",
       " (4, 1): 0.027777777777777776,\n",
       " (4, 2): 0.027777777777777776,\n",
       " (4, 3): 0.027777777777777776,\n",
       " (4, 4): 0.027777777777777776,\n",
       " (4, 5): 0.027777777777777776,\n",
       " (4, 6): 0.027777777777777776,\n",
       " (5, 1): 0.027777777777777776,\n",
       " (5, 2): 0.027777777777777776,\n",
       " (5, 3): 0.027777777777777776,\n",
       " (5, 4): 0.027777777777777776,\n",
       " (5, 5): 0.027777777777777776,\n",
       " (5, 6): 0.027777777777777776,\n",
       " (6, 1): 0.027777777777777776,\n",
       " (6, 2): 0.027777777777777776,\n",
       " (6, 3): 0.027777777777777776,\n",
       " (6, 4): 0.027777777777777776,\n",
       " (6, 5): 0.027777777777777776,\n",
       " (6, 6): 0.027777777777777776}"
      ]
     },
     "execution_count": 47,
     "metadata": {},
     "output_type": "execute_result"
    }
   ],
   "source": [
    "two_dice"
   ]
  },
  {
   "cell_type": "code",
   "execution_count": 48,
   "metadata": {
    "collapsed": false
   },
   "outputs": [
    {
     "data": {
      "text/plain": [
       "True"
      ]
     },
     "execution_count": 48,
     "metadata": {},
     "output_type": "execute_result"
    }
   ],
   "source": [
    "is_valid_model(two_dice)"
   ]
  },
  {
   "cell_type": "code",
   "execution_count": null,
   "metadata": {
    "collapsed": true
   },
   "outputs": [],
   "source": []
  }
 ],
 "metadata": {
  "kernelspec": {
   "display_name": "Python 3",
   "language": "python",
   "name": "python3"
  },
  "language_info": {
   "codemirror_mode": {
    "name": "ipython",
    "version": 3
   },
   "file_extension": ".py",
   "mimetype": "text/x-python",
   "name": "python",
   "nbconvert_exporter": "python",
   "pygments_lexer": "ipython3",
   "version": "3.4.3"
  }
 },
 "nbformat": 4,
 "nbformat_minor": 0
}
