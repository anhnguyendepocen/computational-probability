{
 "cells": [
  {
   "cell_type": "markdown",
   "metadata": {},
   "source": [
    "From the videos, we see that an event is a subset of the sample space $Ω$. If you remember our table representation for a probability space, then an event could be thought of as a subset of the rows, and the probability of the event is just the sum of the probability values in those rows!\n",
    "\n",
    "The probability of an event $A⊆Ω$ is the sum of the probabilities of the possible outcomes in $A$:\n",
    "\n",
    "$$\\mathbb {P}(\\mathcal{A})\\triangleq \\sum _{\\omega \\in \\mathcal{A}}\\mathbb {P}(\\text {outcome }\\omega ),$$\n",
    " \n",
    "where “$≜$\" means “defined as\".\n",
    "\n",
    "We can translate the above equation into Python code. In particular, we can compute the probability of an event encoded as a Python set event, where the probability space is encoded as a Python dictionary prob_space:\n",
    "```python\n",
    "def prob_of_event(event, prob_space):\n",
    "    total = 0\n",
    "    for outcome in event:\n",
    "        total += prob_space[outcome]\n",
    "    return total\n",
    "```\n",
    "Here's an example of how to use the above function:\n",
    "```python\n",
    "prob_space = {'sunny': 1/2, 'rainy': 1/6, 'snowy': 1/3}\n",
    "rainy_or_snowy_event = {'rainy', 'snowy'}\n",
    "print(prob_of_event(rainy_or_snowy_event, prob_space))\n",
    "```"
   ]
  },
  {
   "cell_type": "code",
   "execution_count": 9,
   "metadata": {
    "collapsed": false
   },
   "outputs": [],
   "source": [
    "def prob_of_event(event, prob_space):\n",
    "    \"\"\"\n",
    "    Gives the probability of event for a given sample space.\n",
    "    \n",
    "    >>> prob_of_event({'rainy', 'snowy'}, {'sunny': 1/2, 'rainy': 1/6, 'snowy': 1/3})\n",
    "    0.5\n",
    "    >>> prob_of_event({'benign', 'malignant'}, {'benign': 0.3, 'malignant': 0.5, 'not sure': 0.2})\n",
    "    0.8\n",
    "    \"\"\"\n",
    "    total = 0\n",
    "    for outcome in event:\n",
    "        total += prob_space[outcome]\n",
    "    return total\n",
    "\n",
    "if __name__ == \"__main__\":\n",
    "    import doctest\n",
    "    doctest.testmod()"
   ]
  },
  {
   "cell_type": "code",
   "execution_count": 5,
   "metadata": {
    "collapsed": false
   },
   "outputs": [
    {
     "name": "stdout",
     "output_type": "stream",
     "text": [
      "0.5\n"
     ]
    }
   ],
   "source": [
    "prob_space = {'sunny': 1/2, 'rainy': 1/6, 'snowy': 1/3}\n",
    "rainy_or_snowy_event = {'rainy', 'snowy'}\n",
    "print(prob_of_event(rainy_or_snowy_event, prob_space))"
   ]
  },
  {
   "cell_type": "code",
   "execution_count": 8,
   "metadata": {
    "collapsed": false
   },
   "outputs": [
    {
     "data": {
      "text/plain": [
       "0.8"
      ]
     },
     "execution_count": 8,
     "metadata": {},
     "output_type": "execute_result"
    }
   ],
   "source": [
    "model = {'benign': 0.3, 'malignant': 0.5, 'not sure': 0.2}\n",
    "event = {'benign', 'malignant'}\n",
    "prob_of_event(event, model)"
   ]
  },
  {
   "cell_type": "markdown",
   "metadata": {},
   "source": [
    "### Exercise: Some Dice Rolling and Coin Flipping Events"
   ]
  },
  {
   "cell_type": "markdown",
   "metadata": {},
   "source": [
    "Consider rolling two six-sided dice with faces numbered $1$ through $6$. Again, we use the sample space from earlier $Ω=\\{(1,1),(1,2),…,(6,5),(6,6)\\}$. What is the event that the sum of the faces is $7$? Enter your answer as a Python set."
   ]
  },
  {
   "cell_type": "code",
   "execution_count": 11,
   "metadata": {
    "collapsed": true
   },
   "outputs": [],
   "source": [
    "two_dice = {}\n",
    "for i in range(6):\n",
    "    for j in range(6):\n",
    "        two_dice[(i+1, j+1)] = 1/36"
   ]
  },
  {
   "cell_type": "code",
   "execution_count": 34,
   "metadata": {
    "collapsed": false
   },
   "outputs": [
    {
     "data": {
      "text/plain": [
       "{(1, 6), (2, 5), (3, 4), (4, 3), (5, 2), (6, 1)}"
      ]
     },
     "execution_count": 34,
     "metadata": {},
     "output_type": "execute_result"
    }
   ],
   "source": [
    "Ω = set(two_dice.keys())\n",
    "E = {x for x in Ω if sum(x) == 7}\n",
    "\n",
    "E"
   ]
  },
  {
   "cell_type": "markdown",
   "metadata": {},
   "source": [
    "We flip a coin. The coin landing with any face shown means that it's okay if either heads shows or tails shows. This corresponds to the event $\\mathcal{A}_{\\text {any-face-shows}}=\\{ \\text {heads},\\text {tails}\\}$, which happens to be equal to the whole sample space. Meanwhile, simultaneously having both heads and tails show face up refers to an impossible situation, corresponding to the “empty set\" event $\\mathcal{A}_{\\text {both-faces-simultaneously-show}}=\\{ \\}$, also denoted as $\\phi$."
   ]
  },
  {
   "cell_type": "code",
   "execution_count": 41,
   "metadata": {
    "collapsed": false
   },
   "outputs": [],
   "source": [
    "coin = {'heads': 1/2, 'tails': 1/2}\n",
    "Ω = set(coin.keys())\n",
    "E1 = set(['heads', 'tails'])\n",
    "E2 = set()"
   ]
  },
  {
   "cell_type": "code",
   "execution_count": 43,
   "metadata": {
    "collapsed": false
   },
   "outputs": [
    {
     "name": "stdout",
     "output_type": "stream",
     "text": [
      "1.0 0\n"
     ]
    }
   ],
   "source": [
    "print(prob_of_event(E1, coin), prob_of_event(E2, coin))"
   ]
  },
  {
   "cell_type": "code",
   "execution_count": null,
   "metadata": {
    "collapsed": true
   },
   "outputs": [],
   "source": []
  }
 ],
 "metadata": {
  "kernelspec": {
   "display_name": "Python 3",
   "language": "python",
   "name": "python3"
  },
  "language_info": {
   "codemirror_mode": {
    "name": "ipython",
    "version": 3
   },
   "file_extension": ".py",
   "mimetype": "text/x-python",
   "name": "python",
   "nbconvert_exporter": "python",
   "pygments_lexer": "ipython3",
   "version": "3.4.3"
  }
 },
 "nbformat": 4,
 "nbformat_minor": 0
}
