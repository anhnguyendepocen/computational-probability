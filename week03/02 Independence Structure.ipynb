{
 "cells": [
  {
   "cell_type": "markdown",
   "metadata": {},
   "source": [
    "## Introduction to Independence\n",
    "\n",
    "With a fair coin, let's say that we just tossed it five times and tails turned up all five times. Is it more likely now that we'll see heads?\n",
    "\n",
    "The answer is no because the outcome of the tosses don't tell us anything about the outcome of a new toss. This concept is referred to as “independence\".\n",
    "\n",
    "We have actually already encountered independent events already, for example when we talked about two coin flips or two dice rolls. Now we develop theory for independent events and then, very soon, independent random variables. We build up to a concept called conditional independence, where two random variables become independent only after we condition on the value of a third random variable.\n",
    "\n",
    "Not only is independence an important phenomenon to understand and to help us reason about many scenarios, it will also play a pivotal role in how we can represent very large probabilistic models with very little space on a computer."
   ]
  },
  {
   "cell_type": "markdown",
   "metadata": {
    "collapsed": true
   },
   "source": [
    "## Independet Events\n",
    "\n",
    "Two events $A$ and $B$ are independet denoted by $A \\perp B$ if\n",
    "\n",
    "$$\\mathbb{P}(A \\cap B) = \\mathbb{p}(A) \\cdot \\mathbb{P}(B)$$\n",
    "\n",
    "**Example:** If we toss two coin then probability of heads up is multiple of probability of heads for each coin. \n",
    "\n",
    "In terms of conditional probability we \n",
    "$$ \\begin{align} \n",
    "\\require{cancel}\\mathbb{P}(A \\cap B) &= \\mathbb{p}(A) \\cdot \\mathbb{P}(B) \\\\\n",
    "\\cancel{\\mathbb{P}(A)} \\mathbb{P}(B\\mid A) &= \\cancel{\\mathbb{P}(A)} \\cdot \\mathbb{P}(B) \\\\\n",
    "\\mathbb{P}(B\\mid A) &= \\mathbb{P}(B)\n",
    "\\end{align}$$\n",
    "Thus if $A \\perp B$ then probabiliy if $B$ given $A$ is euqal to probability of $B$."
   ]
  },
  {
   "cell_type": "markdown",
   "metadata": {},
   "source": [
    "### Exercise: Bernoulli and Bin\n",
    "\n",
    "This problem introduces two of the most common random variables that people use in probabilistic models: the Bernoulli random variable, and the Binomial random variable. We have actually already encountered these albeit with a disguise! A Bernoulli random variable is like a biased coin flip. A Binomial random variable is like counting the number of heads for $n$ of these biased coin flips.\n",
    "\n",
    "These two distributions appear all the time in many, many application domains that use inference! We introduce them now to equip you with some vocabulary and also to let you see our first example of a random variable whose probability table can be described by only a few numbers even if the number of entries in the table can be much larger!\n",
    "\n",
    "As mentioned, a Bernoulli random variable is like a biased coin flip where probability of heads is $p$. In particular, a Bernoulli random variables is $1$ with probability $p$, and $0$ with probability $1−p$. If a random variable $X$ has this particular distribution, then we write $X\\sim \\text{Bernoulli}(p)$, where “$\\sim$\" can be read as “is distributed as\" or “has distribution\". Some people like to abbreviate $\\text{Bernoulli}(p)$ by writing $\\text{Bern}(p)$, $\\text{Ber}(p)$, or even just $B(p)$.\n",
    "\n",
    "A Binomial random variable can be thought of as n independent coin flips, each with probability $p$ of heads. For a random variable $S$ that has this Binomial distribution with parameters $n$ and $p$, we denote it as $S \\sim \\text{Binomial}(n,p)$, read as “$S$ is distributed as Binomial with parameters $n$ and $p$\". Some people might also abbreviate and instead of writing $\\text{Binomial}(n,p)$, they write $\\text{Binom}(n,p)$ or $\\text{Bin}(n,p)$.\n",
    "\n",
    "(a) True or false: If $Y \\sim \\text{Binomial}(n,p)$, then $Y$ is a Bernoulli random variable.\n",
    "\n",
    "**Answer:** FALSE"
   ]
  },
  {
   "cell_type": "markdown",
   "metadata": {},
   "source": [
    "(b) Let's say we have a coin that turns up heads with probability $0.6$. We flip this coin $10$ times. What is the probability of seeing the sequence HTHTTTTTHH, where H denotes heads and T denotes tails (so we have heads in the first toss, tails in the second, heads in the third, etc)? (Please be precise with at least 3 decimal places, unless of course the answer doesn't need that many decimal places. You could also put a fraction.)"
   ]
  },
  {
   "cell_type": "code",
   "execution_count": 28,
   "metadata": {
    "collapsed": false
   },
   "outputs": [
    {
     "data": {
      "text/plain": [
       "0.0005308416000000001"
      ]
     },
     "execution_count": 28,
     "metadata": {},
     "output_type": "execute_result"
    }
   ],
   "source": [
    "sequence = \"HTHTTTTTHH\"\n",
    "model = {'H': 0.6, 'T': 0.4}\n",
    "prob = 1\n",
    "for char in sequence:\n",
    "    prob *= model[char]\n",
    "    \n",
    "prob    "
   ]
  },
  {
   "cell_type": "markdown",
   "metadata": {},
   "source": [
    "(c) In the previous part, there were 4 heads and 6 tails. Did the ordering of them matter? In other words, would your answer to the previous part be the same if, for example, instead we saw the sequence HHHHTTTTTT (or any other permutation of 4 heads and 6 tails)?\n",
    "\n",
    "[$\\checkmark$] The probability stays the same so long as we have 4 heads and 6 tails. <br>\n",
    "[$\\times    $] The probability is different depending on the ordering of heads and tails."
   ]
  },
  {
   "cell_type": "markdown",
   "metadata": {},
   "source": [
    "(d) From the previous two parts, what we were analyzing was the same as the random variable $S \\sim \\text{Binomial}(10,0.6)$. Note that $S=4$ refers to the event that we see exactly 4 heads. Note that HTHTTTTTHH and HHHHTTTTTT are different outcomes of the underlying experiment of coin flipping. How many ways are there to see 4 heads in 10 tosses? (Please provide the exact answer.)"
   ]
  },
  {
   "cell_type": "code",
   "execution_count": 29,
   "metadata": {
    "collapsed": false
   },
   "outputs": [],
   "source": [
    "def ncr(n, r):\n",
    "    \"\"\"\n",
    "    If calculates the n choose r for n >= r.\n",
    "    \n",
    "    >>> ncr(10, 4)\n",
    "    210.0\n",
    "    \n",
    "    >>> ncr(4, 4)\n",
    "    1.0\n",
    "    \"\"\"\n",
    "    from scipy.misc import factorial \n",
    "    return factorial(n) // (factorial(r) * factorial(n-r))\n",
    "    \n",
    "if __name__ == \"__main__\":\n",
    "    import doctest \n",
    "    doctest.testmod()"
   ]
  },
  {
   "cell_type": "code",
   "execution_count": 30,
   "metadata": {
    "collapsed": false
   },
   "outputs": [
    {
     "data": {
      "text/plain": [
       "210.0"
      ]
     },
     "execution_count": 30,
     "metadata": {},
     "output_type": "execute_result"
    }
   ],
   "source": [
    "ncr(10, 4)"
   ]
  },
  {
   "cell_type": "markdown",
   "metadata": {},
   "source": [
    "(e) Using your answers to parts (b) through (d), what is the probability that $S=4$? (Please be precise with at least 3 decimal places, unless of course the answer doesn't need that many decimal places. You could also put a fraction.)"
   ]
  },
  {
   "cell_type": "code",
   "execution_count": 22,
   "metadata": {
    "collapsed": false
   },
   "outputs": [
    {
     "data": {
      "text/plain": [
       "0.11147673600000002"
      ]
     },
     "execution_count": 22,
     "metadata": {},
     "output_type": "execute_result"
    }
   ],
   "source": [
    "prob * ncr(10, 4)"
   ]
  },
  {
   "cell_type": "markdown",
   "metadata": {},
   "source": [
    "In general, for a random variable $S \\sim \\text{Binomial}(n,p)$, the reasoning used in parts (b) through (e) could be used to obtain the probability that $S=s$ for any $s∈\\{0,1,2,…,n\\}$. Importantly, what this means is that by just specifying two numbers $n$ and $p$, we know the full probability table for random variable $S$, which has $n+1$ entries! This is an example of where we could have many probability table entries yet we can fully specify the entire table using fewer numbers than the number of entries in the table.\n",
    "\n",
    "Please be sure to look at the solution to this problem after you have finished it to see the general equation for what the probability table entry $p_S(s)$ is, and also why the probability table entries sum to $1$."
   ]
  },
  {
   "cell_type": "markdown",
   "metadata": {},
   "source": [
    "### Exercise: The Soda Machine\n",
    "3 points possible (graded)\n",
    "A soda machine advertises 7 different flavors of soda. However, there is only one button for buying soda, which dispenses a flavor of the machine's choosing. Adam buys 14 sodas today, and notices that they are all either grape or root beer flavored.\n",
    "\n",
    "(a) Assuming that the soda machine actually dispenses each of its 7 flavors randomly, with equal probability, and independently each time, what is the probability that all 14 of Adam's sodas are either grape or root beer flavored? (Please be precise with at least 10 decimal places, unless of course the answer doesn't need that many decimal places. You could also put a fraction.)"
   ]
  },
  {
   "cell_type": "code",
   "execution_count": 31,
   "metadata": {
    "collapsed": false
   },
   "outputs": [
    {
     "data": {
      "text/plain": [
       "2.4157243620710218e-08"
      ]
     },
     "execution_count": 31,
     "metadata": {},
     "output_type": "execute_result"
    }
   ],
   "source": [
    "(2/7)**14"
   ]
  },
  {
   "cell_type": "markdown",
   "metadata": {},
   "source": [
    "(b) How would your answer to the (a) change if the machine were out of diet cola, ginger ale, so it randomly chooses one of only 5 flavors? (Please be precise with at least 10 decimal places, unless of course the answer doesn't need that many decimal places. You could also put a fraction.)"
   ]
  },
  {
   "cell_type": "code",
   "execution_count": 32,
   "metadata": {
    "collapsed": false
   },
   "outputs": [
    {
     "data": {
      "text/plain": [
       "2.684354560000002e-06"
      ]
     },
     "execution_count": 32,
     "metadata": {},
     "output_type": "execute_result"
    }
   ],
   "source": [
    "(2/5)**14"
   ]
  },
  {
   "cell_type": "markdown",
   "metadata": {},
   "source": [
    "(c) What if the machine only had 3 flavors: grape, root beer, and cherry? (Please be precise with at least 10 decimal places, unless of course the answer doesn't need that many decimal places. You could also put a fraction.)"
   ]
  },
  {
   "cell_type": "code",
   "execution_count": 33,
   "metadata": {
    "collapsed": false
   },
   "outputs": [
    {
     "data": {
      "text/plain": [
       "0.003425487390781748"
      ]
     },
     "execution_count": 33,
     "metadata": {},
     "output_type": "execute_result"
    }
   ],
   "source": [
    "(2/3)**14"
   ]
  },
  {
   "cell_type": "markdown",
   "metadata": {},
   "source": [
    "### Exercise: Gambler's Fallacy\n",
    "\n",
    "Suppose you have a 27-sided fair die (with faces numbered $1,2,\\ldots ,27$) that you get to roll 100 times. You win a prize if you roll 27 at least once. In this problem we look at what happens if you don't roll 27 for a while and see whether or not you're more likely to roll a 27 in your remaining rolls.\n",
    "\n",
    "(a) What is the probability that you roll 27 at least once out of the 100 rolls? (Please be precise with at least 3 decimal places, unless of course the answer doesn't need that many decimal places. You could also put a fraction.)"
   ]
  },
  {
   "cell_type": "code",
   "execution_count": 50,
   "metadata": {
    "collapsed": false
   },
   "outputs": [
    {
     "data": {
      "text/plain": [
       "0.9770407138326136"
      ]
     },
     "execution_count": 50,
     "metadata": {},
     "output_type": "execute_result"
    }
   ],
   "source": [
    "1 - (26/27)**100"
   ]
  },
  {
   "cell_type": "markdown",
   "metadata": {},
   "source": [
    "(b) Suppose you roll the die once and don't get 27. What is the probability that of the remaining 99 rolls, you will roll 27 at least once? (Please be precise with at least 3 decimal places, unless of course the answer doesn't need that many decimal places. You could also put a fraction.)"
   ]
  },
  {
   "cell_type": "code",
   "execution_count": 51,
   "metadata": {
    "collapsed": false
   },
   "outputs": [
    {
     "data": {
      "text/plain": [
       "0.9761576643646371"
      ]
     },
     "execution_count": 51,
     "metadata": {},
     "output_type": "execute_result"
    }
   ],
   "source": [
    "1 - (26/27)**99"
   ]
  },
  {
   "cell_type": "markdown",
   "metadata": {},
   "source": [
    "(c) Suppose you roll the die n times and don't get 27 any of those times. What is the probability that of the remaining $100−n$ rolls, you will roll 27 at least once? Express your answer in terms of n.\n",
    "\n",
    "In this part, please provide your answer as a mathematical formula (and not as Python code). Use $\\hat{}$ for exponentiation, e.g., $x\\hat{} 2$ denotes $x^2$. Explicitly include multiplication using $*$, e.g. $x*y$ is $xy$."
   ]
  },
  {
   "cell_type": "code",
   "execution_count": 52,
   "metadata": {
    "collapsed": false
   },
   "outputs": [
    {
     "data": {
      "text/plain": [
       "0.9770407138326136"
      ]
     },
     "execution_count": 52,
     "metadata": {},
     "output_type": "execute_result"
    }
   ],
   "source": [
    "1 - (26/27)**(100-n)"
   ]
  },
  {
   "cell_type": "markdown",
   "metadata": {},
   "source": [
    "(d) Plot the probability in part (c) as a function of $n$ for $n=1,2,…,99$. Does this probability increase or decrease as n increases?\n",
    "\n",
    "[$\\checkmark$] Probability decreases as $n$ increases <br>\n",
    "[$\\times    $] Probability increases as $n$ increases"
   ]
  },
  {
   "cell_type": "code",
   "execution_count": 60,
   "metadata": {
    "collapsed": false
   },
   "outputs": [
    {
     "data": {
      "image/png": "[encoded data removed]",
      "text/plain": [
       "<matplotlib.figure.Figure at 0x8619da0>"
      ]
     },
     "metadata": {},
     "output_type": "display_data"
    }
   ],
   "source": [
    "import matplotlib.pyplot as plt\n",
    "\n",
    "x = [i for i in range(1, 100)]\n",
    "y = [1 - (26/27)**(100-n) for n in x]\n",
    "\n",
    "plt.plot(x, y, 'g')\n",
    "plt.xlabel(\"No of trials without getting $27$\")\n",
    "plt.ylabel(\"Prob of getting $27$\")\n",
    "plt.show()"
   ]
  },
  {
   "cell_type": "markdown",
   "metadata": {
    "collapsed": true
   },
   "source": [
    "## Independet Random Variable\n",
    "\n",
    "Two random variable $X$ and $Y$ are independent denoted by $X \\perp Y$, if the joint probability distribution $p_{X,Y}$ is given by \n",
    "\n",
    "$$p_{X,Y} (x,y) = p_X(x)\\, p_Y(y) \\quad \\forall x,y$$\n",
    "\n",
    "Indepence roughly means \"knowing one we have no information about other\". Also in terms of conditioanl probability \n",
    "\n",
    "$$p_{X\\mid Y}(x\\mid y) = p_X(x) $$"
   ]
  },
  {
   "cell_type": "markdown",
   "metadata": {},
   "source": [
    "### Exercise: Independent Random Variables\n",
    "\n",
    "In this exercise, we look at how to check if two random variables are independent in Python. Please make sure that you can follow the math for what's going on and be able to do this by hand as well.\n",
    "\n",
    "Consider random variables $W, I, X$, and $Y$, where we have shown the joint probability tables $p_{W,I}$ and $p_{X,Y}$.\n",
    "\n",
    "<img src=\"../images/images_sec-joint-rv-ex-marg.png\" rel=\"drawing\" width=400>\n",
    "\n",
    "In Python:\n",
    "```python\n",
    "prob_W_I = np.array([[1/2, 0], [0, 1/6], [0, 1/3]])\n",
    "```\n",
    "Note that here, we are not explicitly storing the labels, but we'll keep track of them in our heads. The labels for the rows (in order of row index): sunny, rainy, snowy. The labels for the columns (in order of column index): 1, 0.\n",
    "\n",
    "We can get the marginal distributions $p_W$ and $p_I$:\n",
    "```python\n",
    "prob_W = prob_W_I.sum(axis=1)\n",
    "prob_I = prob_W_I.sum(axis=0)\n",
    "```\n",
    "Then if $W$ and $I$ were actually independent, then just from their marginal distributions $p_W$ and $p_I$, we would be able to compute the joint distribution with the formula:\n",
    "\n",
    "$$p_{W,I}(w,i)=p_W(w)\\, p_I(i) \\quad \\forall ~w,i.$$\n",
    " \n",
    "Note that variables `prob_W` and `prob_I` at this point store the probability tables $p_W$ and $p_I$ as 1D NumPy arrays, for which NumPy does not store whether each of these should be represented as a row or as a column.\n",
    "\n",
    "We could however ask NumPy to treat them as column vectors, and in particular, taking the outer product of `prob_W` and `prob_I` yields what the joint distribution would be if $W$ and $I$ were independent:\n",
    "\n",
    "$$\\begin{eqnarray}\n",
    "\\begin{bmatrix}\n",
    "p_W(\\text{sunny}) \\\\\n",
    "p_W(\\text{rainy}) \\\\\n",
    "p_W(\\text{snowy})\n",
    "\\end{bmatrix}\n",
    "\\begin{bmatrix}\n",
    "p_I(1) & p_I(0)\n",
    "\\end{bmatrix}\n",
    "=\n",
    "\\begin{bmatrix}\n",
    "p_W(\\text{sunny})p_I(1) & p_W(\\text{sunny})p_I(0) \\\\\n",
    "p_W(\\text{rainy})p_I(1) & p_W(\\text{rainy})p_I(0) \\\\\n",
    "p_W(\\text{snowy})p_I(1) & p_W(\\text{snowy})p_I(0)\n",
    "\\end{bmatrix}.\n",
    "\\end{eqnarray}$$\n",
    "\n",
    "The left-hand side is an outer product, and the right-hand side is precisely the joint probability table that would result if $W$ and $I$ were independent.\n",
    "\n",
    "To compute and print the right-hand side, we do:\n",
    "```python\n",
    "print(np.outer(prob_W, prob_I))\n",
    "```\n",
    "**Question:** Are $W$ and $I$ independent (compare the joint probability table we would get if they were independent with their actual joint probability table)?"
   ]
  },
  {
   "cell_type": "code",
   "execution_count": null,
   "metadata": {
    "collapsed": true
   },
   "outputs": [],
   "source": []
  },
  {
   "cell_type": "markdown",
   "metadata": {},
   "source": [
    "**Question:** Are X and Y independent?"
   ]
  },
  {
   "cell_type": "code",
   "execution_count": null,
   "metadata": {
    "collapsed": true
   },
   "outputs": [],
   "source": []
  },
  {
   "cell_type": "markdown",
   "metadata": {},
   "source": [
    "## Mutual and Pairwise Independence \n",
    "\n",
    "Three random variable $X, Y$ and $Z$ are `mutually independent` if \n",
    "\n",
    "$$p_{X,Y,Z} = p_X(x) \\, p_Y(y) \\, p_Z(z) $$\n",
    "\n",
    "Three random variable $X,Y$ and $Z$ are `pairwise independence` if \n",
    "\n",
    "$$p_{I,J} = p_I \\, p_J \\quad \\forall ~I,J \\in \\{X,Y,Z\\}, I\\neq J$$"
   ]
  },
  {
   "cell_type": "markdown",
   "metadata": {},
   "source": [
    "### Exercise: Mutual vs Pairwise Independence\n",
    "\n",
    "Suppose random variables $X$ and $Y$ are independent, where $X$ is $1$ with probability $1/2$, and $-1$ otherwise. Similarly, $Y$ is also $1$ with probability $1/2$, and $-1$ otherwise. In this case, we say that $X$ and $Y$ are identically distributed since they have the same distribution (remember, just because they have the same distribution doesn't mean that they are the same random variable — here $X$ and $Y$ are independent!). Note that often in this course, we'll be seeing random variables that are independent and identically distributed (i.i.d.).\n",
    "\n",
    "Suppose we have another random variable $Z$ that is the product of $X$ and $Y$, i.e., $Z=XY$.\n",
    "\n",
    "Select all of the following that are true:\n",
    "\n",
    "[$\\times$] The distributions $p_X, p_Y$, and $p_Z$ are the same. <br>\n",
    "[$\\times$] The joint distributions $p_{X,Y}, p_{X,Z}$, and $p_{Y,Z}$ are the same. <br>\n",
    "[$\\times$] $X, Y$, and $Z$ are pairwise independent.<br>\n",
    "[$\\times$] $X, Y$, and $Z$ are mutually independent.<br>"
   ]
  },
  {
   "cell_type": "code",
   "execution_count": null,
   "metadata": {
    "collapsed": true
   },
   "outputs": [],
   "source": []
  }
 ],
 "metadata": {
  "kernelspec": {
   "display_name": "Python 3",
   "language": "python",
   "name": "python3"
  },
  "language_info": {
   "codemirror_mode": {
    "name": "ipython",
    "version": 3
   },
   "file_extension": ".py",
   "mimetype": "text/x-python",
   "name": "python",
   "nbconvert_exporter": "python",
   "pygments_lexer": "ipython3",
   "version": "3.4.3"
  }
 },
 "nbformat": 4,
 "nbformat_minor": 0
}
