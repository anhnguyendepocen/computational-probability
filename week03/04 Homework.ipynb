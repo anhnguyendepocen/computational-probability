{
 "cells": [
  {
   "cell_type": "markdown",
   "metadata": {},
   "source": [
    "## Homework\n",
    "\n",
    "### Ice Cream Sales in Inferenceville\n",
    "\n",
    "You have been hired to investigate a disturbing connection between ice cream sales and crime in Inferenceville. You are given a report that describes the joint distribution over random variable $S$, representing ice cream sales, and random variable $C$, representing crime. Each variable takes on a value of “low\" or “high\", which we'll represent with $0$ and $1$ respectively. The joint distribution (estimated from data) is as follows:\n",
    "\n",
    "<img src=\"..\\images\\images_sec-hw2-ice-cream-sales1.png\" rel=\"drawing\" width=200>\n",
    "\n",
    "(a) Are random variables $S$ and $C$ independent?\n",
    "\n",
    "\n",
    "[$\\times    $] Yes <br>\n",
    "[$\\checkmark$] No"
   ]
  },
  {
   "cell_type": "code",
   "execution_count": 1,
   "metadata": {
    "collapsed": false
   },
   "outputs": [],
   "source": [
    "def is_independent(p_X_Y):\n",
    "    \"\"\"\n",
    "    Returns true if the given join prbability distribution is independet.\n",
    "    \n",
    "    >>> import numpy as np\n",
    "    >>> p_X_Y = np.array([[0.4, 0.1], [0.25, 0.25]])\n",
    "    >>> is_independent(p_X_Y)\n",
    "    False\n",
    "    \n",
    "    >>> p_X_Y = np.array([[0.72, 0.08], [0.18, 0.02]])\n",
    "    >>> is_independent(p_X_Y)\n",
    "    True\n",
    "    \"\"\"\n",
    "\n",
    "    import numpy as np\n",
    "    p_X = p_X_Y.sum(axis=1)\n",
    "    p_Y = p_X_Y.sum(axis=0)\n",
    "    Δ = np.outer(p_X, p_Y) - p_X_Y\n",
    "    return (np.linalg.norm(Δ, np.inf) - 0.00001) < 0\n",
    "\n",
    "if __name__ == \"__main__\":\n",
    "    import doctest\n",
    "    doctest.testmod()"
   ]
  },
  {
   "cell_type": "code",
   "execution_count": 2,
   "metadata": {
    "collapsed": true
   },
   "outputs": [],
   "source": [
    "from sympy import init_printing\n",
    "init_printing()"
   ]
  },
  {
   "cell_type": "code",
   "execution_count": 3,
   "metadata": {
    "collapsed": false
   },
   "outputs": [
    {
     "data": {
      "text/plain": [
       "False"
      ]
     },
     "execution_count": 3,
     "metadata": {},
     "output_type": "execute_result"
    }
   ],
   "source": [
    "import numpy as np\n",
    "p_S_C = np.array([[0.4, 0.1], [0.25, 0.25]])\n",
    "is_independent(p_S_C)"
   ]
  },
  {
   "cell_type": "markdown",
   "metadata": {},
   "source": [
    "(b) After further investigation, you discover information about the temperature, represented by $T$. This random variable also takes on values $0$ or $1$ corresponding again to “low\" and “high\". You are able to obtain the conditional distribution $p_{S,C \\mid T}(s,c \\mid t)$, shown below.\n",
    "\n",
    "<img src=\"..\\images\\images_sec-hw2-ice-cream-sales2.png\" rel=\"drawing\" width=450>\n",
    "\n",
    "Are random variables $S$ and $C$ conditionally independent given $T$?\n",
    "\n",
    "\n",
    "[$\\checkmark$] Yes <br>\n",
    "[$\\times    $] No"
   ]
  },
  {
   "cell_type": "code",
   "execution_count": 4,
   "metadata": {
    "collapsed": false
   },
   "outputs": [
    {
     "data": {
      "text/plain": [
       "True"
      ]
     },
     "execution_count": 4,
     "metadata": {},
     "output_type": "execute_result"
    }
   ],
   "source": [
    "import numpy as np\n",
    "p_T_1 = np.array([[0.72, 0.08], [0.18, 0.02]])\n",
    "p_T_2 = np.array([[0.08, 0.12], [0.32, 0.48]])\n",
    "is_independent(p_T_1) and is_independent(p_T_2)"
   ]
  },
  {
   "cell_type": "markdown",
   "metadata": {
    "extensions": {
     "jupyter_dashboards": {
      "version": 1,
      "views": {
       "grid_default": {
        "col": null,
        "height": 16,
        "hidden": false,
        "row": 0,
        "width": null
       },
       "report_default": {}
      }
     }
    },
    "slideshow": {
     "slide_type": "slide"
    }
   },
   "source": [
    "(c) Determine the distribution $p_T$ from the tables above. Express your answer as a Python dictionary. The keys should be the Python integers $0$ and $1$."
   ]
  },
  {
   "cell_type": "markdown",
   "metadata": {},
   "source": [
    "Assuming $p_T(0) = p$ then $p_T(1) = (1-p)$. Now by the law of total probability, \n",
    "\n",
    "$$\\begin{align}\n",
    "p_{S,C}(0,0) &= p_{S,C\\mid T}(0,0 | 0)p_T(0) + p_{S,C\\mid T}(0,0 | 1)p_T(1) \\\\\n",
    "         0.4 &= 0.72p + 0.08(1-p)\\\\ \n",
    "\\end{align}$$"
   ]
  },
  {
   "cell_type": "code",
   "execution_count": 5,
   "metadata": {
    "collapsed": false
   },
   "outputs": [
    {
     "data": {
      "image/png": "[encoded data removed]",
      "text/latex": [
       "$$0.5$$"
      ],
      "text/plain": [
       "0.500000000000000"
      ]
     },
     "execution_count": 5,
     "metadata": {},
     "output_type": "execute_result"
    }
   ],
   "source": [
    "from sympy.solvers import solve\n",
    "from sympy import Symbol\n",
    "p = Symbol('p')\n",
    "p = solve(0.08*(1-p) + 0.72*p - 0.4, p)[0]; p"
   ]
  },
  {
   "cell_type": "code",
   "execution_count": 6,
   "metadata": {
    "collapsed": false
   },
   "outputs": [
    {
     "data": {
      "image/png": "[encoded data removed]",
      "text/latex": [
       "$$\\left \\{ 0 : 0.5, \\quad 1 : 0.5\\right \\}$$"
      ],
      "text/plain": [
       "{0: 0.5, 1: 0.5}"
      ]
     },
     "execution_count": 6,
     "metadata": {},
     "output_type": "execute_result"
    }
   ],
   "source": [
    "p_T = {0: p, 1: 1-p}; p_T"
   ]
  },
  {
   "cell_type": "code",
   "execution_count": null,
   "metadata": {
    "collapsed": true
   },
   "outputs": [],
   "source": []
  }
 ],
 "metadata": {
  "extensions": {
   "jupyter_dashboards": {
    "activeView": "grid_default",
    "version": 1,
    "views": {
     "grid_default": {
      "cellMargin": 10,
      "defaultCellHeight": 20,
      "maxColumns": 12,
      "name": "grid",
      "type": "grid"
     },
     "report_default": {
      "name": "report",
      "type": "report"
     }
    }
   }
  },
  "kernelspec": {
   "display_name": "Python 3",
   "language": "python",
   "name": "python3"
  },
  "language_info": {
   "codemirror_mode": {
    "name": "ipython",
    "version": 3
   },
   "file_extension": ".py",
   "mimetype": "text/x-python",
   "name": "python",
   "nbconvert_exporter": "python",
   "pygments_lexer": "ipython3",
   "version": "3.4.3"
  }
 },
 "nbformat": 4,
 "nbformat_minor": 0
}
