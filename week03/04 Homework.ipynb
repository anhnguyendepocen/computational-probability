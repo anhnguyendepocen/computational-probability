{
 "cells": [
  {
   "cell_type": "markdown",
   "metadata": {},
   "source": [
    "Homework Problem: Ice Cream Sales in Inferenceville\n",
    "\n",
    "You have been hired to investigate a disturbing connection between ice cream sales and crime in Inferenceville. You are given a report that describes the joint distribution over random variable $S$, representing ice cream sales, and random variable $C$, representing crime. Each variable takes on a value of “low\" or “high\", which we'll represent with $0$ and $1$ respectively. The joint distribution (estimated from data) is as follows:\n",
    "\n",
    "<img src=\"..\\images\\images_sec-hw2-ice-cream-sales1.png\" rel=\"drawing\" width=200>\n",
    "\n",
    "(a) Are random variables $S$ and $C$ independent?\n",
    "\n",
    "\n",
    "Yes\n",
    "No\n",
    "unanswered\n",
    "\n",
    "(b) After further investigation, you discover information about the temperature, represented by $T$. This random variable also takes on values $0$ or $1$ corresponding again to “low\" and “high\". You are able to obtain the conditional distribution $p_{S,C \\mid T}(s,c \\mid t)$, shown below.\n",
    "\n",
    "<img src=\"..\\images\\images_sec-hw2-ice-cream-sales2.png\" rel=\"drawing\" width=450>\n",
    "\n",
    "Are random variables $S$ and $C$ conditionally independent given $T$?\n",
    "\n",
    "\n",
    "Yes\n",
    "No\n",
    "unanswered\n",
    "\n",
    "(c) Determine the distribution $p_T$ from the tables above. Express your answer as a Python dictionary. The keys should be the Python integers $0$ and $1$."
   ]
  },
  {
   "cell_type": "code",
   "execution_count": null,
   "metadata": {
    "collapsed": true
   },
   "outputs": [],
   "source": []
  }
 ],
 "metadata": {
  "kernelspec": {
   "display_name": "Python 3",
   "language": "python",
   "name": "python3"
  },
  "language_info": {
   "codemirror_mode": {
    "name": "ipython",
    "version": 3
   },
   "file_extension": ".py",
   "mimetype": "text/x-python",
   "name": "python",
   "nbconvert_exporter": "python",
   "pygments_lexer": "ipython3",
   "version": "3.4.3"
  }
 },
 "nbformat": 4,
 "nbformat_minor": 0
}
