{
 "cells": [
  {
   "cell_type": "markdown",
   "metadata": {},
   "source": [
    "Two random variable $X$ and $Y$ are conditiaonly independent given $Z$ if \n",
    "\n",
    "$$p_{X,Y\\mid Z} (x,y\\mid z) = p_{X\\mid Z}(x\\mid z) \\, p_{Y\\mid Z}(y\\mid z)$$\n",
    "\n",
    "In general Marginal independence doesn't imply conditional independence and vice versa. For example suppose $R, S, T$ are three random. Let $S$ and $T$ are conditioned on $R$.\n",
    "\n",
    "1. Assuming $S\\perp T \\mid R$ weather $S\\perp T$?\n",
    "\n",
    "    $$p_{R,S,T}(r,s,t) = p_R(r) \\, p_{S\\mid R}(s\\mid r) \\, p_{T\\mid R}(t\\mid r)$$\n",
    "    Now, \n",
    "    $$\\begin{align}p_{S,T}(s,t) \n",
    "    &= \\sum_r p_{R,S,T}(r,s,t) \\\\\n",
    "    &= \\sum_r p_R(r) \\, p_{S\\mid R}(s\\mid r) \\, p_{T\\mid R}(t\\mid r) \\\\\n",
    "    &= p_S(s) \\, p_T(t)\n",
    "    \\end{align}$$\n",
    "\n",
    "2. Assuming $S\\perp T$ weather $S\\perp T \\mid R$?"
   ]
  },
  {
   "cell_type": "markdown",
   "metadata": {},
   "source": [
    "#### Example \n",
    "\n",
    "R: Red Sox Game <br>\n",
    "A: Accident     <br>\n",
    "T: Bad Traffic  \n",
    "\n",
    "<img src=\"..\\images\\conditional_idependence_example.png\" rel=\"drawing\" width=400 >\n",
    "\n",
    "**Questions:** \n",
    "\n",
    "(a) $\\mathbb{P}(R=1) = 0.5$\n",
    "\n",
    "(b) $\\mathbb{P}(R=1 \\mid T=1)$\n",
    "\n",
    "$$\\begin{align}p_{R,A}(r,a\\mid 1) \n",
    "&= \\frac{p_{T\\mid R,A}(1 \\mid r, a)\\, p_R(r) \\, p_A(a)}{p_T(1)}\\\\\n",
    "&= c\\cdot p_{T\\mid R,A}(1 \\mid r, a)\\end{align}$$\n",
    "\n",
    "(c) $\\mathbb{P}(R=1 \\mid T=1, A=1)= \\mathbb{P}(R=1 \\mid T=1)$\n"
   ]
  },
  {
   "cell_type": "markdown",
   "metadata": {
    "collapsed": false
   },
   "source": [
    "### Practice Problem: Conditional Independence\n",
    "\n",
    "Suppose $X_0, \\dots , X_{100}$ are random variables whose joint distribution has the following factorization:\n",
    "\n",
    "$$p_{X_0, \\dots , X_{100}}(x_0, \\dots , x_{100}) = p_{X_0}(x_0) \\cdot \\prod _{i=1}^{100} p_{X_ i | X_{i-1}}(x_ i | x_{i-1})$$\n",
    " \n",
    "This factorization is what's called a Markov chain. We'll be seeing Markov chains a lot more later on in the course.\n",
    "\n",
    "Show that $X_{50} \\perp X_{52} | X_{51}$."
   ]
  },
  {
   "cell_type": "code",
   "execution_count": null,
   "metadata": {
    "collapsed": true
   },
   "outputs": [],
   "source": []
  }
 ],
 "metadata": {
  "kernelspec": {
   "display_name": "Python 3",
   "language": "python",
   "name": "python3"
  },
  "language_info": {
   "codemirror_mode": {
    "name": "ipython",
    "version": 3
   },
   "file_extension": ".py",
   "mimetype": "text/x-python",
   "name": "python",
   "nbconvert_exporter": "python",
   "pygments_lexer": "ipython3",
   "version": "3.4.3"
  }
 },
 "nbformat": 4,
 "nbformat_minor": 0
}
