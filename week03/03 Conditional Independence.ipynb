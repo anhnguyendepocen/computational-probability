{
 "cells": [
  {
   "cell_type": "markdown",
   "metadata": {
    "slideshow": {
     "slide_type": "slide"
    }
   },
   "source": [
    "## Conditional Independence\n",
    "\n",
    "Two random variable $X$ and $Y$ are conditiaonly independent given $Z$, denoted by $X \\perp \\!\\! \\perp Y \\mid Z$ if \n",
    "\n",
    "$$p_{X,Y\\mid Z} (x,y\\mid z) = p_{X\\mid Z}(x\\mid z) \\, p_{Y\\mid Z}(y\\mid z)$$\n",
    "\n",
    "In general Marginal independence doesn't imply conditional independence and vice versa. "
   ]
  },
  {
   "cell_type": "markdown",
   "metadata": {
    "slideshow": {
     "slide_type": "slide"
    }
   },
   "source": [
    "### Example \n",
    "\n",
    "R: Red Sox Game <br>\n",
    "A: Accident     <br>\n",
    "T: Bad Traffic  \n",
    "\n",
    "<img src=\"..\\images\\conditional_idependence_example.png\" rel=\"drawing\" width=400 >"
   ]
  },
  {
   "cell_type": "markdown",
   "metadata": {
    "slideshow": {
     "slide_type": "subslide"
    }
   },
   "source": [
    "Find the following probability\n",
    "\n",
    "(a) $\\mathbb{P}(R=1) = 0.5$\n",
    "\n",
    "(b) $\\mathbb{P}(R=1 \\mid T=1)$\n",
    "\n",
    "$$\\begin{align}p_{R,A}(r,a\\mid 1) \n",
    "&= \\frac{p_{T\\mid R,A}(1 \\mid r, a)\\, p_R(r) \\, p_A(a)}{p_T(1)}\\\\\n",
    "&= c\\cdot p_{T\\mid R,A}(1 \\mid r, a)\\end{align}$$\n",
    "\n",
    "(c) $\\mathbb{P}(R=1 \\mid T=1, A=1)= \\mathbb{P}(R=1 \\mid T=1)$"
   ]
  },
  {
   "cell_type": "markdown",
   "metadata": {
    "collapsed": false,
    "slideshow": {
     "slide_type": "slide"
    }
   },
   "source": [
    "### Practice Problem: Conditional Independence\n",
    "\n",
    "Suppose $X_0, \\dots , X_{100}$ are random variables whose joint distribution has the following factorization:\n",
    "\n",
    "$$p_{X_0, \\dots , X_{100}}(x_0, \\dots , x_{100}) = p_{X_0}(x_0) \\cdot \\prod _{i=1}^{100} p_{X_ i | X_{i-1}}(x_ i | x_{i-1})$$\n",
    " \n",
    "This factorization is what's called a Markov chain. We'll be seeing Markov chains a lot more later on in the course.\n",
    "\n",
    "Show that $X_{50} \\perp \\!\\! \\perp X_{52} \\mid X_{51}$."
   ]
  },
  {
   "cell_type": "markdown",
   "metadata": {
    "collapsed": true,
    "slideshow": {
     "slide_type": "subslide"
    }
   },
   "source": [
    "**Answer:** \n",
    "$$\n",
    "\\begin{eqnarray}\n",
    "\t\tp_{X_{50},X_{51},X_{52}}(x_{50},x_{51},x_{52})\n",
    "        &=& \\sum_{x_{0} \\dots x_{49}} \\sum_{x_{53} \\dots x_{100}} p_{X_0, \\dots , X_{100}}(x_0, \\dots , x_{100})  \\\\\n",
    "\t\t&=& \\sum_{x_{0} \\dots x_{49}} \\sum_{x_{53} \\dots x_{100}} \\left[p_{X_0}(x_{0}) \\prod_{i=0}^{50} p_{X_i\\mid X_{i-1}}(x_{i}|x_{i-1})\\right] \\cdot \\prod_{i=51}^{52} p_{X_i\\mid X_{i-1}}(x_{i}|x_{i-1})\\cdot \\prod_{i=53}^{100}  p_{X_i\\mid X_{i-1}}(x_{i}|x_{i-1}) \\\\\n",
    "        &=& \\underbrace{\\sum_{x_{0} \\dots x_{49}}  \\left[p_{X_0}(x_{0}) \\prod_{i=0}^{50} p_{X_i\\mid X_{i-1}}(x_{i}|x_{i-1})\\right]}_{=p_{X_{50}}(x_{50})} \\cdot \\prod_{i=51}^{52} p_{X_i\\mid X_{i-1}}(x_{i}|x_{i-1})\\cdot \\underbrace{\\sum_{x_{53} \\dots x_{100}}\\prod_{i=53}^{100}  p_{X_i\\mid X_{i-1}}(x_{i}|x_{i-1})}_{=1}\\\\\n",
    "\t\t&=& p_{X_{50}}(x_{50}) \\cdot p_{X_{51}\\mid X_{50}}(x_{51}|x_{50}) \\cdot p_{X_{52}\\mid X_{51}}(x_{52}|x_{51}) \\\\\n",
    "        &=&  p_{X_{50}\\mid X_{51}}(x_{50}|x_{51}) \\cdot p_{X_{52}\\mid X_{51}}(x_{52}|x_{51}) \\\\\n",
    "        \\frac{p_{X_{50},X_{51},X_{52}}(x_{50},x_{51},x_{52})}{p_{X_{51}}(x_{51})} \n",
    "        &=& p_{X_{50}\\mid X_{51}}(x_{50}|x_{51}) \\cdot p_{X_{52}\\mid X_{51}}(x_{52}|x_{51})\\\\\n",
    "        p_{X_{50},X_{52}\\mid X_{51}}(x_{50},x_{52}\\mid x_{51}) \n",
    "        &=& p_{X_{50}\\mid X_{51}}(x_{50}|x_{51}) \\cdot p_{X_{52}\\mid X_{51}}(x_{52}|x_{51})\n",
    "\\end{eqnarray}\n",
    "$$"
   ]
  },
  {
   "cell_type": "code",
   "execution_count": null,
   "metadata": {
    "collapsed": true
   },
   "outputs": [],
   "source": []
  }
 ],
 "metadata": {
  "kernelspec": {
   "display_name": "Python 3",
   "language": "python",
   "name": "python3"
  },
  "language_info": {
   "codemirror_mode": {
    "name": "ipython",
    "version": 3
   },
   "file_extension": ".py",
   "mimetype": "text/x-python",
   "name": "python",
   "nbconvert_exporter": "python",
   "pygments_lexer": "ipython3",
   "version": "3.4.3"
  }
 },
 "nbformat": 4,
 "nbformat_minor": 0
}
