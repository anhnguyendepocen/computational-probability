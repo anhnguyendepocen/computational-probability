{
 "cells": [
  {
   "cell_type": "markdown",
   "metadata": {},
   "source": [
    "## Conditioning for Random Variables\n",
    "\n",
    "When we observe that a random variable takes on a specific value (such as $W=\\text {rainy}$ from earlier for which we say that we condition on random variable $W$ taking on the value “rainy\"), this observation can affect what we think are likely or unlikely values for another random variable.\n",
    "\n",
    "When we condition on $W=\\text {rainy}$, we do a two-step procedure; first, we only keep the row for $W$ corresponding to the observed value:\n",
    "\n",
    "<img src=\"../images/images_sec-joint-rv-cond-restrict.png\" alt=\"Drawing\" style=\"width: 400px;\"/>\n",
    "\n",
    "Second, we “normalize\" the table so that its entries add up to $1$, which corresponds to dividing it by the sum of the entries, which is equal to $p_{W}(\\text {rainy})$ in this case:\n",
    "\n",
    "<img src=\"../images/images_sec-joint-rv-cond-renormalize.png\" alt=\"Drawing\" style=\"width: 400px;\"/>\n",
    "\n",
    "**Notation:** The resulting probability table $p_{T\\mid W}(\\cdot \\mid \\text {rainy})$ is associated with the random variable denoted $(T\\mid W=\\text {rainy})$; we use “∣\" to denote that we're conditioning on things to the right of “∣\" happening (these are things that we have observed or that we are given as having happened). We read $\"T\\mid W=\\text {rainy}\"$ as either “$T$ given $W$ is rainy\" or “$T$ conditioned on $W$ being rainy\". To refer to specific entries of the table, we write, for instance,\n",
    "\n",
    "$$p_{T\\mid W}(\\text {cold}\\mid \\text {rainy})=\\mathbb {P}(T=\\text {cold}\\mid W=\\text {rainy})=\\frac{4}{5}.$$\n",
    " \n",
    "In general:\n",
    "\n",
    "**Conditioning:** Consider two random variables $X$ and $Y$ (that take on values in the sets $\\mathcal{X}$ and $\\mathcal{Y}$ respectively) with joint probability table $p_{X,Y}$ (from which by marginalization we can readily compute the marginal probability table pY). For any $x∈\\mathcal{X}$ and $y∈\\mathcal{Y}$ such that $p_{Y}(y)>0$, the *conditional probability* of event $X=x$ given event $Y=y$ has happened is\n",
    "\n",
    "$$p_{X\\mid Y}(x\\mid y)\\triangleq \\frac{p_{X,Y}(x,y)}{p_{Y}(y)}.$$\n",
    " \n",
    "For example,\n",
    "\n",
    "$$p_{T\\mid W}(\\text {cold}\\mid \\text {rainy})=\\frac{p_{W,T}(\\text {rainy},\\text {cold})}{p_{W}(\\text {rainy})}=\\frac{\\frac{2}{15}}{\\frac{1}{6}}=\\frac{4}{5}.$$\n",
    " \n",
    "**Computational interpretation:** To compute $p_{X\\mid Y}(x\\mid y)$, take the entry $p_{X,Y}(x,y)$ in the joint probability table corresponding to $X=x$ and $Y=y$, and then divide the entry by $p_{Y}(y)$, which is an entry in the marginal probability table $p_Y$ for random variable $Y$."
   ]
  },
  {
   "cell_type": "markdown",
   "metadata": {},
   "source": [
    "### Exercise: Conditioning for Random Variables\n",
    "\n",
    "Consider the following two joint probability tables.\n",
    "\n",
    "<img src=\"../images/images_sec-joint-rv-ex-marg.png\" alt=\"Drawing\" style=\"width: 400px;\"/>"
   ]
  },
  {
   "cell_type": "markdown",
   "metadata": {},
   "source": [
    "**Question 1:** What is $p_{W|I}(\\text {sunny}|1)$?"
   ]
  },
  {
   "cell_type": "code",
   "execution_count": 1,
   "metadata": {
    "collapsed": false
   },
   "outputs": [
    {
     "data": {
      "text/plain": [
       "{0: 0.5, 1: 0.5}"
      ]
     },
     "execution_count": 1,
     "metadata": {},
     "output_type": "execute_result"
    }
   ],
   "source": [
    "p_W_I = {\n",
    "    'sunny': {1: 1/2},\n",
    "    'rainy': {0: 1/6},\n",
    "    'snowy': {0: 1/3}\n",
    "}\n",
    "\n",
    "p_W = {}\n",
    "for key, value in p_W_I.items():\n",
    "    p_W_value = 0\n",
    "    for key1, value1 in value.items():\n",
    "        p_W_value += value1\n",
    "    \n",
    "    p_W[key] = p_W_value\n",
    "    \n",
    "p_W\n",
    "\n",
    "p_I = {}\n",
    "for key, value in p_W_I.items():\n",
    "    for key1, value1 in value.items():\n",
    "        if key1 not in p_I:\n",
    "#             print(key1, value1)\n",
    "            p_I[key1] = value1\n",
    "            \n",
    "        else:\n",
    "            p_I[key1] += value1\n",
    "\n",
    "p_I "
   ]
  },
  {
   "cell_type": "code",
   "execution_count": 2,
   "metadata": {
    "collapsed": false
   },
   "outputs": [
    {
     "data": {
      "text/plain": [
       "1.0"
      ]
     },
     "execution_count": 2,
     "metadata": {},
     "output_type": "execute_result"
    }
   ],
   "source": [
    "# p_W_I('sunny', 1)\n",
    "p_W_I['sunny'][1]/p_I[1]"
   ]
  },
  {
   "cell_type": "markdown",
   "metadata": {},
   "source": [
    "**Question 2:** What is $p_{X|Y}(\\text {sunny}|1)$?"
   ]
  },
  {
   "cell_type": "code",
   "execution_count": 3,
   "metadata": {
    "collapsed": false
   },
   "outputs": [
    {
     "data": {
      "text/plain": [
       "{0: 0.5, 1: 0.5}"
      ]
     },
     "execution_count": 3,
     "metadata": {},
     "output_type": "execute_result"
    }
   ],
   "source": [
    "p_X_Y = {\n",
    "    'sunny': {1: 1/4 ,  0: 1/4 },\n",
    "    'rainy': {1: 1/12,  0: 1/12},\n",
    "    'snowy': {1: 1/6 ,  0: 1/6 }\n",
    "}\n",
    "\n",
    "p_X = {}\n",
    "for key, value in p_X_Y.items():\n",
    "    p_X_value = 0\n",
    "    for key1, value1 in value.items():\n",
    "        p_X_value += value1\n",
    "    \n",
    "    p_X[key] = p_X_value\n",
    "    \n",
    "p_X\n",
    "\n",
    "p_Y = {}\n",
    "for key, value in p_X_Y.items():\n",
    "    for key1, value1 in value.items():\n",
    "        if key1 not in p_Y:\n",
    "            p_Y[key1] = value1\n",
    "            \n",
    "        else:\n",
    "            p_Y[key1] += value1\n",
    "\n",
    "p_Y     "
   ]
  },
  {
   "cell_type": "code",
   "execution_count": 4,
   "metadata": {
    "collapsed": false
   },
   "outputs": [
    {
     "data": {
      "text/plain": [
       "0.5"
      ]
     },
     "execution_count": 4,
     "metadata": {},
     "output_type": "execute_result"
    }
   ],
   "source": [
    "# p_X_Y('sunny', 1)\n",
    "p_X_Y['sunny'][1]/p_Y[1]"
   ]
  },
  {
   "cell_type": "markdown",
   "metadata": {},
   "source": [
    "**Question 3:** What is $p_{I|W}(1|\\text {snowy})$? "
   ]
  },
  {
   "cell_type": "code",
   "execution_count": 5,
   "metadata": {
    "collapsed": false
   },
   "outputs": [
    {
     "name": "stdout",
     "output_type": "stream",
     "text": [
      "0\n"
     ]
    }
   ],
   "source": [
    "# p_W_I['snowy'][1] = p_Y_X[1]['snowy]\n",
    "try:\n",
    "    p_W_I['snowy'][1]/p_I['snowy']\n",
    "except:\n",
    "    print(0)"
   ]
  },
  {
   "cell_type": "markdown",
   "metadata": {},
   "source": [
    "**Question 4:** What is $p_{Y|X}(1|\\text {snowy})$?"
   ]
  },
  {
   "cell_type": "code",
   "execution_count": 6,
   "metadata": {
    "collapsed": false
   },
   "outputs": [
    {
     "data": {
      "text/plain": [
       "0.5"
      ]
     },
     "execution_count": 6,
     "metadata": {},
     "output_type": "execute_result"
    }
   ],
   "source": [
    "# p_X_Y['snowy'][1] = p_Y_X[1]['snowy]\n",
    "p_X_Y['snowy'][1]/p_X['snowy']"
   ]
  },
  {
   "cell_type": "markdown",
   "metadata": {},
   "source": [
    "### Exercise: Simpson's Paradox\n",
    "\n",
    "This problem looks at a real-life situation in which a school was accused of gender bias, seemingly admitting more men than women.\n",
    "\n",
    "We have the data encoded as a 3D joint probability table across three random variables $G$ for gender (either female or male), $D$ for the department someone applied to (there are 6 departments in consideration, which for simplicity we will just call A, B, C, D, E, and F), and $A$ for the admissions decision (either admitted or rejected).\n",
    "\n",
    "Thus, $p_{G,D,A}(\\text {female},\\text {C},\\text {admitted})$ refers to the probability that a woman applying to department C gets admitted.\n",
    "\n",
    "The joint probability table is provided in the file [simpsons_paradox_data.py](simpsons_paradox_data.py). Please download that and make sure it's in the same working directory as your IPython prompt (the same way you were able to import comp_prob_inference.py).\n",
    "\n",
    "Now let's load in everything from `simpsons_paradox_data.py`:\n",
    "```python\n",
    "from simpsons_paradox_data import *\n",
    "```\n",
    "Please open up `simpsons_paradox_data.py` to see what Python variables you have access to, and to see how we can turn a probability space represented as a Python dictionary into the 3D joint probability table, stored as a 3D NumPy array.\n",
    "\n",
    "For example, to get the probability that a woman applied to department C and got admitted, you can enter into the prompt:\n",
    "```python\n",
    "joint_prob_table[gender_mapping['female'], department_mapping['C'], admission_mapping['admitted']]\n",
    "```\n",
    "\n",
    "**Some terminology:** In Python, especially when we deal with NumPy arrays higher than 2 dimensions, talking about rows and columns is confusing. We will instead refer to the different axes as axis 0 (in this case: gender), axis 1 (in this case: department), axis 2 (in this case: admission decision), and so forth if we have more than 3 dimensions.\n",
    "\n",
    "Let's see what the paradox is. First, let's look at the probability that women were admitted vs the probability that men were admitted. This means that we are going to marginalize out the department (again, this is axis 1).\n",
    "\n",
    "Marginalization is easy to do with NumPy:\n",
    "```python\n",
    "joint_prob_gender_admission = joint_prob_table.sum(axis=1)\n",
    "```\n",
    "On the right-hand side,` .sum(axis=1)` says to sum across axis 1 so that we no longer have axis 1! This means that the Python variable `joint_prob_gender_admission` stores a 2D joint probability table for random variables $G$ and $A$.\n",
    "\n",
    "Now, for example, the probability that a woman applies and is admitted is given by:\n",
    "```python\n",
    "joint_prob_gender_admission[gender_mapping['female'], admission_mapping['admitted']]\n",
    "```\n",
    "Now let's do some conditioning to see what the probability is of being admitted given that the applicant is female. Remember, what we want is the following conditional probability:\n",
    "\n",
    "$$\\begin{eqnarray}\n",
    "p_{A|G}(\\text{admitted} | \\text{female})\n",
    "&=&\n",
    "\\frac{p_{A,G}(\\text{admitted}, \\text{female})}\n",
    "     {p_G(\\text{female})} \\\\\n",
    "&=&\n",
    "\\frac{p_{A,G}(\\text{admitted}, \\text{female})}\n",
    "     {\\sum_a p_{A,G}(a, \\text{female})} \\\\\n",
    "&=&\n",
    "\\frac{p_{A,G}(\\text{admitted}, \\text{female})}\n",
    "     {p_{A,G}(\\text{admitted}, \\text{female})\n",
    "      + p_{A,G}(\\text{rejected}, \\text{female})}.\n",
    "\\end{eqnarray}$$\n",
    "\n",
    "Let's restrict the joint probability table of $G$ and $A$ so that we only look at when $G = \\text {female}$:\n",
    "```python\n",
    "female_only = joint_prob_gender_admission[gender_mapping['female']]\n",
    "```\n",
    "\n",
    "Now this corresponds to a vector that we have to normalize to be 1 to get a valid conditional probability table!\n",
    "```python\n",
    "prob_admission_given_female = female_only / np.sum(female_only)\n",
    "```\n",
    "This is the right conditional probability table, represented as an array. To get it into the dictionary format we've been dealing with earlier in the course, we do:\n",
    "```python\n",
    "prob_admission_given_female_dict = dict(zip(admission_labels, prob_admission_given_female))\n",
    "print(prob_admission_given_female_dict)\n",
    "```"
   ]
  },
  {
   "cell_type": "code",
   "execution_count": 7,
   "metadata": {
    "collapsed": true
   },
   "outputs": [],
   "source": [
    "from simpsons_paradox_data import *"
   ]
  },
  {
   "cell_type": "markdown",
   "metadata": {},
   "source": [
    "**Question:** What is $\\mathbb {P}(A = \\text {admitted} | G = \\text {female})$? (Please be precise with at least 3 decimal places, unless of course the answer doesn't need that many decimal places.)"
   ]
  },
  {
   "cell_type": "code",
   "execution_count": 8,
   "metadata": {
    "collapsed": false
   },
   "outputs": [
    {
     "name": "stdout",
     "output_type": "stream",
     "text": [
      "Probability of admitted female: 0.30334\n"
     ]
    }
   ],
   "source": [
    "joint_prob_gender_admission = joint_prob_table.sum(axis=1)\n",
    "female_only = joint_prob_gender_admission[gender_mapping['female']]\n",
    "prob_admission_and_female = joint_prob_gender_admission[gender_mapping['female'], admission_mapping['admitted']]\n",
    "prob_admitted_given_female = prob_admission_and_female/ np.sum(female_only)\n",
    "print(\"Probability of admitted female: {0:.5f}\".format(prob_admitted_given_female))"
   ]
  },
  {
   "cell_type": "markdown",
   "metadata": {},
   "source": [
    "**Question:** What is $\\mathbb {P}(A = \\text {admitted} | G = \\text {male})$? (Please be precise with at least 3 decimal places, unless of course the answer doesn't need that many decimal places.)"
   ]
  },
  {
   "cell_type": "code",
   "execution_count": 9,
   "metadata": {
    "collapsed": false
   },
   "outputs": [
    {
     "name": "stdout",
     "output_type": "stream",
     "text": [
      "Probability of admitted male: 0.44520\n"
     ]
    }
   ],
   "source": [
    "male_only = joint_prob_gender_admission[gender_mapping['male']]\n",
    "prob_admission_and_male = joint_prob_gender_admission[gender_mapping['male'], admission_mapping['admitted']]\n",
    "prob_admitted_given_male = prob_admission_and_male / np.sum(male_only)\n",
    "print(\"Probability of admitted male: {0:.5f}\".format(prob_admitted_given_male))"
   ]
  },
  {
   "cell_type": "markdown",
   "metadata": {},
   "source": [
    "So it looks like there's some gender bias going on! Let's investigate by looking at how things differ by each department.\n",
    "\n",
    "But before we do so, we just wanted to say a word about conditioning in code on axes aside from axis 0. With our 2D joint probability table of $G$ and $A$, to condition on admission decision instead, there's a slightly different syntax in Python. Let's condition on being admitted:\n",
    "```python\n",
    "admitted_only = joint_prob_gender_admission[:, admission_mapping['admitted']]\n",
    "```\n",
    "Notice that we had to put a “:,\". That is to indicate that we want to keep everything in the 0-th axis. We didn't have to do this when we conditioned on a value in the 0-th axis, since it is implied that you want everything in the axis 1 in that case.\n",
    "\n",
    "Thus, the conditional probability table of gender given admitted is:\n",
    "```python\n",
    "prob_gender_given_admitted = admitted_only / np.sum(admitted_only)\n",
    "prob_gender_given_admitted_dict = dict(zip(gender_labels, prob_gender_given_admitted))\n",
    "print(prob_gender_given_admitted_dict)\n",
    "```\n",
    "All right, now let's look at which departments are favoring men over women.\n",
    "\n",
    "For the following part, we will condition on both $G$ and $D$ taking on specific values together. For example, to only look at the entries in the 3D joint probability table for when $G=\\text{female}$ and, at the same time, $D=A$, then we can do the following:\n",
    "```python\n",
    "female_and_A_only = joint_prob_table[gender_mapping['female'], department_mapping['A']]\n",
    "```\n",
    "Now let's determine the probability of getting admitted given each gender and each department."
   ]
  },
  {
   "cell_type": "markdown",
   "metadata": {},
   "source": [
    "#### Department A:"
   ]
  },
  {
   "cell_type": "markdown",
   "metadata": {},
   "source": [
    "What is $\\mathbb {P}(A = \\text {admitted} | G = \\text {female}, D = \\text {A})$? (Please be precise with at least 3 decimal places, unless of course the answer doesn't need that many decimal places.)"
   ]
  },
  {
   "cell_type": "code",
   "execution_count": 10,
   "metadata": {
    "collapsed": false
   },
   "outputs": [
    {
     "name": "stdout",
     "output_type": "stream",
     "text": [
      "Probability of admitted female in department A: 0.820\n"
     ]
    }
   ],
   "source": [
    "# A: admitted, F: female\n",
    "p_A_F_A = joint_prob_table[gender_mapping['female'], department_mapping['A'], \\\n",
    "                           admission_mapping['admitted']]\n",
    "p_R_F_A = joint_prob_table[gender_mapping['female'], department_mapping['A'], \\\n",
    "                           admission_mapping['rejected']]\n",
    "p_A_given_F_and_A = p_A_F_A / (p_A_F_A + p_R_F_A)\n",
    "print(\"Probability of admitted female in department A: {0:.3f}\".format(p_A_given_F_and_A))"
   ]
  },
  {
   "cell_type": "markdown",
   "metadata": {},
   "source": [
    "##### General Approach"
   ]
  },
  {
   "cell_type": "code",
   "execution_count": 11,
   "metadata": {
    "collapsed": false
   },
   "outputs": [
    {
     "data": {
      "text/plain": [
       "array([[ 0.82,  0.68,  0.34,  0.35,  0.24,  0.07],\n",
       "       [ 0.62,  0.63,  0.37,  0.33,  0.28,  0.06]])"
      ]
     },
     "execution_count": 11,
     "metadata": {},
     "output_type": "execute_result"
    }
   ],
   "source": [
    "# Taking admitted only\n",
    "joint_prob_admitted = joint_prob_table[:,:,admission_mapping['admitted']]\n",
    "# Summing admitted and rejected\n",
    "joint_prob_gen_and_dep = joint_prob_table.sum(axis=2)\n",
    "# Taking admitted only / Summing admitted and rejected\n",
    "prob_admitted_given_gen_and_dep = joint_prob_admitted/joint_prob_gen_and_dep\n",
    "prob_admitted_given_gen_and_dep"
   ]
  },
  {
   "cell_type": "code",
   "execution_count": 12,
   "metadata": {
    "collapsed": false
   },
   "outputs": [
    {
     "data": {
      "text/plain": [
       "0.8200000000000004"
      ]
     },
     "execution_count": 12,
     "metadata": {},
     "output_type": "execute_result"
    }
   ],
   "source": [
    "prob_admitted_given_gen_and_dep[gender_mapping['female'], department_mapping['A']]"
   ]
  },
  {
   "cell_type": "markdown",
   "metadata": {},
   "source": [
    "What is $\\mathbb {P}(A = \\text {admitted} | G = \\text {male}, D = \\text {A})$? (Please be precise with at least 3 decimal places, unless of course the answer doesn't need that many decimal places.)"
   ]
  },
  {
   "cell_type": "code",
   "execution_count": 13,
   "metadata": {
    "collapsed": false
   },
   "outputs": [
    {
     "data": {
      "text/plain": [
       "0.62000000000000011"
      ]
     },
     "execution_count": 13,
     "metadata": {},
     "output_type": "execute_result"
    }
   ],
   "source": [
    "prob_admitted_given_gen_and_dep[gender_mapping['male'], department_mapping['A']]"
   ]
  },
  {
   "cell_type": "markdown",
   "metadata": {},
   "source": [
    "#### Department B:"
   ]
  },
  {
   "cell_type": "markdown",
   "metadata": {},
   "source": [
    "What is $\\mathbb {P}(A = \\text {admitted} | G = \\text {female}, D = \\text {B})$? (Please be precise with at least 3 decimal places, unless of course the answer doesn't need that many decimal places.)"
   ]
  },
  {
   "cell_type": "code",
   "execution_count": 14,
   "metadata": {
    "collapsed": false
   },
   "outputs": [
    {
     "data": {
      "text/plain": [
       "0.67999999999999705"
      ]
     },
     "execution_count": 14,
     "metadata": {},
     "output_type": "execute_result"
    }
   ],
   "source": [
    "prob_admitted_given_gen_and_dep[gender_mapping['female'], department_mapping['B']]"
   ]
  },
  {
   "cell_type": "markdown",
   "metadata": {},
   "source": [
    "What is $\\mathbb {P}(A = \\text {admitted} | G = \\text {male}, D = \\text {B})$? (Please be precise with at least 3 decimal places, unless of course the answer doesn't need that many decimal places.)"
   ]
  },
  {
   "cell_type": "code",
   "execution_count": 15,
   "metadata": {
    "collapsed": false
   },
   "outputs": [
    {
     "data": {
      "text/plain": [
       "0.63000000000000034"
      ]
     },
     "execution_count": 15,
     "metadata": {},
     "output_type": "execute_result"
    }
   ],
   "source": [
    "prob_admitted_given_gen_and_dep[gender_mapping['male'], department_mapping['B']]"
   ]
  },
  {
   "cell_type": "markdown",
   "metadata": {},
   "source": [
    "#### Department C"
   ]
  },
  {
   "cell_type": "markdown",
   "metadata": {},
   "source": [
    "What is $\\mathbb {P}(A = \\text {admitted} | G = \\text {female}, D = \\text {C})$? (Please be precise with at least 3 decimal places, unless of course the answer doesn't need that many decimal places.)"
   ]
  },
  {
   "cell_type": "code",
   "execution_count": 16,
   "metadata": {
    "collapsed": false
   },
   "outputs": [
    {
     "data": {
      "text/plain": [
       "0.34000000000000008"
      ]
     },
     "execution_count": 16,
     "metadata": {},
     "output_type": "execute_result"
    }
   ],
   "source": [
    "prob_admitted_given_gen_and_dep[gender_mapping['female'], department_mapping['C']]"
   ]
  },
  {
   "cell_type": "markdown",
   "metadata": {},
   "source": [
    "What is $\\mathbb {P}(A = \\text {admitted} | G = \\text {male}, D = \\text {C})$? (Please be precise with at least 3 decimal places, unless of course the answer doesn't need that many decimal places.)"
   ]
  },
  {
   "cell_type": "code",
   "execution_count": 17,
   "metadata": {
    "collapsed": false
   },
   "outputs": [
    {
     "data": {
      "text/plain": [
       "0.37000000000000005"
      ]
     },
     "execution_count": 17,
     "metadata": {},
     "output_type": "execute_result"
    }
   ],
   "source": [
    "prob_admitted_given_gen_and_dep[gender_mapping['male'], department_mapping['C']]"
   ]
  },
  {
   "cell_type": "markdown",
   "metadata": {},
   "source": [
    "#### Department D:"
   ]
  },
  {
   "cell_type": "markdown",
   "metadata": {},
   "source": [
    "What is $\\mathbb {P}(A = \\text {admitted} | G = \\text {female}, D = \\text {D})$? (Please be precise with at least 3 decimal places, unless of course the answer doesn't need that many decimal places.)"
   ]
  },
  {
   "cell_type": "code",
   "execution_count": 18,
   "metadata": {
    "collapsed": false
   },
   "outputs": [
    {
     "data": {
      "text/plain": [
       "0.34999999999999998"
      ]
     },
     "execution_count": 18,
     "metadata": {},
     "output_type": "execute_result"
    }
   ],
   "source": [
    "prob_admitted_given_gen_and_dep[gender_mapping['female'], department_mapping['D']]"
   ]
  },
  {
   "cell_type": "markdown",
   "metadata": {},
   "source": [
    "What is $\\mathbb {P}(A = \\text {admitted} | G = \\text {male}, D = \\text {D})$? (Please be precise with at least 3 decimal places, unless of course the answer doesn't need that many decimal places.)"
   ]
  },
  {
   "cell_type": "code",
   "execution_count": 19,
   "metadata": {
    "collapsed": false
   },
   "outputs": [
    {
     "data": {
      "text/plain": [
       "0.3300000000000004"
      ]
     },
     "execution_count": 19,
     "metadata": {},
     "output_type": "execute_result"
    }
   ],
   "source": [
    "prob_admitted_given_gen_and_dep[gender_mapping['male'], department_mapping['D']]"
   ]
  },
  {
   "cell_type": "markdown",
   "metadata": {},
   "source": [
    "#### Department E"
   ]
  },
  {
   "cell_type": "markdown",
   "metadata": {},
   "source": [
    "What is $\\mathbb {P}(A = \\text {admitted} | G = \\text {female}, D = \\text {E})$? (Please be precise with at least 3 decimal places, unless of course the answer doesn't need that many decimal places.)"
   ]
  },
  {
   "cell_type": "code",
   "execution_count": 20,
   "metadata": {
    "collapsed": false
   },
   "outputs": [
    {
     "data": {
      "text/plain": [
       "0.23999999999999955"
      ]
     },
     "execution_count": 20,
     "metadata": {},
     "output_type": "execute_result"
    }
   ],
   "source": [
    "prob_admitted_given_gen_and_dep[gender_mapping['female'], department_mapping['E']]"
   ]
  },
  {
   "cell_type": "markdown",
   "metadata": {},
   "source": [
    "What is $\\mathbb {P}(A = \\text {admitted} | G = \\text {male}, D = \\text {E})$? (Please be precise with at least 3 decimal places, unless of course the answer doesn't need that many decimal places.)"
   ]
  },
  {
   "cell_type": "code",
   "execution_count": 21,
   "metadata": {
    "collapsed": false
   },
   "outputs": [
    {
     "data": {
      "text/plain": [
       "0.3300000000000004"
      ]
     },
     "execution_count": 21,
     "metadata": {},
     "output_type": "execute_result"
    }
   ],
   "source": [
    "prob_admitted_given_gen_and_dep[gender_mapping['male'], department_mapping['D']]"
   ]
  },
  {
   "cell_type": "markdown",
   "metadata": {},
   "source": [
    "#### Department F"
   ]
  },
  {
   "cell_type": "markdown",
   "metadata": {},
   "source": [
    "What is $\\mathbb {P}(A = \\text {admitted} | G = \\text {female}, D = \\text {F})$? (Please be precise with at least 3 decimal places, unless of course the answer doesn't need that many decimal places.)"
   ]
  },
  {
   "cell_type": "code",
   "execution_count": 22,
   "metadata": {
    "collapsed": false
   },
   "outputs": [
    {
     "data": {
      "text/plain": [
       "0.069999999999999701"
      ]
     },
     "execution_count": 22,
     "metadata": {},
     "output_type": "execute_result"
    }
   ],
   "source": [
    "prob_admitted_given_gen_and_dep[gender_mapping['female'], department_mapping['F']]"
   ]
  },
  {
   "cell_type": "markdown",
   "metadata": {},
   "source": [
    "What is $\\mathbb {P}(A = \\text {admitted} | G = \\text {male}, D = \\text {F})$? (Please be precise with at least 3 decimal places, unless of course the answer doesn't need that many decimal places.)"
   ]
  },
  {
   "cell_type": "code",
   "execution_count": 23,
   "metadata": {
    "collapsed": false
   },
   "outputs": [
    {
     "data": {
      "text/plain": [
       "0.3300000000000004"
      ]
     },
     "execution_count": 23,
     "metadata": {},
     "output_type": "execute_result"
    }
   ],
   "source": [
    "prob_admitted_given_gen_and_dep[gender_mapping['male'], department_mapping['D']]"
   ]
  },
  {
   "cell_type": "markdown",
   "metadata": {},
   "source": [
    " **Question:** How many of these departments have a higher probability of admitting women than of admitting men?"
   ]
  },
  {
   "cell_type": "code",
   "execution_count": 24,
   "metadata": {
    "collapsed": false
   },
   "outputs": [
    {
     "name": "stdout",
     "output_type": "stream",
     "text": [
      "A\n",
      "B\n",
      "D\n",
      "F\n"
     ]
    }
   ],
   "source": [
    "for index, value in enumerate(np.diff(prob_admitted_given_gen_and_dep, axis=0)[0]):\n",
    "    if value < 0:\n",
    "        print(department_labels[index])"
   ]
  },
  {
   "cell_type": "markdown",
   "metadata": {},
   "source": [
    "Somehow, it seems that when we marginalized out the department, the gender bias is going one direction, yet when looking at the specific departments, most departments seem to be having the bias go the other direction!\n",
    "\n",
    "**Take-away message:** We have to be very careful when interpreting conditional probabilities! Also, marginalization (which lumps different groups of data together, where here the groups are departments) can reverse trends that appear in specific groups!"
   ]
  },
  {
   "cell_type": "markdown",
   "metadata": {},
   "source": [
    "## More General Story for Conditioning\n",
    "\n",
    "Jointly distributed random variables play a central role in this course. Remember that we will model observations as random variables and the quantities we want to infer also as random variables. When these random variables are jointly distributed so that we have a probabilistic way to describe how they relate (through their joint probability table), then we can systematically and quantitatively produce inferences.\n",
    "\n",
    "We just saw how to condition on a random variable taking on a specific value. What about if we wanted to condition on a random variable taking on any one of of many values rather just one specific value? To answer this question, we look at a more general story of conditioning which is in terms of events."
   ]
  },
  {
   "cell_type": "code",
   "execution_count": null,
   "metadata": {
    "collapsed": true
   },
   "outputs": [],
   "source": []
  }
 ],
 "metadata": {
  "kernelspec": {
   "display_name": "Python 3",
   "language": "python",
   "name": "python3"
  },
  "language_info": {
   "codemirror_mode": {
    "name": "ipython",
    "version": 3
   },
   "file_extension": ".py",
   "mimetype": "text/x-python",
   "name": "python",
   "nbconvert_exporter": "python",
   "pygments_lexer": "ipython3",
   "version": "3.4.3"
  }
 },
 "nbformat": 4,
 "nbformat_minor": 0
}
