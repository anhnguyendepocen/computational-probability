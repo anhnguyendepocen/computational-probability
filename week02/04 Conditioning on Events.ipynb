{
 "cells": [
  {
   "cell_type": "markdown",
   "metadata": {},
   "source": [
    "## Conditioning on Events Intro\n",
    "\n",
    "Given two events $\\mathcal{A}$ and $\\mathcal{B}$ (both of which have positive probability), the $\\mathbb {P}(\\mathcal{A} | \\mathcal{B})$ $i.e.$, the probability $\\mathcal{A}$ given $\\mathcal{B}$ is computed as\n",
    "\n",
    "$$\\mathbb {P}(\\mathcal{A} | \\mathcal{B}) = \\frac{\\mathbb {P}(\\mathcal{A} \\cap \\mathcal{B})}{\\mathbb {P}(\\mathcal{B})}. $$"
   ]
  },
  {
   "cell_type": "markdown",
   "metadata": {},
   "source": [
    "Important: We account for observations using conditioning. It turns out that often we can solve inference problems *without* using random variables at all and only using events. In this sequence on “Conditioning on Events\", to solve the problems presented, you should do them without using our machinery for random variables from earlier.\n",
    "\n",
    "Of course, later on in the course and even beyond the course, depending on the inference problem you're trying to solve, you may find it easier to use events and not random variables, or random variables and not events, or both random variables and events. But for now, let's make sure you can use events and not random variables!\n",
    "\n",
    "### Exercise: Conditioning on Events\n",
    "\n",
    "The six possible outcomes of a fair die roll are all equally likely.\n",
    "\n",
    "**Question:** If we are told that the outcome of a roll is even, what is the probability that the outcome is $6$? (Please be precise with at least $3$ decimal places, unless of course the answer doesn't need that many decimal places. You could also put a fraction.)"
   ]
  },
  {
   "cell_type": "code",
   "execution_count": 1,
   "metadata": {
    "collapsed": false
   },
   "outputs": [
    {
     "data": {
      "text/plain": [
       "0.3333333333333333"
      ]
     },
     "execution_count": 1,
     "metadata": {},
     "output_type": "execute_result"
    }
   ],
   "source": [
    "dice = {i+1: 1/6 for i in range(6)}\n",
    "A = {i for i in dice if i % 2 == 0}\n",
    "B = {6}\n",
    "p_B_given_A = len(A & B)/len(A) \n",
    "p_B_given_A"
   ]
  },
  {
   "cell_type": "markdown",
   "metadata": {},
   "source": [
    "Now suppose we roll two fair six-sided dice. Let $\\mathcal{A}$ denote the event that the outcome of the roll of first die is an even number, and let $\\mathcal{B}$ denote the event that the outcome of the second die roll is $3$."
   ]
  },
  {
   "cell_type": "code",
   "execution_count": 2,
   "metadata": {
    "collapsed": false
   },
   "outputs": [],
   "source": [
    "def prob_event(event, model):\n",
    "    \"\"\"\n",
    "    Gives the probability of event.\n",
    "    \n",
    "    >>> dice = {i+1: 1/6 for i in range(6)}\n",
    "    >>> prob_event({1, 3, 6}, dice)\n",
    "    0.5\n",
    "    \n",
    "    >>> two_dice = {(i+1, j+1): 1/36 for i in range(6) for j in range(6)}\n",
    "    >>> event = {(2, 3), (4, 3), (6, 3)}\n",
    "    >>> prob_event(event, two_dice)\n",
    "    0.08333333333333333\n",
    "    \"\"\"\n",
    "    return sum([model[key] for key in event])\n",
    "\n",
    "if __name__ == \"__main__\":\n",
    "    import doctest\n",
    "    doctest.testmod()    "
   ]
  },
  {
   "cell_type": "markdown",
   "metadata": {},
   "source": [
    "**Question:** Determine $\\mathbb {P}(\\mathcal{A} \\cap \\mathcal{B})$. To do this, first figure out what outcomes are contained in $\\mathcal{A} \\cap \\mathcal{B}$. (Please be precise with at least 3 decimal places, unless of course the answer doesn't need that many decimal places. You could also put a fraction.)"
   ]
  },
  {
   "cell_type": "code",
   "execution_count": 3,
   "metadata": {
    "collapsed": false
   },
   "outputs": [
    {
     "name": "stdout",
     "output_type": "stream",
     "text": [
      "1/12\n"
     ]
    }
   ],
   "source": [
    "from fractions import Fraction\n",
    "two_dice = {(i+1, j+1): 1/36 for i in range(6) for j in range(6)}\n",
    "A = {key for key in two_dice if key[0] % 2 == 0}\n",
    "B = {key for key in two_dice if key[1] == 3}\n",
    "print(Fraction(prob_event((A & B), two_dice)).limit_denominator())"
   ]
  },
  {
   "cell_type": "markdown",
   "metadata": {},
   "source": [
    "**Question:** Determine $\\mathbb {P}(\\mathcal{A} \\cap \\mathcal{B})$. To do this, first figure out what outcomes are contained in $\\mathcal{A} \\cap \\mathcal{B}$. (Please be precise with at least 3 decimal places, unless of course the answer doesn't need that many decimal places. You could also put a fraction.)"
   ]
  },
  {
   "cell_type": "code",
   "execution_count": 4,
   "metadata": {
    "collapsed": false
   },
   "outputs": [
    {
     "name": "stdout",
     "output_type": "stream",
     "text": [
      "7/12\n"
     ]
    }
   ],
   "source": [
    "print(Fraction(prob_event((A | B), two_dice)).limit_denominator())"
   ]
  },
  {
   "cell_type": "markdown",
   "metadata": {
    "collapsed": true
   },
   "source": [
    "**Question:** Determine $\\mathbb {P}(\\mathcal{A} | \\mathcal{B})$. (Please be precise with at least 3 decimal places, unless of course the answer doesn't need that many decimal places. You could also put a fraction.)"
   ]
  },
  {
   "cell_type": "code",
   "execution_count": 5,
   "metadata": {
    "collapsed": false
   },
   "outputs": [
    {
     "name": "stdout",
     "output_type": "stream",
     "text": [
      "1/2\n"
     ]
    }
   ],
   "source": [
    "print(Fraction(prob_event(A & B, two_dice)/ prob_event(B, two_dice)).limit_denominator())"
   ]
  },
  {
   "cell_type": "markdown",
   "metadata": {},
   "source": [
    "### Exercise: Boy or Girl Paradox\n",
    "\n",
    "Alice has two children. Let's look at the probability that both children are girls, given different observations. We'll assume that the underlying finite probability space is as follows for Alice's children:\n",
    "\n",
    "<img alt=\"drawing\" src=\"../images/images_sec-conditioning-events-boy-girl-paradox.png\" width=\"400px\"/>\n",
    "\n",
    "**Question:** What is the probability that both children are girls? (This is an unconditional probability in that we aren't given any observations.) (Please be precise with at least 3 decimal places, unless of course the answer doesn't need that many decimal places. You could also put a fraction.)"
   ]
  },
  {
   "cell_type": "code",
   "execution_count": 6,
   "metadata": {
    "collapsed": false
   },
   "outputs": [
    {
     "data": {
      "text/plain": [
       "0.25"
      ]
     },
     "execution_count": 6,
     "metadata": {},
     "output_type": "execute_result"
    }
   ],
   "source": [
    "joint_prob = {(i, j): 1/4 for i in ['B', 'G'] for j in ['B', 'G']} \n",
    "both_girl = {('G', 'G')}\n",
    "prob_event(both_girl, joint_prob)"
   ]
  },
  {
   "cell_type": "markdown",
   "metadata": {},
   "source": [
    "**Question:** What is the probability that both children are girls given that the younger child is a girl? (Please be precise with at least 3 decimal places, unless of course the answer doesn't need that many decimal places. You could also put a fraction.)"
   ]
  },
  {
   "cell_type": "code",
   "execution_count": 7,
   "metadata": {
    "collapsed": false
   },
   "outputs": [
    {
     "data": {
      "text/plain": [
       "0.5"
      ]
     },
     "execution_count": 7,
     "metadata": {},
     "output_type": "execute_result"
    }
   ],
   "source": [
    "younger_girl = {key for key in joint_prob if key[1] == 'G'}\n",
    "prob_event(both_girl & younger_girl, joint_prob) / prob_event(younger_girl, joint_prob)"
   ]
  },
  {
   "cell_type": "markdown",
   "metadata": {},
   "source": [
    "**Question:** What is the probability that both children are girls given that at least one child is a girl? (Please be precise with at least 3 decimal places, unless of course the answer doesn't need that many decimal places. You could also put a fraction.)"
   ]
  },
  {
   "cell_type": "code",
   "execution_count": 9,
   "metadata": {
    "collapsed": false
   },
   "outputs": [
    {
     "data": {
      "text/plain": [
       "0.3333333333333333"
      ]
     },
     "execution_count": 9,
     "metadata": {},
     "output_type": "execute_result"
    }
   ],
   "source": [
    "one_girl = {key for key in joint_prob if 'G' in key}\n",
    "prob_event(both_girl & one_girl, joint_prob) / prob_event(one_girl, joint_prob)"
   ]
  },
  {
   "cell_type": "code",
   "execution_count": null,
   "metadata": {
    "collapsed": true
   },
   "outputs": [],
   "source": []
  }
 ],
 "metadata": {
  "kernelspec": {
   "display_name": "Python 3",
   "language": "python",
   "name": "python3"
  },
  "language_info": {
   "codemirror_mode": {
    "name": "ipython",
    "version": 3
   },
   "file_extension": ".py",
   "mimetype": "text/x-python",
   "name": "python",
   "nbconvert_exporter": "python",
   "pygments_lexer": "ipython3",
   "version": "3.4.3"
  }
 },
 "nbformat": 4,
 "nbformat_minor": 0
}
