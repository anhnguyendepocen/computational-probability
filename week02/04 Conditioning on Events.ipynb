{
 "cells": [
  {
   "cell_type": "markdown",
   "metadata": {},
   "source": [
    "## Conditioning on Events Intro\n",
    "\n",
    "Given two events $\\mathcal{A}$ and $\\mathcal{B}$ (both of which have positive probability), the $\\mathbb {P}(\\mathcal{A} | \\mathcal{B})$ $i.e.$, the probability $\\mathcal{A}$ given $\\mathcal{B}$ is computed as\n",
    "\n",
    "$$\\mathbb {P}(\\mathcal{A} | \\mathcal{B}) = \\frac{\\mathbb {P}(\\mathcal{A} \\cap \\mathcal{B})}{\\mathbb {P}(\\mathcal{B})}. $$"
   ]
  },
  {
   "cell_type": "code",
   "execution_count": null,
   "metadata": {
    "collapsed": true
   },
   "outputs": [],
   "source": []
  }
 ],
 "metadata": {
  "kernelspec": {
   "display_name": "Python 3",
   "language": "python",
   "name": "python3"
  },
  "language_info": {
   "codemirror_mode": {
    "name": "ipython",
    "version": 3
   },
   "file_extension": ".py",
   "mimetype": "text/x-python",
   "name": "python",
   "nbconvert_exporter": "python",
   "pygments_lexer": "ipython3",
   "version": "3.4.3"
  }
 },
 "nbformat": 4,
 "nbformat_minor": 0
}
