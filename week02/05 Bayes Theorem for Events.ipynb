{
 "cells": [
  {
   "cell_type": "markdown",
   "metadata": {},
   "source": [
    "## Bayes Theorem for Events\n",
    "\n",
    "Given two events $\\mathcal{A}$ and $\\mathcal{B}$ (both of which have positive probability), Bayes' theorem, also called Bayes' rule or Bayes' law, gives a way to compute $\\mathbb {P}(\\mathcal{A} | \\mathcal{B})$ in terms of $\\mathbb {P}(\\mathcal{B} | \\mathcal{A})$. This result turns out to be extremely useful for inference because often times we want to compute one of these, and the other is known or otherwise straightforward to compute.\n",
    "\n",
    "Bayes' theorem is given by\n",
    "\n",
    "$$\\mathbb {P}(\\mathcal{A} | \\mathcal{B}) = \\frac{\\mathbb {P}(\\mathcal{B} | \\mathcal{A}) \\mathbb {P}(\\mathcal{A})}{\\mathbb {P}(\\mathcal{B})}.$$\n",
    " \n",
    "The proof of why this is the case is a one liner:\n",
    "\n",
    "$$\\mathbb {P}(\\mathcal{A} | \\mathcal{B}) \\overset {(a)}{=} \\frac{\\mathbb {P}(\\mathcal{A} \\cap \\mathcal{B})}{\\mathbb {P}(\\mathcal{B})} \\overset {(b)}{=} \\frac{\\mathbb {P}(\\mathcal{B} | \\mathcal{A}) \\mathbb {P}(\\mathcal{A})}{\\mathbb {P}(\\mathcal{B})},$$\n",
    " \n",
    "where step (a) is by the definition of conditional probability for events, and step (b) is due to the product rule for events (which follows from rearranging the definition of conditional probability for $\\mathbb {P}(\\mathcal{B} | \\mathcal{A})$."
   ]
  },
  {
   "cell_type": "markdown",
   "metadata": {},
   "source": [
    "## The Law of Total Probability\n",
    "\n",
    "If $B_1, \\ldots, B_n$ are partition of sample space $\\Omega$, Then \n",
    "\n",
    "$$ \\mathbb{P}(A) = \\sum_{i=1}^n \\mathbb{P}(A \\cap B_i)$$ "
   ]
  },
  {
   "cell_type": "markdown",
   "metadata": {},
   "source": [
    "### Exercise: Bayes' Theorem and Total Probability\n",
    "\n",
    "A new test is developed to determine whether a patient has an antibiotic-resistant bacterial infection. The test is correct $99\\%$ of the time: that is, if a patient has the infection, there is a $99\\%$ chance the test will return positive, and if a patient doesn't have the infection, there is a $99\\%$ chance the test will return negative. Suppose $0.1\\%$ of the general population has this infection. If a randomly selected person is administered this test and gets a positive result, what is the probability that she or he actually has the infection?\n",
    "\n",
    "To solve this problem, let $\\mathcal{T}$ be the event that the patient has a positive test result, and $\\mathcal{S}$ be the event that the patient has the associated bacterial infection. Thus, what the problem is asking for is precisely the quantity $\\mathbb {P}(\\mathcal{S} | \\mathcal{T})$. So somehow we have to figure out what this probability is.\n",
    "\n",
    "What do we have access to? Well, from the problem statement, we are directly given the following quantities. What are they? Please provide the exact answer for these three quantities.\n",
    "\n",
    "1. $\\mathbb {P}(\\mathcal{T} | \\mathcal{S}) = 0.99$\n",
    "\n",
    "2. $\\mathbb {P}(\\mathcal{T}^ c | \\mathcal{S}^ c) =0.99$\n",
    "\n",
    "3. $\\mathbb {P}(\\mathcal{S}) = 0.001$ \n",
    "\n",
    "Let's see if Bayes' rule can help us:\n",
    "\n",
    "$$\\mathbb {P}(\\mathcal{S} | \\mathcal{T}) = \\frac{\\mathbb {P}(\\mathcal{T} | \\mathcal{S}) \\mathbb {P}(\\mathcal{S})}{\\mathbb {P}(\\mathcal{T})}.$$\n",
    " \n",
    "There's a slight problem. We don't know $\\mathbb{P}(\\mathcal{T})$, i.e., the probability that the patient has a positive test result. But let's break this into two cases. The patient either has the infection or not. So\n",
    "\n",
    "$$\\begin{eqnarray}\n",
    "\\mathbb{P}(\\mathcal{T})\n",
    "&=&\n",
    "\\mathbb{P}(\\text{patient has positive test result}) \\\\\n",
    "&=&\n",
    "\\mathbb{P}(\\text{patient has positive test result and patient has infection}) \\\\\n",
    "&&+\n",
    "\\mathbb{P}(\\text{patient has positive test result and patient does not have infection}) \\\\\n",
    "&=&\n",
    "\\mathbb{P}(\\mathcal{T} \\cap \\mathcal{S})\n",
    "+ \\mathbb{P}(\\mathcal{T} \\cap \\mathcal{S}^c).\n",
    "\\end{eqnarray}$$\n",
    "\n",
    "**Question: What result did we just use?**\n",
    "\n",
    "[$\\times    $] Bayes' Theorem<br>\n",
    "[$\\times    $] Product Rule<br>\n",
    "[$\\checkmark$] Law of Total Probability<br>\n",
    "[$\\times    $] Marginalization\n",
    "\n",
    "We can go one step further:\n",
    "\n",
    "$$\\begin{eqnarray}\n",
    "\\mathbb{P}(\\mathcal{T})\n",
    "&=&\n",
    "\\mathbb{P}(\\mathcal{T} \\cap \\mathcal{S})\n",
    "  + \\mathbb{P}(\\mathcal{T} \\cap \\mathcal{S}^c) \\\\\n",
    "&=&\n",
    "\\mathbb{P}(\\mathcal{T} | \\mathcal{S})\\mathbb{P}(\\mathcal{S})\n",
    "  + \\mathbb{P}(\\mathcal{T} | \\mathcal{S}^c)\\mathbb{P}(\\mathcal{S}^c).\n",
    "\\end{eqnarray}$$\n",
    "\n",
    "\n",
    "**Question: In the last equality, what result did we use?**\n",
    "\n",
    "[$\\times    $] Bayes' Theorem<br>\n",
    "[$\\checkmark$] Product Rule<br>\n",
    "[$\\times    $] Law of Total Probability<br>\n",
    "[$\\times    $] Marginalization\n",
    "\n",
    "\n",
    "So what we have is:\n",
    "\n",
    "$$\\mathbb {P}(\\mathcal{S} | \\mathcal{T}) = \\frac{\\mathbb {P}(\\mathcal{T} | \\mathcal{S}) \\mathbb {P}(\\mathcal{S})}{\\mathbb {P}(\\mathcal{T})} = \\frac{\\mathbb {P}(\\mathcal{T} | \\mathcal{S}) \\mathbb {P}(\\mathcal{S})}{\\mathbb {P}(\\mathcal{T} | \\mathcal{S})\\mathbb {P}(\\mathcal{S}) + \\mathbb {P}(\\mathcal{T} | \\mathcal{S}^ c)\\mathbb {P}(\\mathcal{S}^ c)}.$$\n",
    " \n",
    "There are just two probabilities that we haven't figured out. But we can from the information we are given! Determine what the following are. Provide exact answers for these.\n",
    "\n",
    "1. $\\mathbb {P}(\\mathcal{S}^ c) = 0.999$ \n",
    "\n",
    "2. $\\mathbb {P}(\\mathcal{T} | \\mathcal{S}^ c) = 0.01$\n",
    "\n",
    "Now we can plug in all the probabilities into our very last big equation above!\n",
    "\n",
    "What is $\\mathbb {P}(\\mathcal{S} | \\mathcal{T})$, the probability that given a randomly selected person has a positive test result, she or he has the infection? (Please be precise with at least 3 decimal places, unless of course the answer doesn't need that many decimal places. You could also put a fraction.)"
   ]
  },
  {
   "cell_type": "code",
   "execution_count": 2,
   "metadata": {
    "collapsed": false
   },
   "outputs": [
    {
     "data": {
      "text/plain": [
       "0.09016393442622951"
      ]
     },
     "execution_count": 2,
     "metadata": {},
     "output_type": "execute_result"
    }
   ],
   "source": [
    "(0.99 * 0.001) / (0.99 * 0.001 + 0.01 * 0.999) "
   ]
  },
  {
   "cell_type": "markdown",
   "metadata": {},
   "source": [
    "Does the probability seem low given how accurate the test is? Be sure to check out the solutions for a detailed explanation."
   ]
  },
  {
   "cell_type": "markdown",
   "metadata": {},
   "source": [
    "### Practice Problem: Bayes' Theorem and Total Probability\n",
    "\n",
    "This problem gives practice for using Bayes' Theorem and the Law of Total Probability. The solution is provided on the next page. Please try to solve it before looking at the solution. Since this is a practice problem, you do not have to submit anything.\n",
    "\n",
    "Your problem set is due in 15 minutes! It's in one of your drawers, but they are messy, and you're not sure which one it's in.\n",
    "\n",
    "The probability that the problem set is in drawer $k$ is $d_k$. If drawer $k$ has the problem set and you search there, you have probability $p_k$ of finding it. There are a total of $m$ drawers.\n",
    "\n",
    "Suppose you search drawer $i$ and do not find the problem set.\n",
    "\n",
    "(a) Find the probability that the paper is in drawer $j$, where $j≠i$.\n",
    "\n",
    "(b) Find the probability that the paper is in drawer $i$."
   ]
  },
  {
   "cell_type": "markdown",
   "metadata": {},
   "source": [
    "**Solution:** Let $A_k$ be the event that the problem set is in drawer $k$, and $B_k$ be the event that you find the problem set in drawer $k$.\n",
    "\n",
    "(a) We'll express the desired probability as $\\mathbb {P}(A_ j|B_ i^ c)$. Since this quantity is difficult to reason about directly, we'll use Bayes' rule:\n",
    "\n",
    "$$\\mathbb {P}(A_ j|B_ i^ c) = \\frac{\\mathbb {P}(B_ i^ c | A_ j) \\mathbb {P}(A_ j)}{\\mathbb {P}(B_ i^ c)}$$\n",
    " \n",
    "The first probability, $\\mathbb {P}(B_ i^ c | A_ j)$, expresses the probability of not finding the problem set in drawer $i$ given that it's in a different drawer j. Since it's impossible to find the paper in a drawer it isn't in, this is just 1.\n",
    "\n",
    "The second quantity, $\\mathbb{P}(A_j)$, is given to us in the problem statement as $d_j$.\n",
    "\n",
    "The third probability, $\\mathbb {P}(B_ i^ c) = 1-\\mathbb {P}(B_ i)$, is difficult to reason about directly. But, if we knew whether or not the paper was in the drawer, it would become easier. So, we'll use total probability:\n",
    "\n",
    "$$\\begin{eqnarray}\n",
    "            \\mathbb{P}(B_i) &=& \\mathbb{P}(B_i|A_i)\\mathbb{P}(A_i) + \\mathbb{P}(B_i|A_i^c)\\mathbb{P}(A_i^c) \\\\\n",
    "            &=& p_i d_i + 0 (1-d_i)\n",
    "\\end{eqnarray}$$\n",
    "\n",
    "Putting these terms together, we find that\n",
    "\n",
    "$$\\mathbb {P}(A_ j|B_ i^ c) = \\frac{d_ j}{1-p_ i d_ i}$$\n"
   ]
  },
  {
   "cell_type": "markdown",
   "metadata": {},
   "source": [
    "**Alternate method to compute the denominator $\\mathbb{P}(B_i^c)$:** We could use the law of total probability to decompose $\\mathbb{P}(B_i^c)$ depending on which drawer the homework is actually in. We have\n",
    "\n",
    "$$\\begin{eqnarray}\n",
    "\\mathbb{P}(B_i^c) &=& \\sum_{k=1}^m\n",
    "               \\underbrace{\\mathbb{P}(A_k)}_{d_k}\n",
    "               \\underbrace{\\mathbb{P}(B_i^c|A_k)}_{\\substack{1\\text{ if }k\\ne i,\\\\\n",
    "                                                     (1-p_i)\\text{ if }k=i}} \\\\\n",
    "          &=& \\sum_{\\substack{k=1,\\\\\n",
    "                             k\\ne i}}^m d_k\n",
    "             + (1-p_i)d_i \\\\\n",
    "          &=& \\sum_{k=1}^m d_k - p_i d_i \\\\\n",
    "          &=& 1 - p_i d_i.\n",
    "\\end{eqnarray}$$\n",
    "\n",
    "(b) Similarly, we'll use Bayes' rule:\n",
    "\n",
    "$$\\mathbb{P}(A_i | B_i^c) = \\frac{\\mathbb{P}(B_i^c | A_i) \\mathbb {P}(A_i)}{\\mathbb {P}(B_i^c)} = \\frac{(1-p_i) d_i}{1 - p_i d_i}$$\n"
   ]
  },
  {
   "cell_type": "markdown",
   "metadata": {
    "collapsed": true
   },
   "source": [
    "## Relating Conditioning on Events Back to Random Variables\n",
    "\n",
    "We have alrady defined conditional probability in terms of events as follows\n",
    "\n",
    "$$ \\mathbb{P}(B|A) = \\frac{\\mathbb{P}(A \\cap B)}{\\mathbb{P}(A)}$$\n",
    "\n",
    "Let $A = \\{X = x\\}$ and $B= \\{Y=y\\}$ are two events in terms of probability distribution. Then \n",
    "\n",
    "$$\\mathbb{P}(Y=y|X=x) = \\frac{\\mathbb{P}(X=x,Y=y)}{\\mathbb{P}(X=x)} = \\frac{p_{X,Y}(x, y)}{p_X(x)}$$\n",
    "\n",
    "If we fix the value of $x$ and change the value of $y$ then we get a new distribution called conditional distribution of $Y$ given $X$ as follows\n",
    "\n",
    "$$p_{Y\\mid X}(y\\mid x) = \\sum_y p_{Y\\mid X}(y\\mid x) = 1$$\n",
    "\n",
    "## Random Variables Conditioned on Events\n",
    "\n",
    "Let $Y$ is a random variable takes values $1, 2, 3$ and $4$. The the conditional distribution of $Y$ given $A$ is given by \n",
    "\n",
    "$$ \\mathbb{P}_{Y|A}(y) = \\frac{\\mathbb{P}(Y=y, A)}{\\mathbb{P}(A)}$$\n",
    "\n",
    "<img src=\"../images/random_variable_conditioned_on_events.png\" width=400 rel=\"drawing\">"
   ]
  },
  {
   "cell_type": "code",
   "execution_count": null,
   "metadata": {
    "collapsed": true
   },
   "outputs": [],
   "source": []
  }
 ],
 "metadata": {
  "kernelspec": {
   "display_name": "Python 3",
   "language": "python",
   "name": "python3"
  },
  "language_info": {
   "codemirror_mode": {
    "name": "ipython",
    "version": 3
   },
   "file_extension": ".py",
   "mimetype": "text/x-python",
   "name": "python",
   "nbconvert_exporter": "python",
   "pygments_lexer": "ipython3",
   "version": "3.4.3"
  }
 },
 "nbformat": 4,
 "nbformat_minor": 0
}
