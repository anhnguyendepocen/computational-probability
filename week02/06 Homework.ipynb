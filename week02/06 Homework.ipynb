{
 "cells": [
  {
   "cell_type": "markdown",
   "metadata": {},
   "source": [
    "## Homework Problem: Alice Hunts Dragons\n",
    "\n",
    "When she is not calculating marginal distributions, Alice spends her time hunting dragons. For every dragon she encounters, Alice measures its fire power $X$ (measured on a scale from $1$ to $4$) and its roar volume $Y$ (measured on a scale from $1$ to $3$). She notices that the proportion of dragons with certain fire power and roar volume in the population behaves as the following function:\n",
    "\n",
    "$$\\begin{eqnarray}\n",
    "f(x,y) = \\begin{cases} x^2+y^2 &\\text{if } x \\in \\{1,2,4\\} \\text{ and } y \\in \\{1,3\\} \\\\\n",
    "0 &\\text{otherwise}. \\end{cases}\n",
    "\\end{eqnarray}$$\n",
    "\n",
    "In other words, the joint probability table $p_{X,Y}$ is of the form\n",
    "\n",
    "$$p_{X,Y}(x,y) = c f(x, y) \\qquad \\text {for }x \\in \\{ 1, 2, 3, 4\\} , y \\in \\{ 1, 2, 3\\} ,$$\n",
    " \n",
    "for some constant $c>0$ that you will determine.\n",
    "\n",
    "**Question:** Determine the constant $c$, which ensures that $p_{X,Y}$ is a valid probability distribution. (Please be precise with at least 3 decimal places, unless of course the answer doesn't need that many decimal places. You could also put a fraction.)"
   ]
  },
  {
   "cell_type": "code",
   "execution_count": 32,
   "metadata": {
    "collapsed": false
   },
   "outputs": [
    {
     "name": "stdout",
     "output_type": "stream",
     "text": [
      "1/72\n"
     ]
    }
   ],
   "source": [
    "Ω = {(i, j) for i in range(1, 5) for j in range(1, 4)}\n",
    "from fractions import Fraction\n",
    "joint_X_Y = {(i, j): (i**2 + j**2) for i in {1, 2, 4} for j in {1, 3}}\n",
    "c = 1/sum(joint_X_Y.values())\n",
    "print(Fraction(c).limit_denominator())"
   ]
  },
  {
   "cell_type": "markdown",
   "metadata": {},
   "source": [
    "**Question:** Determine $P(Y<X)$. (Note that $\\{Y<X\\}$ is an event. Think about what outcomes are in it.)\n",
    "\n",
    "(Please be precise with at least 3 decimal places, unless of course the answer doesn't need that many decimal places. You could also put a fraction.)"
   ]
  },
  {
   "cell_type": "code",
   "execution_count": 22,
   "metadata": {
    "collapsed": false
   },
   "outputs": [
    {
     "name": "stdout",
     "output_type": "stream",
     "text": [
      "47/72\n"
     ]
    }
   ],
   "source": [
    "Y_lt_X = {x for x in joint_prob_X_Y if x[1] < x[0]}\n",
    "prob_Y_lt_X = sum([joint_X_Y[x] for x in Y_lt_X]) * c\n",
    "print(Fraction(prob_Y_lt_X).limit_denominator())"
   ]
  },
  {
   "cell_type": "markdown",
   "metadata": {},
   "source": [
    "**Question:** Determine $P(X<Y)$. (Please be precise with at least 3 decimal places, unless of course the answer doesn't need that many decimal places. You could also put a fraction.)"
   ]
  },
  {
   "cell_type": "code",
   "execution_count": 23,
   "metadata": {
    "collapsed": false
   },
   "outputs": [
    {
     "name": "stdout",
     "output_type": "stream",
     "text": [
      "23/72\n"
     ]
    }
   ],
   "source": [
    "X_lt_Y = {x for x in joint_prob_X_Y if x[1] > x[0]}\n",
    "prob_X_lt_Y = sum([joint_X_Y[x] for x in X_lt_Y]) * c\n",
    "print(Fraction(prob_X_lt_Y).limit_denominator())"
   ]
  },
  {
   "cell_type": "markdown",
   "metadata": {},
   "source": [
    "**Question:** Determine $P(Y=X)$. (Please be precise with at least 3 decimal places, unless of course the answer doesn't need that many decimal places. You could also put a fraction.)"
   ]
  },
  {
   "cell_type": "code",
   "execution_count": 24,
   "metadata": {
    "collapsed": false
   },
   "outputs": [
    {
     "name": "stdout",
     "output_type": "stream",
     "text": [
      "1/36\n"
     ]
    }
   ],
   "source": [
    "X_eq_Y = {x for x in joint_prob_X_Y if x[1] == x[0]}\n",
    "prob_X_eq_Y = sum([joint_X_Y[x] for x in X_eq_Y]) * c\n",
    "print(Fraction(prob_X_eq_Y).limit_denominator())"
   ]
  },
  {
   "cell_type": "markdown",
   "metadata": {},
   "source": [
    "**Question:** Determine $P(Y=3)$. (Please be precise with at least 3 decimal places, unless of course the answer doesn't need that many decimal places. You could also put a fraction.)"
   ]
  },
  {
   "cell_type": "code",
   "execution_count": 26,
   "metadata": {
    "collapsed": false
   },
   "outputs": [
    {
     "name": "stdout",
     "output_type": "stream",
     "text": [
      "2/3\n"
     ]
    }
   ],
   "source": [
    "Y_eq_3 = {x for x in joint_prob_X_Y if x[1] == 3}\n",
    "prob_Y_eq_3 = sum([joint_X_Y[x] for x in Y_eq_3]) * c\n",
    "print(Fraction(prob_Y_eq_3).limit_denominator())"
   ]
  },
  {
   "cell_type": "markdown",
   "metadata": {},
   "source": [
    "**Question:** Find the probability tables for $p_X$ and $p_Y$. Express your answers as Python dictionaries. (Your answer should be the Python dictionary itself, and not the dictionary assigned to a variable, so please do not include, for instance, “prob_table =\" before specifying your answer. You can use fractions. If you use decimals instead, please be accurate and use at least 5 decimal places.)\n",
    "\n",
    "$p_X$ probability table (the dictionary keys should be the Python integers 1, 2, 3, 4): "
   ]
  },
  {
   "cell_type": "code",
   "execution_count": 38,
   "metadata": {
    "collapsed": false
   },
   "outputs": [
    {
     "data": {
      "text/plain": [
       "{1: 0.16666666666666669, 2: 0.25, 3: 0, 4: 0.5833333333333333}"
      ]
     },
     "execution_count": 38,
     "metadata": {},
     "output_type": "execute_result"
    }
   ],
   "source": [
    "prob_X = {i: 0 for i in range(1, 5)} # initialize the dictionary with 0 \n",
    "for key, values in joint_X_Y.items():\n",
    "    if key[0] in prob_X:\n",
    "        prob_X[key[0]] += values * c\n",
    "        \n",
    "prob_X        "
   ]
  },
  {
   "cell_type": "markdown",
   "metadata": {},
   "source": [
    "$p_Y$ probability table (the dictionary keys should be the Python integers 1, 2, 3): "
   ]
  },
  {
   "cell_type": "code",
   "execution_count": 39,
   "metadata": {
    "collapsed": false
   },
   "outputs": [
    {
     "data": {
      "text/plain": [
       "{1: 0.33333333333333337, 2: 0, 3: 0.6666666666666666}"
      ]
     },
     "execution_count": 39,
     "metadata": {},
     "output_type": "execute_result"
    }
   ],
   "source": [
    "prob_Y = {i: 0 for i in range(1, 4)} # initialize the dictionary with 0 \n",
    "for key, values in joint_X_Y.items():\n",
    "    if key[1] in prob_Y:\n",
    "        prob_Y[key[1]] += values * c\n",
    "        \n",
    "prob_Y"
   ]
  },
  {
   "cell_type": "markdown",
   "metadata": {},
   "source": [
    "## Homework Problem: Alice's Coins\n",
    "\n",
    "Alice has five coins in a bag: two coins are normal, two are double-headed, and the last one is double-tailed. She reaches into the bag and randomly pulls out a coin. Without looking at the coin she drew, she tosses it.\n",
    "\n",
    "**Question:** What is the probability that once the coin lands, the side of the coin that is face-down is heads? (Please be precise with at least 3 decimal places, unless of course the answer doesn't need that many decimal places. You could also put a fraction.)"
   ]
  },
  {
   "cell_type": "markdown",
   "metadata": {
    "collapsed": true
   },
   "source": [
    "**Answer:** Let $X$ is the random variable for selecting the coin. Let $X = \\{F, H, T\\}$ takes values $F$ for fair coin, $H$ for double-headed coin and $T$ for double-tailed coin. Also $Y = \\{h, t\\}$ is the random variable for getting $h$ for face down head and $t$ for face down tail. Then the joint probability distribution is given by \n",
    "\n",
    "|                      | Y=h | Y=t | X<sub>marginal</sub> |\n",
    "|----------------------|-----|-----|----------------------|\n",
    "| X=F                  | 1/5 | 1/5 | 2/5                  |\n",
    "| X=H                  | 2/5 | 0   | 2/5                  |\n",
    "| X=T                  | 0   | 1/5 | 1/5                  |\n",
    "| Y<sub>marginal</sub> | 3/5 | 2/5 |                      |\n",
    "\n",
    "The probability of getting face down head is given by marginal probibility $\\mathbb{P}(Y=h) = 3/5$."
   ]
  },
  {
   "cell_type": "markdown",
   "metadata": {},
   "source": [
    "**Question:** The coin lands and shows heads face-up. What is the probability that the face-down side is heads? (Please be precise with at least 3 decimal places, unless of course the answer doesn't need that many decimal places. You could also put a fraction.)"
   ]
  },
  {
   "cell_type": "markdown",
   "metadata": {
    "collapsed": true
   },
   "source": [
    "**Answer:** This question asking about conditional probability \n",
    "$$\\mathbb{P}(X=H|Y=h) = \\frac{\\mathbb{P}(X=H, Y=h)}{\\mathbb{P}(Y=h) } = \\frac{2/5}{3/5} = \\frac{2}{3} $$"
   ]
  },
  {
   "cell_type": "markdown",
   "metadata": {},
   "source": [
    "Alice discards the first coin (the one from part (b) that landed and showed heads face-up), reaches again into the bag and draws out a random coin. Again, without looking at it, she tosses it.\n",
    "\n",
    "**Question:** What is the probability that the coin shows heads face-up? (Please be precise with at least 3 decimal places, unless of course the answer doesn't need that many decimal places. You could also put a fraction.)"
   ]
  },
  {
   "cell_type": "markdown",
   "metadata": {
    "collapsed": true
   },
   "source": [
    "**Answer:** Let $Z$ is the random varable for getting second coin face-up heads or tails. Also note that the first coin with face-up heads is discarded. There are two possibiliy of getting heads on face-up if $X=F$ or $X=H$. Let $W$ is the random variable for withdrawing second coin. \n",
    "\n",
    "The joint probability distribution of $W$ and $Z$ given $X=F$, $i.e.$, $P(W,Z|X=F)$\n",
    "\n",
    "|                      | Z=h | Z=t | W<sub>marginal</sub> |\n",
    "|----------------------|-----|-----|:--------------------:|\n",
    "| W=F                  | 1/8 | 1/8 | 1/4                  |\n",
    "| W=H                  | 1/2 | 0   | 1/2                  |\n",
    "| W=T                  | 0   | 1/4 | 1/4                  |\n",
    "| Z<sub>marginal</sub> | 5/8 | 3/8 |                      |\n",
    "\n",
    "The joint probability distribution of $W$ and $Z$ given $X=H$, $i.e.$, $P(W,Z|X=H)$\n",
    "\n",
    "|                      | Z=h | Z=t | W<sub>marginal</sub> |\n",
    "|----------------------|-----|-----|:--------------------:|\n",
    "| W=F                  | 1/4 | 1/4 | 1/2                  |\n",
    "| W=H                  | 1/4 | 0   | 1/4                  |\n",
    "| W=T                  | 0   | 1/4 | 1/4                  |\n",
    "| Z<sub>marginal</sub> | 1/2 | 1/2 |                      |\n",
    "\n",
    "Hence the probability of getting heads in face-up is given by\n",
    "\n",
    "$$\n",
    "\\begin{align}\n",
    "\\mathbb{P}(Z=h|Y=h) \n",
    "&= \\mathbb{P}(Z=h|X=F) \\times \\mathbb{P}(X=F|Y=h) + \\mathbb{P}(Z=h|X=H) \\times \\mathbb{P}(X=H|Y=h) \\\\\n",
    "&= \\mathbb{P}(Z=h|X=F) \\times \\frac{\\mathbb{P}(X=F, Y=h)}{ \\mathbb{P}(Y=h)} + \\mathbb{P}(Z=h|X=H) \\times \\frac{\\mathbb{P}(X=H, Y=h)}{ \\mathbb{P}(Y=h)} \\\\\n",
    "&= \\frac{5}{8} \\times \\frac{1/5}{3/5} + \\frac{1}{2} \\times \\frac{2/5}{3/5}\\\\\n",
    "&= \\frac{13}{24}\n",
    "\\end{align}\n",
    "$$"
   ]
  },
  {
   "cell_type": "code",
   "execution_count": null,
   "metadata": {
    "collapsed": true
   },
   "outputs": [],
   "source": []
  }
 ],
 "metadata": {
  "kernelspec": {
   "display_name": "Python 3",
   "language": "python",
   "name": "python3"
  },
  "language_info": {
   "codemirror_mode": {
    "name": "ipython",
    "version": 3
   },
   "file_extension": ".py",
   "mimetype": "text/x-python",
   "name": "python",
   "nbconvert_exporter": "python",
   "pygments_lexer": "ipython3",
   "version": "3.4.3"
  }
 },
 "nbformat": 4,
 "nbformat_minor": 0
}
