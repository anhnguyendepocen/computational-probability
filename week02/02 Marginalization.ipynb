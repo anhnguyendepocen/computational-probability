{
 "cells": [
  {
   "cell_type": "markdown",
   "metadata": {},
   "source": [
    "## Marginalization\n",
    "\n",
    "Given a joint probability table, often we'll want to know what the probability table is for just one of the random variables. We can do this by just summing or “marginalizing\" out the other random variables. For example, to get the probability table for random variable $W$, we do the following:\n",
    "\n",
    "<img src=\"../images/images_sec-joint-rv-marg-rows.png\" alt=\"Drawing\" style=\"width: 400px;\"/>\n",
    "\n",
    "We take the joint probability table (left-hand side) and compute out the row sums (which we've written in the margin).\n",
    "\n",
    "The right-hand side table is the probability table pW for random variable $W$; we call this resulting probability distribution the marginal distribution of $W$ (put another way, it is the distribution obtained by marginalizing out the random variables that aren't $W$).\n",
    "\n",
    "In terms of notation, the above marginalization procedure whereby we used the joint distribution of $W$ and $T$ to produce the marginal distribution of $W$ is written:\n",
    "\n",
    "$$p_{W}(w)=\\sum _{t\\in \\mathcal{T}}p_{W,T}(w,t),$$\n",
    " \n",
    "where $\\mathcal{T}$ is the set of values that random variable $T$ can take on. In fact, throughout this course, we will often omit explicitly writing out the alphabet of values that a random variable takes on, e.g., writing instead\n",
    "\n",
    "$$p_{W}(w)=\\sum _{t}p_{W,T}(w,t).$$\n",
    " \n",
    "It's clear from context that we're summing over all possible values for $t$, which is going to be the values that random variable $T$ can possibly take on.\n",
    "\n",
    "As a specific example,\n",
    "\n",
    "$$p_{W}(\\text {rainy})=\\sum _{t}p_{W,T}(\\text {rainy},t)=\\underbrace{p_{W,T}(\\text {rainy},\\text {hot})}_{1/30}+\\underbrace{p_{W,T}(\\text {rainy},\\text {cold})}_{2/15}=\\frac{1}{6}.$$\n",
    " \n",
    "We could similarly marginalize out random variable $W$ to get the marginal distribution $p_T$ for random variable $T$:\n",
    "\n",
    "<img src=\"../images/images_sec-joint-rv-marg-cols.png\" alt=\"Drawing\" style=\"width: 400px;\"/>\n",
    "\n",
    "(Note that whether we write a probability table for a single variable horizontally or vertically doesn't actually matter.)\n",
    "\n",
    "As a formula, we would write:\n",
    "\n",
    "$$p_{T}(t)=\\sum _{w}p_{W,T}(w,t).$$\n",
    " \n",
    "For example,\n",
    "\n",
    "$$p_{T}(\\text {hot})=\\sum _{w}p_{W,T}(w,\\text {hot})=\\underbrace{p_{W,T}(\\text {sunny},\\text {hot})}_{3/10}+\\underbrace{p_{W,T}(\\text {rainy},\\text {hot})}_{1/30}+\\underbrace{p_{W,T}(\\text {snowy},\\text {hot})}_{0}=\\frac{1}{3}.$$\n",
    "\n",
    "In general:\n",
    "\n",
    "**Marginalization:** Consider two random variables $X$ and $Y$ (that take on values in the sets $\\mathcal{X}$ and $\\mathcal{Y}$ respectively) with joint probability table $p_{X,Y}$. For any $x∈\\mathcal{X}$, the marginal probability that $X=x$ is given by\n",
    "\n",
    "$$p_{X}(x)=\\sum _{y}p_{X,Y}(x,y).$$\n"
   ]
  },
  {
   "cell_type": "markdown",
   "metadata": {},
   "source": [
    "### Exercise: Marginalization\n",
    "\n",
    "Consider the following two joint probability tables.\n",
    "\n",
    "<img src=\"../images/images_sec-joint-rv-ex-marg.png\" alt=\"Drawing\" style=\"width: 400px;\"/>\n",
    "\n",
    "Express the probability table for random variable $X$ as a Python dictionary (the keys should be the Python strings 'sunny', 'rainy', and 'snowy'). (Your answer should be the Python dictionary itself, and not the dictionary assigned to a variable, so please do not include, for instance, “prob_table =\" before specifying your answer. You can use fractions. If you use decimals instead, please be accurate and use at least $5$ decimal places.)"
   ]
  },
  {
   "cell_type": "code",
   "execution_count": 1,
   "metadata": {
    "collapsed": true
   },
   "outputs": [],
   "source": [
    "p_X_Y = {\n",
    "    'sunny': {1: 1/4 ,  0: 1/4 },\n",
    "    'rainy': {1: 1/12,  0: 1/12},\n",
    "    'snowy': {1: 1/6 ,  0: 1/6 }\n",
    "}"
   ]
  },
  {
   "cell_type": "code",
   "execution_count": 2,
   "metadata": {
    "collapsed": false
   },
   "outputs": [
    {
     "data": {
      "text/plain": [
       "{'rainy': 0.16666666666666666, 'snowy': 0.3333333333333333, 'sunny': 0.5}"
      ]
     },
     "execution_count": 2,
     "metadata": {},
     "output_type": "execute_result"
    }
   ],
   "source": [
    "p_X = {}\n",
    "for key, value in p_X_Y.items():\n",
    "    p_X_value = 0\n",
    "    for key1, value1 in value.items():\n",
    "        p_X_value += value1\n",
    "    \n",
    "    p_X[key] = p_X_value\n",
    "    \n",
    "p_X"
   ]
  },
  {
   "cell_type": "markdown",
   "metadata": {},
   "source": [
    "Express the probability table for random variable $Y$ as a Python dictionary (the keys should be the Python integers $0$ and $1$). (Your answer should be the Python dictionary itself, and not the dictionary assigned to a variable, so please do not include, for instance, “prob_table =\" before specifying your answer. You can use fractions. If you use decimals instead, please be accurate and use at least 5 decimal places.)"
   ]
  },
  {
   "cell_type": "code",
   "execution_count": 3,
   "metadata": {
    "collapsed": false
   },
   "outputs": [
    {
     "data": {
      "text/plain": [
       "{0: 0.5, 1: 0.5}"
      ]
     },
     "execution_count": 3,
     "metadata": {},
     "output_type": "execute_result"
    }
   ],
   "source": [
    "p_Y = {}\n",
    "for key, value in p_X_Y.items():\n",
    "    for key1, value1 in value.items():\n",
    "        if key1 not in p_Y:\n",
    "            p_Y[key1] = value1\n",
    "            \n",
    "        else:\n",
    "            p_Y[key1] += value1\n",
    "\n",
    "p_Y           "
   ]
  },
  {
   "cell_type": "markdown",
   "metadata": {},
   "source": [
    "For two random variables $U$ and $V$ that take on values in the same alphabet, we say that $U$ and $V$ have the same distribution if $p_U(a)=p_V(a)$ for all $a$. For the above tables:\n",
    "\n",
    "Do $W$ and $X$ have the same distribution?"
   ]
  },
  {
   "cell_type": "code",
   "execution_count": 4,
   "metadata": {
    "collapsed": true
   },
   "outputs": [],
   "source": [
    "p_W_I = {\n",
    "    'sunny': {1: 1/2},\n",
    "    'rainy': {0: 1/6},\n",
    "    'snowy': {0: 1/3}\n",
    "}"
   ]
  },
  {
   "cell_type": "code",
   "execution_count": 5,
   "metadata": {
    "collapsed": false
   },
   "outputs": [
    {
     "data": {
      "text/plain": [
       "{'rainy': 0.16666666666666666, 'snowy': 0.3333333333333333, 'sunny': 0.5}"
      ]
     },
     "execution_count": 5,
     "metadata": {},
     "output_type": "execute_result"
    }
   ],
   "source": [
    "p_W = {}\n",
    "for key, value in p_W_I.items():\n",
    "    p_W_value = 0\n",
    "    for key1, value1 in value.items():\n",
    "        p_W_value += value1\n",
    "    \n",
    "    p_W[key] = p_W_value\n",
    "    \n",
    "p_W"
   ]
  },
  {
   "cell_type": "code",
   "execution_count": 6,
   "metadata": {
    "collapsed": true
   },
   "outputs": [],
   "source": [
    "def is_samePMF(X, Y):\n",
    "    \"\"\"\n",
    "    Retrun True if both are same PMF else false\n",
    "    \n",
    "    >>> is_samePMF({5: 0.8999999999999999, 7: 0.1}, {5: 0.9, 7: 0.1})\n",
    "    True\n",
    "    \n",
    "    >>> is_samePMF({5: 0.7, 7: 0.3}, {5: 0.9, 7: 0.1})\n",
    "    False\n",
    "    \n",
    "    >>> is_samePMF({6: 0.8999999999999999, 7: 0.1}, {5: 0.9, 7: 0.1})\n",
    "    False\n",
    "    \n",
    "    >>> is_samePMF(dict(), {5: 0.9, 7: 0.1})\n",
    "    False\n",
    "    \n",
    "    >>> is_samePMF({5: 0.9, 7: 0.1}, {5: 0.1})\n",
    "    False\n",
    "    \"\"\"\n",
    "    if not X.keys() == Y.keys():\n",
    "        return False \n",
    "    \n",
    "    else:\n",
    "        for key, value in X.items():\n",
    "            if (abs(X[key] - Y[key]) > 0.00001):\n",
    "                return False\n",
    "\n",
    "        return True\n",
    "\n",
    "if __name__ == \"__main__\":\n",
    "    import doctest\n",
    "    doctest.testmod()"
   ]
  },
  {
   "cell_type": "code",
   "execution_count": 7,
   "metadata": {
    "collapsed": false
   },
   "outputs": [
    {
     "data": {
      "text/plain": [
       "True"
      ]
     },
     "execution_count": 7,
     "metadata": {},
     "output_type": "execute_result"
    }
   ],
   "source": [
    "is_samePMF(p_W, p_X)"
   ]
  },
  {
   "cell_type": "markdown",
   "metadata": {},
   "source": [
    "Do I and Y have the same distribution?"
   ]
  },
  {
   "cell_type": "code",
   "execution_count": 8,
   "metadata": {
    "collapsed": false
   },
   "outputs": [
    {
     "data": {
      "text/plain": [
       "{0: 0.5, 1: 0.5}"
      ]
     },
     "execution_count": 8,
     "metadata": {},
     "output_type": "execute_result"
    }
   ],
   "source": [
    "p_I = {}\n",
    "for key, value in p_W_I.items():\n",
    "    for key1, value1 in value.items():\n",
    "        if key1 not in p_I:\n",
    "#             print(key1, value1)\n",
    "            p_I[key1] = value1\n",
    "            \n",
    "        else:\n",
    "#             print(p_I, key1, value1)\n",
    "            p_I[key1] += value1\n",
    "\n",
    "p_I      "
   ]
  },
  {
   "cell_type": "code",
   "execution_count": 9,
   "metadata": {
    "collapsed": false
   },
   "outputs": [
    {
     "data": {
      "text/plain": [
       "True"
      ]
     },
     "execution_count": 9,
     "metadata": {},
     "output_type": "execute_result"
    }
   ],
   "source": [
    "is_samePMF(p_I, p_Y)"
   ]
  },
  {
   "cell_type": "markdown",
   "metadata": {},
   "source": [
    "**True or false:** Consider two random variables (S,T) and (U,V), where S and U have the same distribution, and T and V have the same distribution. Then (S,T) and (U,V) have the same joint distribution.\n",
    "\n",
    "False"
   ]
  },
  {
   "cell_type": "markdown",
   "metadata": {},
   "source": [
    "## Marginalization for Many Random Variables"
   ]
  },
  {
   "cell_type": "markdown",
   "metadata": {},
   "source": [
    "What happens when we have more than two random variables? Let's build on our earlier example and suppose that in addition to weather $W$ and temperature $T$, we also had a random variable $H$ for humidity that takes on values in the alphabet {dry, humid}. Then having a third random variable, we can draw out a 3D joint probability table for random variables $W, T$, and $H$. As an example, we could have the following:\n",
    "\n",
    "<img src=\"../images/images_sec-joint-rv-marg-many-rv-joint-table.png\" alt=\"Drawing\" style=\"width: 400px;\"/>\n",
    "\n",
    "Here, each of the cubes/boxes stores a probability. Not visible are two of the cubes in the back left column, which for this particular example both have probability values of $0$.\n",
    "\n",
    "Then to marginalize out the humidity $H$, we would add values as follows:\n",
    "\n",
    "<img src=\"../images/images_sec-joint-rv-marg-many-rv-marg.png\" alt=\"Drawing\" style=\"width: 400px;\"/>\n",
    "\n",
    "The result is the joint probability table for weather W and temperature $T$, shown still in 3D cubes with each cube storing a single probability.\n",
    "\n",
    "As an equation:\n",
    "\n",
    "$$p_{W,T}(w,t) = \\sum _ h p_{W,T,H}(w, t, h).$$\n",
    " \n",
    "In general, for three random variables $X, Y$, and $Z$ with joint probability table $p_\\{X,Y,Z\\}$, we have\n",
    "\n",
    "$$\n",
    "begin{align}\n",
    "p_{X,Y}(x,y) &=& \\sum_{z} p_{X,Y,Z}(x,y,z), \\\\\n",
    "p_{X,Z}(x,z) &=& \\sum_{y} p_{X,Y,Z}(x,y,z), \\\\\n",
    "p_{Y,Z}(y,z) &=& \\sum_{x} p_{X,Y,Z}(x,y,z).\n",
    "\\end{align}\n",
    "$$\n",
    "\n",
    "Note that we can marginalize out different random variables in succession. For example, given joint probability table $p_\\{X,Y,Z\\}$, if we wanted the probability table $p_X$, we can get it by marginalizing out the two random variables $Y$ and $Z$:\n",
    "\n",
    "$$p_ X(x) = \\sum _{y} p_{X,Y}(x,y) = \\sum _{y} \\Big( \\sum _{z} p_{X,Y,Z}(x,y,z) \\Big).$$\n",
    " \n",
    "Even with more than three random variables, the idea is the same. For example, with four random variables $W, X, Y$, and $Z$ with joint probability table $p_\\{X,Y,Z\\}$, if we want the joint probability table for $X$ and $Y$, we would do the following:\n",
    "\n",
    "$$p_{X,Y}(x, y) = \\sum_w \\Big( \\sum_z p_{W,X,Y,Z}(w,x,y,z) \\Big).$$"
   ]
  },
  {
   "cell_type": "markdown",
   "metadata": {},
   "source": [
    "### Exercise: Marginalization for Many Random Variables\n",
    "\n",
    "Suppose that we have the joint probability table $p_{V,W,X,Y,Z}$ where random variable $V$ takes on $k$ values (i.e., the alphabet for $V$ has $k$ elements in it), $W$ takes on $ℓ$ values, $X$ takes on $m$ values, $Y$ takes on $n$ values, and $Z$ takes on $o$ values.\n",
    "\n",
    "1.  **Question:** How many entries are in the joint probability table $p_{V,W,X,Y,Z}$?\n",
    "\n",
    "    **Answer:** $k \\times \\ell \\times m \\times n \\times o$\n",
    "    \n",
    "    $ $\n",
    "2.  **Question:** If we marginalize out $X$ and $Z$, the resulting joint probability table is for which random    variables? (You can select multiple options.)\n",
    "\n",
    "    **Answer:** $V, W$ and $Y$\n",
    "    \n",
    "    $ $\n",
    "3. **Question:** If we marginalize out $V, Y,$ and $Z$, the resulting joint probability table has how many entries?\n",
    "\n",
    "    **Answer:** $\\ell \\times m$"
   ]
  },
  {
   "cell_type": "markdown",
   "metadata": {},
   "source": [
    "Now suppose that we have the joint probability table $p_{X,Y,Z}$ for three random variables $X, Y,$ and $Z$. We want to compute the probability table $p_X$ for random variable $X$.\n",
    "\n",
    "1. **True or false:** If we marginalize out $Z$ first and then $Y$, or if we marginalize out $Y$ first and then $Z$, we get the same answer for the probability table $p_X$. In other words, we have\n",
    "\n",
    "    $$p_X(x) = \\sum _y \\Big( \\sum_z p_{X,Y,Z}(x,y,z)\\Big) = \\sum_z \\Big( \\sum_y p_{X,Y,Z}(x,y,z) \\Big).$$\n",
    "\n",
    "    **Answer:** True"
   ]
  },
  {
   "cell_type": "code",
   "execution_count": null,
   "metadata": {
    "collapsed": true
   },
   "outputs": [],
   "source": []
  }
 ],
 "metadata": {
  "kernelspec": {
   "display_name": "Python 3",
   "language": "python",
   "name": "python3"
  },
  "language_info": {
   "codemirror_mode": {
    "name": "ipython",
    "version": 3
   },
   "file_extension": ".py",
   "mimetype": "text/x-python",
   "name": "python",
   "nbconvert_exporter": "python",
   "pygments_lexer": "ipython3",
   "version": "3.4.3"
  }
 },
 "nbformat": 4,
 "nbformat_minor": 0
}
